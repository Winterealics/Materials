{
 "cells": [
  {
   "cell_type": "markdown",
   "id": "a7a529db",
   "metadata": {},
   "source": [
    "Name your Jupyter Notebook as `<your name>.ipynb`\n",
    "---\n"
   ]
  },
  {
   "cell_type": "markdown",
   "id": "451ed2c3",
   "metadata": {},
   "source": [
    "# Question 1\n",
    "\n",
    "A word search puzzle is a word game that consists of the letters of words placed in a grid. The puzzle a rectangular or square of dimension $m\\times n$. In a variant of the puzzle, the words can only be formed by going vertical or horizontal from a position.\n",
    "\n",
    "For example,\n",
    "\n",
    "<center>\n",
    "\n",
    "<img src=\"word_search.png\" width=\"600\" align=\"center\"/>\n",
    "\n",
    "</center>\n",
    "\n",
    "The grid can be represented with a nested list. For example, the grid above can be represented as\n",
    "\n",
    "```python\n",
    "[\n",
    "    ['T','I','E','L','C','E'],\n",
    "    ['T','E','U','C','A','C'],\n",
    "    ['L','D','R','T','R','I'],\n",
    "    ['O','E','H','O','D','D'],\n",
    "    ['C','L','U','E','C','L'],\n",
    "    ['H','C','T','A','M','S'],\n",
    "]\n",
    "```\n",
    "\n",
    "For the sample test cases in the tasks, `grid` takes the value of the nested list above."
   ]
  },
  {
   "cell_type": "markdown",
   "id": "6700ff9a",
   "metadata": {},
   "source": [
    "---\n",
    "For each of the task, add a comment statement, at the beginning of the code using the hash symbol `#`, to indicate the task the prograd code belongs to, for example:\n",
    "```python\n",
    "> # Task 1\n",
    "> Program Code\n",
    "```\n",
    "Output:"
   ]
  },
  {
   "cell_type": "markdown",
   "id": "f804bf30",
   "metadata": {},
   "source": [
    "## Task 1\n",
    "Write the function `read_grid()`, to read in the data from a text file. The function needs to:\n",
    "- take the name of a file (including extension) as input\n",
    "- return the list representing the word search puzzle grid. Each element of the list is a list containing the letters from a row of the puzzle grid.\n",
    "\n",
    "Call your function `read_grid` with the file `grid.txt`, printing the returned list using the following statements:\n",
    "\n",
    "```python\n",
    "grid = read_grid('grid.txt')\n",
    "print(grid)\n",
    "```\n",
    "The output should look similar to the grid illustrated above. You do not need to do any formatting of the output.\n",
    "\n",
    "<div style=\"text-align: right\">[3]</div>"
   ]
  },
  {
   "cell_type": "code",
   "execution_count": 2,
   "id": "8b506620",
   "metadata": {},
   "outputs": [
    {
     "data": {
      "text/plain": [
       "[['T', 'I', 'E', 'L', 'C', 'E'],\n",
       " ['T', 'E', 'U', 'C', 'A', 'C'],\n",
       " ['L', 'D', 'R', 'T', 'R', 'I'],\n",
       " ['O', 'E', 'H', 'O', 'D', 'D'],\n",
       " ['C', 'L', 'U', 'E', 'C', 'L'],\n",
       " ['H', 'C', 'T', 'A', 'M', 'S']]"
      ]
     },
     "execution_count": 2,
     "metadata": {},
     "output_type": "execute_result"
    }
   ],
   "source": [
    "# Task 1\n",
    "import csv\n",
    "\n",
    "def read_grid(gridFile):\n",
    "    with open(gridFile, 'r') as f:\n",
    "        reader = list(csv.reader(f))\n",
    "\n",
    "    return reader\n",
    "\n",
    "grid = read_grid('grid.txt')\n",
    "grid"
   ]
  },
  {
   "cell_type": "markdown",
   "id": "dbf9a13a",
   "metadata": {},
   "source": [
    "## Task 2\n",
    "Write the function `first_letter_search()` that:\n",
    "- takes 2 parameters:\n",
    "    - a string `letter` that represents the first character of the word to be searched,\n",
    "    - a list `grid` that represents the word search grid\n",
    "- returns a list containing lists `[i,j]` where the value of the `j`-th element of the `i`-th element of `grid` is the same as the first character of the word to be searched. \n",
    "<div style=\"text-align: right\">[3]</div>\n",
    "\n",
    "### Test Cases\n",
    "```python\n",
    "first_letter_search('C', grid)\n",
    "> [[0, 4], [1, 3], [1, 5], [4, 0], [4, 4], [5, 1]]\n",
    "\n",
    "first_letter_search('S', grid)\n",
    "> [[5,5]]\n",
    "\n",
    "first_letter_search('X', grid)\n",
    "> []\n",
    "```"
   ]
  },
  {
   "cell_type": "code",
   "execution_count": 3,
   "id": "0ae1e920",
   "metadata": {},
   "outputs": [
    {
     "name": "stdout",
     "output_type": "stream",
     "text": [
      "[[0, 4], [1, 3], [1, 5], [4, 0], [4, 4], [5, 1]]\n",
      "[[5, 5]]\n",
      "[]\n"
     ]
    }
   ],
   "source": [
    "# Task 2\n",
    "\n",
    "def first_letter_search(letter, grid):\n",
    "    posList = []\n",
    "\n",
    "    for i, c in enumerate(grid): #iterate down each row\n",
    "\n",
    "        for j, d in enumerate(c): #iterate through each column\n",
    "\n",
    "            if d == letter:\n",
    "                posList += [[i, j]]\n",
    "\n",
    "    return posList\n",
    "\n",
    "print(first_letter_search('C', grid))\n",
    "print(first_letter_search('S', grid))\n",
    "print(first_letter_search('X', grid))"
   ]
  },
  {
   "cell_type": "markdown",
   "id": "0dd2acc6",
   "metadata": {},
   "source": [
    "## Task 3\n",
    "Write the function `get_vertical()` that:\n",
    "- takes 3 parameters:\n",
    "    - a list `grid` that represents the word search grid\n",
    "    - a list `position` that represents the index on which the words are to be formed in a vertical fashion\n",
    "    - an integer `word_length` that represents the number of characters of the word to be searched\n",
    "- return a list of strings that represents the words formed of the required length\n",
    "<div style=\"text-align: right\">[5]</div>\n",
    "\n",
    "### Test Cases\n",
    "```python\n",
    "get_vertical(grid,[1,1],2)\n",
    "> ['EI', 'ED']\n",
    "\n",
    "get_vertical(grid,[0,0],4)\n",
    "> ['TTLO']\n",
    "```"
   ]
  },
  {
   "cell_type": "code",
   "execution_count": 4,
   "id": "5c07185b",
   "metadata": {},
   "outputs": [
    {
     "name": "stdout",
     "output_type": "stream",
     "text": [
      "['EI', 'ED']\n",
      "['TTLO']\n"
     ]
    }
   ],
   "source": [
    "# Task 3\n",
    "\n",
    "def get_vertical(grid, position, word_length):\n",
    "    wordList = []\n",
    "    columnList = [c[position[1]] for c in grid] #list of letters in the column\n",
    "\n",
    "    if position[0] >= word_length - 1: #find backwards word\n",
    "        word = ''\n",
    "        for c in range(word_length):\n",
    "            word += columnList[position[0] - c]\n",
    "        wordList += [word]\n",
    "\n",
    "    if len(columnList) - position[0] >= word_length: #find forwards word\n",
    "        word = ''\n",
    "        for c in range(word_length):\n",
    "            word += columnList[position[0] + c]\n",
    "        wordList += [word]\n",
    "\n",
    "    return wordList\n",
    "\n",
    "print(get_vertical(grid, [1, 1], 2))\n",
    "print(get_vertical(grid, [0, 0], 4))"
   ]
  },
  {
   "cell_type": "markdown",
   "id": "92c1ad78",
   "metadata": {},
   "source": [
    "## Task 4\n",
    "Write the function `get_horizontal()` that:\n",
    "- takes 3 parameters:\n",
    "    - a list `grid` that represents the word search grid\n",
    "    - a list `position` that represents the index on which the words are to be formed in a horizontal fashion\n",
    "    - an integer `word_length` that represents the number of characters of the word to be searched\n",
    "- return a list of strings that represents the words formed of the required length\n",
    "<div style=\"text-align: right\">[5]</div>\n",
    "\n",
    "### Test Cases\n",
    "```python\n",
    "get_horizontal(grid,[1,1],2)\n",
    "> ['ET', 'EU']\n",
    "\n",
    "get_horizontal(grid,[3,4],4)\n",
    "> ['DOHE']\n",
    "```"
   ]
  },
  {
   "cell_type": "code",
   "execution_count": 5,
   "id": "44762780",
   "metadata": {},
   "outputs": [
    {
     "name": "stdout",
     "output_type": "stream",
     "text": [
      "['ET', 'EU']\n",
      "['DOHE']\n"
     ]
    }
   ],
   "source": [
    "# Task 4\n",
    "def get_horizontal(grid, position, word_length):\n",
    "    wordList = []\n",
    "    rowList = grid[position[0]]\n",
    "    \n",
    "    if position[1] >= word_length - 1: #find backwards word\n",
    "        word = ''\n",
    "        for c in range(word_length):\n",
    "            word += rowList[position[1] - c]\n",
    "        wordList += [word]\n",
    "\n",
    "    if len(rowList) - position[1] >= word_length: #find forwards word\n",
    "        word = ''\n",
    "        for c in range(word_length):\n",
    "            word += rowList[position[1] + c]\n",
    "        wordList += [word]\n",
    "\n",
    "    return wordList\n",
    "\n",
    "print(get_horizontal(grid,[1,1],2))\n",
    "print(get_horizontal(grid,[3, 4],4))"
   ]
  },
  {
   "cell_type": "markdown",
   "id": "7b65852b",
   "metadata": {},
   "source": [
    "## Task 5\n",
    "Write the function `find_position()`that\n",
    "- takes 2 parameters:\n",
    "    - a string `word` that represents the word to be searched in the grid.\n",
    "    - a list `grid` that represents the word search grid.\n",
    "- return \n",
    "    - a list `[i,j]` such that the word being searched starts at that position in the grid\n",
    "    - otherwise, the word cannot be found, return the string 'Word cannot be found vertically nor horizontally in the grid'\n",
    "<div style=\"text-align: right\">[5]</div>\n",
    "\n",
    "### Test Cases\n",
    "```python\n",
    "find_position('DICE', grid)\n",
    "> [3,5]\n",
    "\n",
    "find_position('TIE', grid)\n",
    "> [0,0]\n",
    "```"
   ]
  },
  {
   "cell_type": "code",
   "execution_count": 7,
   "id": "5a28c2b4",
   "metadata": {},
   "outputs": [
    {
     "name": "stdout",
     "output_type": "stream",
     "text": [
      "[3, 5]\n",
      "[0, 0]\n",
      "\"CACTUS\" cannot be found vertically nor horizontally on the grid.\n"
     ]
    }
   ],
   "source": [
    "# Task 5\n",
    "\n",
    "def find_position(word, grid):\n",
    "    firstLetter = word[0]\n",
    "    posList = first_letter_search(firstLetter, grid)\n",
    "\n",
    "    for position in posList:\n",
    "        checkList = []\n",
    "        checkList += get_vertical(grid, position, len(word))\n",
    "        checkList += get_horizontal(grid, position, len(word))\n",
    "\n",
    "        if word in checkList:\n",
    "            return position\n",
    "        \n",
    "    return(f'\"{word}\" cannot be found vertically nor horizontally on the grid.')\n",
    "\n",
    "print(find_position('DICE', grid))\n",
    "print(find_position('TIE', grid))\n",
    "print(find_position('CACTUS', grid))"
   ]
  }
 ],
 "metadata": {
  "kernelspec": {
   "display_name": "Python 3",
   "language": "python",
   "name": "python3"
  },
  "language_info": {
   "codemirror_mode": {
    "name": "ipython",
    "version": 3
   },
   "file_extension": ".py",
   "mimetype": "text/x-python",
   "name": "python",
   "nbconvert_exporter": "python",
   "pygments_lexer": "ipython3",
   "version": "3.12.1"
  }
 },
 "nbformat": 4,
 "nbformat_minor": 5
}
