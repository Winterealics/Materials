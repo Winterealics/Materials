{
 "cells": [
  {
   "cell_type": "markdown",
   "id": "451ed2c3",
   "metadata": {},
   "source": [
    "# Question 1\n",
    "\n",
    "A word search puzzle is a word game that consists of the letters of words placed in a grid. The puzzle a rectangular or square of dimension $m\\times n$. In a variant of the puzzle, the words can only be formed by going vertical or horizontal from a position.\n",
    "\n",
    "For example,\n",
    "\n",
    "<center>\n",
    "\n",
    "<img src=\"word_search.png\" width=\"600\" align=\"center\"/>\n",
    "\n",
    "</center>\n",
    "\n",
    "The grid can be represented with a nested list. For example, the grid above can be represented as\n",
    "\n",
    "```python\n",
    "[\n",
    "    ['T','I','E','L','C','E'],\n",
    "    ['T','E','U','C','A','C'],\n",
    "    ['L','D','R','T','R','I'],\n",
    "    ['O','E','H','O','D','D'],\n",
    "    ['C','L','U','E','C','L'],\n",
    "    ['H','C','T','A','M','S'],\n",
    "]\n",
    "```\n",
    "\n",
    "For the sample test cases in the tasks, `grid` takes the value of the nested list above.\n",
    " \n",
    "## Task 1\n",
    "Write the function `read_grid()`, to read in the data from a text file. The function needs to:\n",
    "- take the name of a file(including extension) as input\n",
    "- return the list representing the word search puzzle grid.\n",
    "\n",
    "Call your function `read_grid` with the file `grid.txt`, printing the returned list using the following statements:\n",
    "\n",
    "```python\n",
    "grid = read_grid('grid.txt')\n",
    "print(grid)\n",
    "```\n",
    "<div style=\"text-align: right\">[3]</div>"
   ]
  },
  {
   "cell_type": "code",
   "execution_count": 2,
   "id": "8b506620",
   "metadata": {},
   "outputs": [
    {
     "name": "stdout",
     "output_type": "stream",
     "text": [
      "[['T', 'I', 'E', 'L', 'C', 'E'], ['T', 'E', 'U', 'C', 'A', 'C'], ['L', 'D', 'R', 'T', 'R', 'I'], ['O', 'E', 'H', 'O', 'D', 'D'], ['C', 'L', 'U', 'E', 'C', 'L'], ['H', 'C', 'T', 'A', 'M', 'S']]\n"
     ]
    }
   ],
   "source": [
    "# INSERT CODE HERE\n",
    "import csv\n",
    "def read_grid(file_name: str)->list:\n",
    "    with open(file_name) as f:\n",
    "        return list(csv.reader(f)) \n",
    "\n",
    "grid = read_grid('grid.txt')\n",
    "print(grid)"
   ]
  },
  {
   "cell_type": "markdown",
   "id": "dbf9a13a",
   "metadata": {},
   "source": [
    "## Task 2\n",
    "Write the function `first_letter_search()` that:\n",
    "- takes 2 parameters:\n",
    "    - a string `letter` that represents the first character of the word to be searched,\n",
    "    - a list `grid` that represents the word search grid\n",
    "- returns a list containing lists `[i,j]` where the value of the `j`-th element of the `i`-th element of `grid` is the same as the first character of the word to be searched. \n",
    "<div style=\"text-align: right\">[3]</div>\n",
    "\n",
    "### Test Cases\n",
    "```python\n",
    "first_letter_search('C', grid)\n",
    "> [[0, 4], [1, 3], [1, 5], [4, 0], [4, 4], [5, 1]]\n",
    "\n",
    "first_letter_search('S', grid)\n",
    "> [[5,5]]\n",
    "\n",
    "first_letter_search('X', grid)\n",
    "> []\n",
    "```"
   ]
  },
  {
   "cell_type": "code",
   "execution_count": 3,
   "id": "0ae1e920",
   "metadata": {},
   "outputs": [
    {
     "data": {
      "text/plain": [
       "[[0, 4], [1, 3], [1, 5], [4, 0], [4, 4], [5, 1]]"
      ]
     },
     "execution_count": 3,
     "metadata": {},
     "output_type": "execute_result"
    }
   ],
   "source": [
    "# Solution 1: nested for loop\n",
    "def first_letter_search(letter_to_search: str, grid: list)->list:\n",
    "    letter_positions = []\n",
    "    for row_num, row in enumerate(grid):\n",
    "        for column_num, letter in enumerate(row):\n",
    "            if letter == letter_to_search:\n",
    "                letter_positions.append([row_num, column_num])\n",
    "    return letter_positions\n",
    "\n",
    "first_letter_search('C', grid)"
   ]
  },
  {
   "cell_type": "code",
   "execution_count": 4,
   "id": "213eba1b",
   "metadata": {},
   "outputs": [],
   "source": [
    "# Solution 2: list comprehension\n",
    "def first_letter_search(letter,grid):\n",
    "    return [[i,j] for i in range(len(grid)) for j in range(len(grid[0])) if grid[i][j] == letter]"
   ]
  },
  {
   "cell_type": "markdown",
   "id": "0dd2acc6",
   "metadata": {},
   "source": [
    "## Task 3\n",
    "Write the function `get_vertical()` that:\n",
    "- takes 3 parameters:\n",
    "    - a list `grid` that represents the word search grid\n",
    "    - a list `position` that represents the index on which the words are to be formed in a vertical fashion\n",
    "    - an integer `word_length` that represents the number of characters of the word to be searched\n",
    "- return a list of strings that represents the words formed of the required length\n",
    "<div style=\"text-align: right\">[5]</div>\n",
    "\n",
    "### Test Cases\n",
    "```python\n",
    "get_vertical(grid,[1,1],2)\n",
    "> ['EI', 'ED']\n",
    "\n",
    "get_vertical(grid,[0,0],4)\n",
    "> ['TTLO']\n",
    "```"
   ]
  },
  {
   "cell_type": "code",
   "execution_count": 15,
   "id": "5c07185b",
   "metadata": {},
   "outputs": [
    {
     "name": "stdout",
     "output_type": "stream",
     "text": [
      "['EDE']\n",
      "[]\n",
      "['CDR']\n",
      "['CD', 'CM']\n"
     ]
    }
   ],
   "source": [
    "# Solution 1: a for loop for traversing up, another for traversing down\n",
    "def get_vertical(grid:list, position:list, word_length:int)->list:\n",
    "    words = []\n",
    "    num_rows = len(grid)\n",
    "    y = position[0]\n",
    "    x = position[1]\n",
    "    end_word_index_up = y - word_length + 1\n",
    "    end_word_index_down = y + word_length - 1\n",
    "\n",
    "    if end_word_index_up >= 0:\n",
    "        word = ''\n",
    "        for i in range(y, end_word_index_up - 1, -1):\n",
    "            word += grid[i][x]\n",
    "        words.append(word)\n",
    "    if end_word_index_down <= num_rows - 1:\n",
    "        word = ''\n",
    "        for i in range(y, end_word_index_down + 1, 1):\n",
    "            word += grid[i][x]\n",
    "        words.append(word)\n",
    "    return words\n",
    "\n",
    "print(get_vertical(grid, [1,1], 3)) #up fail, down pass\n",
    "print(get_vertical(grid, [1,1], 6)) #up fail, down fail\n",
    "print(get_vertical(grid, [4,4], 3)) #up pass, down fail\n",
    "print(get_vertical(grid, [4,4], 2)) #up pass, down pass"
   ]
  },
  {
   "cell_type": "code",
   "execution_count": 16,
   "id": "c570b649",
   "metadata": {},
   "outputs": [
    {
     "name": "stdout",
     "output_type": "stream",
     "text": [
      "['EDE']\n",
      "[]\n",
      "['CDR']\n",
      "['CD', 'CM']\n"
     ]
    }
   ],
   "source": [
    "# Solution 2: a single for loop to traverse both up and down simultaneously\n",
    "def get_vertical(grid,position,word_length):\n",
    "    grid_vert = len(grid)\n",
    "    chars_up = []\n",
    "    chars_down =  []\n",
    "    for i in range(word_length):\n",
    "        if position[0] - i >= 0:\n",
    "            chars_up.append(grid[position[0]-i][position[1]])\n",
    "        if position[0] + i < grid_vert :\n",
    "            chars_down.append(grid[position[0]+i][position[1]])\n",
    "    word_list = [''.join(chars_up),''.join(chars_down)]\n",
    "    word_list = [w for w in word_list if len(w) == word_length]\n",
    "    return word_list\n",
    "\n",
    "print(get_vertical(grid, [1,1], 3)) #up fail, down pass\n",
    "print(get_vertical(grid, [1,1], 6)) #up fail, down fail\n",
    "print(get_vertical(grid, [4,4], 3)) #up pass, down fail\n",
    "print(get_vertical(grid, [4,4], 2)) #up pass, down pass"
   ]
  },
  {
   "cell_type": "markdown",
   "id": "92c1ad78",
   "metadata": {},
   "source": [
    "## Task 4\n",
    "Write the function `get_horizontal()` that:\n",
    "- takes 3 parameters:\n",
    "    - a list `grid` that represents the word search grid\n",
    "    - a list `position` that represents the index on which the words are to be formed in a horizontal fashion\n",
    "    - an integer `word_length` that represents the number of characters of the word to be searched\n",
    "- return a list of strings that represents the words formed of the required length\n",
    "<div style=\"text-align: right\">[5]</div>\n",
    "\n",
    "### Test Cases\n",
    "```python\n",
    "get_horizontal(grid,[1,1],2)\n",
    "> ['ET', 'EU']\n",
    "\n",
    "get_horizontal(grid,[3,4],4)\n",
    "> ['DOHE']\n",
    "```"
   ]
  },
  {
   "cell_type": "code",
   "execution_count": null,
   "id": "43902978",
   "metadata": {},
   "outputs": [],
   "source": [
    "# Solution 1: Adapting get_vertical\n",
    "def get_horizontal(grid,position,word_length):\n",
    "    grid_horz = len(grid[0]) # number of characters in the first row = number of columns in grid\n",
    "    chars_left = []\n",
    "    chars_right =  []\n",
    "    for i in range(word_length):\n",
    "        if position[1] - i >=0:\n",
    "            chars_left.append(grid[position[0]][position[1]-i])\n",
    "        if position[1] + i < grid_horz:\n",
    "            chars_right.append(grid[position[0]][position[1]+i])\n",
    "    word_list = [''.join(chars_left),''.join(chars_right)]\n",
    "    word_list = [w for w in word_list if len(w) == word_length]\n",
    "    return word_list "
   ]
  },
  {
   "cell_type": "code",
   "execution_count": null,
   "id": "44762780",
   "metadata": {},
   "outputs": [
    {
     "data": {
      "text/plain": [
       "['DOHE']"
      ]
     },
     "execution_count": 7,
     "metadata": {},
     "output_type": "execute_result"
    }
   ],
   "source": [
    "# Solution 2: Transpose Grid\n",
    "def transpose(grid: list)->list:\n",
    "    return [[grid[j][i] for j in range(len(grid[i]))] for i in range(len(grid))]\n",
    "\n",
    "def get_horizontal(grid:list, position:list, word_length:int)->list:\n",
    "    transposed_grid = transpose(grid)\n",
    "    transposed_position = [position[1], position[0]]\n",
    "    return get_vertical(transposed_grid, transposed_position, word_length)\n",
    "\n",
    "get_horizontal(grid, [3,4], 4)"
   ]
  },
  {
   "cell_type": "markdown",
   "id": "7b65852b",
   "metadata": {},
   "source": [
    "## Task 5\n",
    "Write the function `find_position()`that\n",
    "- takes 2 parameters:\n",
    "    - a string `word` that represents the word to be searched in the grid.\n",
    "    - a list `grid` that represents the word search grid.\n",
    "- return \n",
    "    - a list `[i,j]` such that the word being searched starts at that position in the grid\n",
    "    - otherwise, the word cannot be found, return the string 'Word cannot be found vertically nor horizontally in the grid'\n",
    "<div style=\"text-align: right\">[5]</div>\n",
    "\n",
    "```python\n",
    "find_position('DICE', grid)\n",
    "> [3,5]\n",
    "\n",
    "find_position('TIE', grid)\n",
    "> [0,0]\n",
    "```"
   ]
  },
  {
   "cell_type": "code",
   "execution_count": null,
   "id": "6e5762ac",
   "metadata": {},
   "outputs": [],
   "source": [
    "def find_position(word,grid):\n",
    "    candidates = first_letter_search(word[0],grid)\n",
    "\n",
    "    for position in candidates:\n",
    "        if word in get_vertical(grid,position,len(word)) :\n",
    "            return position\n",
    "        if word in get_horizontal(grid,position,len(word)) :\n",
    "            return position\n",
    "    \n",
    "    return 'Word cannot be found vertically nor horizontally in the grid'"
   ]
  }
 ],
 "metadata": {
  "kernelspec": {
   "display_name": "Python 3",
   "language": "python",
   "name": "python3"
  },
  "language_info": {
   "codemirror_mode": {
    "name": "ipython",
    "version": 3
   },
   "file_extension": ".py",
   "mimetype": "text/x-python",
   "name": "python",
   "nbconvert_exporter": "python",
   "pygments_lexer": "ipython3",
   "version": "3.7.7"
  }
 },
 "nbformat": 4,
 "nbformat_minor": 5
}
