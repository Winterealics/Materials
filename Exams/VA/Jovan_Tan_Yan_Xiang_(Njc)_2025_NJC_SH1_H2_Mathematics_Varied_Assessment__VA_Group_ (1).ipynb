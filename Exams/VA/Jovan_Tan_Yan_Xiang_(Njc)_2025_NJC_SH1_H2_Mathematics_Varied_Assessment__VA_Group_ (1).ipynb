{
  "cells": [
    {
      "cell_type": "markdown",
      "id": "5afec06d",
      "metadata": {
        "id": "5afec06d"
      },
      "source": [
        "# 2025 SH1 H2 Mathematics Varied Assessment (VA)\n",
        "The weightage of this VA is 10% of your overall SH1 H2 Mathematics grade.\n",
        "\n",
        "# Tasks and Requirements\n",
        "This task is to be completed as a group. Each group consists of 3 to 4 students. Please check your grouping in the post on Google Classroom.\n",
        "\n",
        "There are two parts to this assignment: Task A and Task B.\n",
        "- In your group, you will need to complete Task A and one assigned option in Task B.\n",
        "- The submission deadline is 8 July 2025, 12pm.\n",
        "- Replace the `<VA Group>` in the `.ipynb` file title with your VA group, e.g., `1ma2A_01`. Only one submission per group is required in your H2 Mathematics subject class Google Classroom.\n",
        "- Your group’s work is considered to have been submitted only after a member of your group clicks the “Turn in” button.\n",
        "\n",
        "## Penalty for Late Submission\n",
        "\n",
        "|Submission date and time | 8 July (Tue) after 12 noon to 9 July (Wed) 12 noon |After 9 July (Wed) 12 noon\n",
        "--------------------------|----------------------------------------------------|--------\n",
        "Percentage deduction of your score | 50 | 100"
      ]
    },
    {
      "cell_type": "markdown",
      "id": "6f29be1a",
      "metadata": {
        "id": "6f29be1a"
      },
      "source": [
        "# Task A.1\n",
        "The curve $C$ is the graph of the rational function $$f(x)=\\frac{ax+b}{x+c},$$ where $a$, $b$, $c$ are real constants.\n",
        "\n",
        "## Task A.1.1\n",
        "Write a function `taska_1_1()` that takes three parameters `a`,`b`,`c` that represented $a$, $b$, $c$ in the rational function $f$ defined above.\n",
        "\n",
        "The function should return\n",
        "- the tuple `(x,y)` representing the unique coordinates of the $x$-intercept of $C$, if it exists.\n",
        "- the string `x-axis` if the $x$-intercept is not unique.\n",
        "- the string `N.A` if $x$-intercept does not exist\n",
        "\n",
        "### Example test case\n",
        "\n",
        "```python\n",
        "taska_1_1(1,1,0)\n",
        "> (-1.0, 0)\n",
        "\n",
        "taska_1_1(5,5,1)\n",
        "> 'N.A'\n",
        "\n",
        "taska_1_1(0,0,0)\n",
        "> 'x-axis'\n",
        "```"
      ]
    },
    {
      "cell_type": "code",
      "execution_count": null,
      "id": "7d8190a0",
      "metadata": {
        "id": "7d8190a0",
        "outputId": "fb06aa0c-c7fb-4253-bfab-0ef1858f58e6",
        "colab": {
          "base_uri": "https://localhost:8080/"
        }
      },
      "outputs": [
        {
          "output_type": "stream",
          "name": "stdout",
          "text": [
            "the function f(x) with given a, b and c values is y = (x + 1)/x\n"
          ]
        },
        {
          "output_type": "execute_result",
          "data": {
            "text/plain": [
              "(-1.0, 0)"
            ]
          },
          "metadata": {},
          "execution_count": 1
        }
      ],
      "source": [
        "# f(x) = (ax + b) / (x + c)\n",
        "# x = -b/a\n",
        "\n",
        "from sympy import symbols, cancel\n",
        "\n",
        "def taska_1_1(a, b, c):\n",
        "\n",
        "  x = symbols('x')\n",
        "\n",
        "  f = cancel((a * x + b) / (x + c))\n",
        "\n",
        "  print(f\"the function f(x) with given a, b and c values is y = {f}\")\n",
        "\n",
        "  if a == 0:\n",
        "    if b == 0:\n",
        "      return \"x-axis\"\n",
        "    else:\n",
        "      return \"N/A\"\n",
        "  x = -b / a\n",
        "  if x == -c:\n",
        "    return \"N/A\"\n",
        "  else:\n",
        "    return (x, 0)\n",
        "\n",
        "taska_1_1(1,1,0)"
      ]
    },
    {
      "cell_type": "markdown",
      "id": "ffe3a400",
      "metadata": {
        "vscode": {
          "languageId": "plaintext"
        },
        "id": "ffe3a400"
      },
      "source": [
        "## Task A.1.2\n",
        "Write a function `taska_1_2()` that takes three parameters `a`,`b`,`c` that represented $a$, $b$, $c$ in the rational function $f$ defined above.\n",
        "\n",
        "The function should return\n",
        "- the tuple `(x,y)` representing the coordinates of the $y$-intercept of $C$, if it exists.\n",
        "- the string `N.A` if $y$-intercept does not exist.\n",
        "\n",
        "### Example Test Case\n",
        "```python\n",
        "taska_1_2(1,1,0)\n",
        "> 'N.A'\n",
        "\n",
        "taska_1_2(5,5,1)\n",
        "> (0, 5.0)\n",
        "\n",
        "taska_1_2(0,0,0)\n",
        "> (0,0)\n",
        "```"
      ]
    },
    {
      "cell_type": "code",
      "execution_count": null,
      "id": "fddc407c",
      "metadata": {
        "id": "fddc407c",
        "outputId": "bd6b25bb-5ead-4576-bf31-f829a2db1035"
      },
      "outputs": [
        {
          "data": {
            "text/plain": [
              "'N/A'"
            ]
          },
          "execution_count": 3,
          "metadata": {},
          "output_type": "execute_result"
        }
      ],
      "source": [
        "# f(x) = (ax + b) / (x + c)\n",
        "from sympy import symbols, cancel\n",
        "\n",
        "\n",
        "def taska_1_2(a, b, c):\n",
        "\n",
        "  x = symbols('x')\n",
        "\n",
        "  f = cancel((a * x + b) / (x + c))\n",
        "\n",
        "  print(f\"the function f(x) with given a, b and c values is y = {f}\")\n",
        "\n",
        "  x = 0\n",
        "\n",
        "  if c == 0:\n",
        "    return \"N/A\"\n",
        "\n",
        "  def func(x):\n",
        "    return (a * x + b) / (x + c)\n",
        "  y = func(x)\n",
        "  return (0, y)\n",
        "\n",
        "taska_1_2(1,1,0)"
      ]
    },
    {
      "cell_type": "markdown",
      "id": "bdd4a5ed",
      "metadata": {
        "id": "bdd4a5ed"
      },
      "source": [
        "## Task A.1.3\n",
        "Write a function `taska_1_3()` that takes three parameters `a`,`b`,`c` that represented $a$, $b$, $c$ in the rational function $f$ defined above.\n",
        "\n",
        "The function should return the string `Horizontal asymptote of C is <INSERT_EQUATION_OF_HORIZONTAL_ASYMPTOTE_HERE>`, where `<INSERT_EQUATION_OF_HORIZONTAL_ASYMPTOTE_HERE>` should be replaced with\n",
        "- the string representing the equation of the horizontal asymptote of $C$, if it exists.\n",
        "- the string `N.A` if the horizontal asymptote does not exist.\n",
        "\n",
        "### Example Test Case\n",
        "```python\n",
        "taska_1_3(1,1,0)\n",
        "> 'Horizontal asymptote of C is y = 1'\n",
        "\n",
        "taska_1_3(5,5,1)\n",
        "> 'N.A'\n",
        "\n",
        "taska_1_3(0,0,0)\n",
        "> 'N.A'\n",
        "```"
      ]
    },
    {
      "cell_type": "code",
      "execution_count": null,
      "id": "55c00d32",
      "metadata": {
        "colab": {
          "base_uri": "https://localhost:8080/"
        },
        "id": "55c00d32",
        "outputId": "8ffb11f3-27bf-4b09-9512-1b66d7f3fa13"
      },
      "outputs": [
        {
          "output_type": "stream",
          "name": "stdout",
          "text": [
            "the function f(x) with given a, b and c values is y = (x + 1)/x\n",
            "Horizontal asymptote of C is y = 1\n"
          ]
        }
      ],
      "source": [
        "from sympy import symbols, limit, oo, cancel\n",
        "\n",
        "def taska_1_3(a, b, c):\n",
        "  x = symbols('x')\n",
        "\n",
        "  f = cancel((a * x + b) / (x + c))\n",
        "\n",
        "  print(f\"the function f(x) with given a, b and c values is y = {f}\")\n",
        "\n",
        "  if f.is_polynomial(x):\n",
        "    print('N/A')\n",
        "\n",
        "  else:\n",
        "    positive_asymptote = limit(f, x, oo)\n",
        "    negative_asymptote = limit(f, x, -oo)\n",
        "\n",
        "    if positive_asymptote == negative_asymptote:\n",
        "      print(f\"Horizontal asymptote of C is y = {positive_asymptote}\")\n",
        "\n",
        "    else:\n",
        "      print(f\"Horizontal asymptote of C is y = {positive_asymptote} and y = {negative_asymptote}\")\n",
        "\n",
        "\n",
        "taska_1_3(1,1,0)\n"
      ]
    },
    {
      "cell_type": "markdown",
      "id": "c146b5ed",
      "metadata": {
        "id": "c146b5ed"
      },
      "source": [
        "## Task A.1.4\n",
        "Write a function `taska_1_4()` that takes three parameters `a`,`b`,`c` that represented $a$, $b$, $c$ in the rational function $f$ defined above.\n",
        "\n",
        "The function should return the string `Vertical asymptote of C is <INSERT_EQUATION_OF_VERTICAL_ASYMPTOTE_HERE>`, where `<INSERT_EQUATION_OF_VERTICAL_ASYMPTOTE_HERE>` should be replaced with\n",
        "- the string representing the equation of the vertical asymptote of $C$, if it exists.\n",
        "- the string `N.A` if the horizontal asymptote does not exist.\n",
        "\n",
        "### Example Test Case\n",
        "```python\n",
        "taska_1_4(1,1,0)\n",
        "> 'Vertical asymptote of C is x = 0'\n",
        "\n",
        "taska_1_4(5,5,1)\n",
        "> 'N.A'\n",
        "\n",
        "taska_1_4(0,0,0)\n",
        "> 'N.A'\n",
        "```"
      ]
    },
    {
      "cell_type": "code",
      "execution_count": null,
      "id": "8f913f54",
      "metadata": {
        "id": "8f913f54",
        "colab": {
          "base_uri": "https://localhost:8080/"
        },
        "outputId": "58357ee4-4476-469c-f7f2-754d3e08dbe6"
      },
      "outputs": [
        {
          "output_type": "stream",
          "name": "stdout",
          "text": [
            "the function f(x) with given a, b and c values is y = 5\n",
            "N/A\n"
          ]
        }
      ],
      "source": [
        "from sympy import symbols, cancel\n",
        "\n",
        "def taska_1_4(a, b, c):\n",
        "  x = symbols('x')\n",
        "\n",
        "  f = cancel((a * x + b) / (x + c))\n",
        "\n",
        "  print(f\"the function f(x) with given a, b and c values is y = {f}\")\n",
        "\n",
        "  if cancel(f).is_polynomial(x):\n",
        "    print('N/A')\n",
        "  else:\n",
        "    print(f\"Vertical asymptote of C is x = {c}\")\n",
        "\n",
        "taska_1_4(5,5,1)"
      ]
    },
    {
      "cell_type": "markdown",
      "id": "36c383fc",
      "metadata": {
        "id": "36c383fc"
      },
      "source": [
        "## Task A.1.5\n",
        "Write a function `taska_1_5()` that takes three parameters `a`,`b`,`c` that represented $a$, $b$, $c$ in the rational function $f$ defined above.\n",
        "\n",
        "The function should return\n",
        "- a list of tuples `(x,y)` representing the coordinates of the stationary points of $C$, if it exists.\n",
        "- the empty list if $C$ does not have a stationary point.\n",
        "\n",
        "### Example Test Case\n",
        "```python\n",
        "taska_1_5(1,1,0)\n",
        "> []\n",
        "```"
      ]
    },
    {
      "cell_type": "code",
      "execution_count": null,
      "id": "127ec57d",
      "metadata": {
        "id": "127ec57d",
        "colab": {
          "base_uri": "https://localhost:8080/"
        },
        "outputId": "c8c601e2-0861-4e48-d223-00e638b41e11"
      },
      "outputs": [
        {
          "output_type": "stream",
          "name": "stdout",
          "text": [
            "the function f(x) with given a, b and c values is y = (x + 1)/x\n"
          ]
        },
        {
          "output_type": "execute_result",
          "data": {
            "text/plain": [
              "[]"
            ]
          },
          "metadata": {},
          "execution_count": 83
        }
      ],
      "source": [
        "from sympy import symbols, cancel, diff, solve\n",
        "\n",
        "def taska_1_5(a,b,c):\n",
        "  x = symbols('x')\n",
        "\n",
        "  f = cancel((a * x + b) / (x + c))\n",
        "\n",
        "  print(f\"the function f(x) with given a, b and c values is y = {f}\")\n",
        "\n",
        "  f_prime = diff(f, x)\n",
        "\n",
        "  stationary_point_x = solve(f_prime, x)\n",
        "\n",
        "  coordinates = [(i, f.subs(x, i)) for i in stationary_point_x] # subs is a sympy method that replaces x with the value that is specified\n",
        "\n",
        "  return coordinates\n",
        "\n",
        "taska_1_5(1,1,0)"
      ]
    },
    {
      "cell_type": "markdown",
      "id": "6902214d",
      "metadata": {
        "id": "6902214d"
      },
      "source": [
        "# Task A.2\n",
        "A curve $C$ has an equation $$\\frac{\\left(x-h\\right)^{2}}{a}+\\frac{\\left(y-k\\right)^{2}}{b}=1.$$\n",
        "\n",
        "## Task A.2.1\n",
        "Write a function `taska_2_1()` that takes four parameters `a`,`b`,`h`,`k` that represented $a$, $b$, $h$, $k$ in the equation defined above.\n",
        "\n",
        "The function should return the string `The C is a/an <INSERT_CONIC_SECTION>`, where `<INSERT_CONIC_SECTION>` should be replaced with\n",
        "- the string `Circle` if the curve $C$ is a circle,\n",
        "- the string `Ellipse` if the curve $C$ is an ellipse,\n",
        "- the string `Hyperbola` if the curve $C$ is a hyperbola,\n",
        "- the string `N.A` if curve $C$ is not any of the options above.\n",
        "\n",
        "### Example Test Case\n",
        "```python\n",
        "taska_2_1(1,1,0,0)\n",
        "> 'Circle'\n",
        "\n",
        "taska_2_1(5,6,1,1)\n",
        "> 'Ellipse'\n",
        "\n",
        "taska_2_1(5,-6,1,1)\n",
        "> 'Hyperbola'\n",
        "\n",
        "taska_2_1(0,0,0,0)\n",
        "> 'N.A'\n",
        "```"
      ]
    },
    {
      "cell_type": "code",
      "execution_count": null,
      "id": "ceb9231b",
      "metadata": {
        "id": "ceb9231b",
        "colab": {
          "base_uri": "https://localhost:8080/",
          "height": 54
        },
        "outputId": "7caaa729-0f3f-4172-9915-95487d0906f3"
      },
      "outputs": [
        {
          "output_type": "stream",
          "name": "stdout",
          "text": [
            "your function f(x) with given a, b, h, k is x**2/5 - 2*x/5 + y**2/6 - y/3 + 11/30 = 1\n"
          ]
        },
        {
          "output_type": "execute_result",
          "data": {
            "text/plain": [
              "'It is an ellipse'"
            ],
            "application/vnd.google.colaboratory.intrinsic+json": {
              "type": "string"
            }
          },
          "metadata": {},
          "execution_count": 87
        }
      ],
      "source": [
        "from sympy import symbols, cancel\n",
        "\n",
        "def taska_2_1(a,b,h,k):\n",
        "  x = symbols('x')\n",
        "  y = symbols('y')\n",
        "\n",
        "  f = cancel(((x - h)**2 / a) + ((y - k)**2 / b))\n",
        "\n",
        "  print(f\"your function f(x) with given a, b, h, k is {f} = 1\")\n",
        "\n",
        "  if a == b:\n",
        "    return 'It is a circle'\n",
        "\n",
        "  elif a > 0 and b > 0 and a != b:\n",
        "    return 'It is an ellipse'\n",
        "\n",
        "  elif a < 0 or b < 0:\n",
        "    return 'It is a Hyperbola'\n",
        "\n",
        "  elif a == 0 or b == 0:\n",
        "    return 'N/A'\n",
        "\n",
        "\n",
        "taska_2_1(5,6,1,1)"
      ]
    },
    {
      "cell_type": "markdown",
      "id": "05e0fbf2",
      "metadata": {
        "id": "05e0fbf2"
      },
      "source": [
        "## Task A.2.2\n",
        "Write a function `taska_2_2()` that takes four parameters `a`,`b`,`h`,`k` that represented $a$, $b$, $h$, $k$ in the equation defined above.\n",
        "\n",
        "The function should return the tuple `(x,y)` representing the coordinates of the center of $C$.\n",
        "\n",
        "### Example Test Case\n",
        "\n",
        "```python\n",
        "taska_2_2(1,1,0,0)\n",
        "> (0,0)\n",
        "\n",
        "```"
      ]
    },
    {
      "cell_type": "code",
      "execution_count": null,
      "id": "9900ed49",
      "metadata": {
        "id": "9900ed49",
        "colab": {
          "base_uri": "https://localhost:8080/"
        },
        "outputId": "de4b10d8-185e-43dd-ee67-ae1a474b46f0"
      },
      "outputs": [
        {
          "output_type": "stream",
          "name": "stdout",
          "text": [
            "your function f(x) with given a, b, h, k is x**2 + y**2 = 1\n"
          ]
        },
        {
          "output_type": "execute_result",
          "data": {
            "text/plain": [
              "(0, 0)"
            ]
          },
          "metadata": {},
          "execution_count": 88
        }
      ],
      "source": [
        "from sympy import symbols, cancel\n",
        "\n",
        "def taska_2_2(a,b,h,k):\n",
        "  x = symbols('x')\n",
        "  y = symbols('y')\n",
        "\n",
        "  f = cancel(((x - h)**2 / a) + ((y - k)**2 / b))\n",
        "\n",
        "  print(f\"your function f(x) with given a, b, h, k is {f} = 1\")\n",
        "\n",
        "  if a == 0 or b == 0:\n",
        "    return 'N/A'\n",
        "\n",
        "  else:\n",
        "    return (h, k)\n",
        "\n",
        "taska_2_2(1,1,0,0)"
      ]
    },
    {
      "cell_type": "markdown",
      "id": "6b6de4d5",
      "metadata": {
        "id": "6b6de4d5"
      },
      "source": [
        "## Task A.2.3\n",
        "Write a function `taska_2_3()` that takes four parameters `a`,`b`,`h`,`k` that represented $a$, $b$, $h$, $k$ in the equation defined above.\n",
        "\n",
        "The function should return :\n",
        "- a list of tuples `(x,y)` representing the coordinates of the vertices of $C$, if they exist,\n",
        "- an empty list if $C$ has no vertices.\n",
        "\n",
        "### Example Test Case\n",
        "```python\n",
        "taska_2_3(1,1,0,0)\n",
        "> []\n",
        "\n",
        "taska_2_3(5,6,1,1)\n",
        "> [(-1.2360679774997898, 1), (3.23606797749979, 1), (1, -1.4494897427831779), (1, 3.449489742783178)]\n",
        "\n",
        "taska_2_3(5,-6,1,1)\n",
        "> [(-1.2360679774997898, 1), (3.23606797749979, 1)]\n",
        "```"
      ]
    },
    {
      "cell_type": "code",
      "execution_count": 9,
      "id": "2bf6734b",
      "metadata": {
        "id": "2bf6734b",
        "colab": {
          "base_uri": "https://localhost:8080/"
        },
        "outputId": "d72344c4-ee3c-4971-98fd-4296957d7b26"
      },
      "outputs": [
        {
          "output_type": "stream",
          "name": "stdout",
          "text": [
            "your function f(x) with given a, b, h, k is -x**2/5 + 2*x/5 - y**2/6 + y/3 - 11/30 = 1\n"
          ]
        },
        {
          "output_type": "execute_result",
          "data": {
            "text/plain": [
              "[]"
            ]
          },
          "metadata": {},
          "execution_count": 9
        }
      ],
      "source": [
        "from sympy import symbols, cancel\n",
        "\n",
        "def taska_2_3(a,b,h,k):\n",
        "  x = symbols('x')\n",
        "  y = symbols('y')\n",
        "\n",
        "  f = cancel(((x - h)**2 / a) + ((y - k)**2 / b))\n",
        "\n",
        "  print(f\"your function f(x) with given a, b, h, k is {f} = 1\")\n",
        "\n",
        "\n",
        "  # verticies to be found at (h +- sqrt(a), k) for horizontal, and (h, k +- sqrt(b))\n",
        "\n",
        "  verticies = []\n",
        "\n",
        "  if a == 0 or b == 0:\n",
        "    return [] # in this case, a zero division error is raised so just return an empty list\n",
        "\n",
        "  if a == b: # circle instance, no actual verticies\n",
        "    return []\n",
        "\n",
        "  if a > 0:  # a must be more than 0 in order for it to be an elipse, else it is a hyperbola\n",
        "    verticies.append((h + (a) ** 0.5, k))\n",
        "    verticies.append((h - (a) ** 0.5, k))\n",
        "\n",
        "  if b > 0:  # b must be more than 0 in order for it to be an elipse, else it is a hyperbola\n",
        "    verticies.append((h, k  + (b) ** 0.5))\n",
        "    verticies.append((h, k  - (b) ** 0.5))\n",
        "\n",
        "  return verticies\n",
        "\n",
        "taska_2_2(5,-6,1,1)"
      ]
    },
    {
      "cell_type": "markdown",
      "id": "42e2be72",
      "metadata": {
        "id": "42e2be72"
      },
      "source": [
        "## Task A.2.4\n",
        "Write a function `taska_2_4()` that takes four parameters `a`,`b`,`h`,`k` that represented $a$, $b$, $h$, $k$ in the equation defined above.\n",
        "\n",
        "The function should return\n",
        "- a list of strings representing the equations of the asymptotes of $C$, if it exists.\n",
        "- the empty list if $C$ does not have any asymptotes.\n",
        "\n",
        "### Example Test Case\n",
        "```python\n",
        "taska_2_4(5,6,1,1)\n",
        "> []\n",
        "\n",
        "taska_2_4(5,-6,1,1)\n",
        "> ['y = -1.0954451150103321x + 2.095445115010332', 'y = 1.0954451150103321x  -0.09544511501033215']\n",
        "```"
      ]
    },
    {
      "cell_type": "code",
      "execution_count": 14,
      "id": "ab8c4efb",
      "metadata": {
        "id": "ab8c4efb",
        "colab": {
          "base_uri": "https://localhost:8080/"
        },
        "outputId": "4877ab6c-1852-48d7-9e9a-f5e31535ff85"
      },
      "outputs": [
        {
          "output_type": "stream",
          "name": "stdout",
          "text": [
            "your function f(x) with given a, b, h, k is x**2/5 - 2*x/5 - y**2/6 + y/3 + 1/30 = 1\n"
          ]
        },
        {
          "output_type": "execute_result",
          "data": {
            "text/plain": [
              "['y = 1.09544511501033*x - 0.0954451150103321',\n",
              " 'y = 2.09544511501033 - 1.09544511501033*x']"
            ]
          },
          "metadata": {},
          "execution_count": 14
        }
      ],
      "source": [
        "from sympy import symbols, cancel\n",
        "\n",
        "def taska_2_4(a,b,h,k):\n",
        "  x = symbols('x')\n",
        "  y = symbols('y')\n",
        "\n",
        "  f = cancel(((x - h)**2 / a) + ((y - k)**2 / b))\n",
        "\n",
        "  print(f\"your function f(x) with given a, b, h, k is {f} = 1\")\n",
        "\n",
        "  # for asymptotes of hyperbolas, equation is given as y = k +- |b/a|^0.5(x-h)\n",
        "\n",
        "  asymptotes = []\n",
        "\n",
        "  if a < 0 and b > 0:\n",
        "    oblique_asymptote1 = f\"y = {k + (abs(a/b) ** 0.5) * (x - h)}\"\n",
        "    oblique_asymptote2 = f\"y = {k - (abs(a/b) ** 0.5) * (x - h)}\"\n",
        "\n",
        "    asymptotes.append(oblique_asymptote1)\n",
        "    asymptotes.append(oblique_asymptote2)\n",
        "\n",
        "  elif a > 0 and b < 0:\n",
        "    oblique_asymptote1 = f\"y = {k + (abs(b/a) ** 0.5) * (x - h)}\"\n",
        "    oblique_asymptote2 = f\"y = {k - (abs(b/a) ** 0.5) * (x - h)}\"\n",
        "\n",
        "    asymptotes.append(oblique_asymptote1)\n",
        "    asymptotes.append(oblique_asymptote2)\n",
        "\n",
        "  else:\n",
        "    return []\n",
        "\n",
        "  return asymptotes\n",
        "\n",
        "\n",
        "taska_2_4(5,-6,1,1)\n"
      ]
    },
    {
      "cell_type": "markdown",
      "id": "66ab642c",
      "metadata": {
        "id": "66ab642c"
      },
      "source": [
        "# Task B.1\n",
        "The curve $C$ is the graph of the rational function $$f(x)=\\frac{ax^2+bx+c}{x+d},$$ where $a$, $b$, $c$, $d$ are real constants and $a\\neq 0$.\n",
        "\n",
        "## Task B.1.1\n",
        "Write a function `taskb_1_1()` that takes four parameters `a`,`b`,`c`, `d` that represented $a$, $b$, $c$, $d$ in the rational function $f$ defined above.\n",
        "\n",
        "The function should return\n",
        "- the list of tuple `(x,y)` representing the coordinates of the $x$-intercept(s) of $C$, if it exists.\n",
        "- the empty list if $x$-intercept does not exist.\n",
        "\n",
        "### Example Test Case\n",
        "```python\n",
        "taskb_1_1(3,2,5,8)\n",
        "> []\n",
        "\n",
        "taskb_1_1(1,-5,4,1)\n",
        "> [(4.0, 0), (1.0, 0)]\n",
        "```"
      ]
    },
    {
      "cell_type": "code",
      "execution_count": null,
      "id": "5e1eb5db",
      "metadata": {
        "id": "5e1eb5db"
      },
      "outputs": [],
      "source": [
        "# YOUR CODE HERE"
      ]
    },
    {
      "cell_type": "markdown",
      "id": "c68d367b",
      "metadata": {
        "id": "c68d367b"
      },
      "source": [
        "## Task B.1.2\n",
        "Write a function `taskb_1_2()` that takes four parameters `a`,`b`,`c`, `d` that represented $a$, $b$, $c$, $d$ in the rational function $f$ defined above.\n",
        "\n",
        "The function should return\n",
        "- the tuple `(x,y)` representing the coordinates of the $y$-intercept of $C$, if it exists.\n",
        "- the string `N.A` if $y$-intercept does not exist.\n",
        "\n",
        "### Example Test Case\n",
        "```python\n",
        "taskb_1_2(3,2,5,8)\n",
        "> (0, 0.625)\n",
        "\n",
        "taskb_1_2(1,-5,4,1)\n",
        "> 'N.A'\n",
        "```"
      ]
    },
    {
      "cell_type": "code",
      "execution_count": null,
      "id": "b1873dc5",
      "metadata": {
        "id": "b1873dc5"
      },
      "outputs": [],
      "source": [
        "# YOUR CODE HERE"
      ]
    },
    {
      "cell_type": "markdown",
      "id": "4f472488",
      "metadata": {
        "id": "4f472488"
      },
      "source": [
        "## Task B.1.3\n",
        "Write a function `taskb_1_3()` that takes four parameters `a`,`b`,`c`,`d` that represented $a$, $b$, $c$, $d$ in the rational function $f$ defined above.\n",
        "\n",
        "The function should return the string `Oblique asymptote of C is <INSERT_EQUATION_OF_OBLIQUE_ASYMPTOTE_HERE>`, where `<INSERT_EQUATION_OF_OBLIQUE_ASYMPTOTE_HERE>` should be replaced with\n",
        "- the string representing the equation of the oblique asymptote of $C$, if it exists.\n",
        "- the string `N.A` if the oblique asymptote does not exist.\n",
        "\n",
        "### Example Test Case\n",
        "```python\n",
        "taskb_1_3(3,2,5,8)\n",
        "> 'Oblique asymptote of C is y = 3x  -22'\n",
        "\n",
        "taskb_1_3(1,-5,4,1)\n",
        "> 'Oblique asymptote of C is y = 1x  -6'\n",
        "\n",
        "taskb_1_3(5,-15,10,-1)\n",
        "> 'N.A'\n",
        "```"
      ]
    },
    {
      "cell_type": "code",
      "execution_count": null,
      "id": "0efc8571",
      "metadata": {
        "id": "0efc8571"
      },
      "outputs": [],
      "source": [
        "# YOUR CODE HERE"
      ]
    },
    {
      "cell_type": "markdown",
      "id": "eb6ad92d",
      "metadata": {
        "id": "eb6ad92d"
      },
      "source": [
        "## Task B.1.4\n",
        "Write a function `taskb_1_4()` that takes four parameters `a`,`b`,`c`,`d` that represented $a$, $b$, $c$, $d$ in the rational function $f$ defined above.\n",
        "\n",
        "The function should return the string `Vertical asymptote of C is <INSERT_EQUATION_OF_VERTICAL_ASYMPTOTE_HERE>`, where `<INSERT_EQUATION_OF_VERTICAL_ASYMPTOTE_HERE>` should be replaced with\n",
        "- the string representing the equation of the vertical asymptote of $C$, if it exists.\n",
        "- the string `N.A` if the vertical asymptote does not exist.\n",
        "\n",
        "### Example Test Case\n",
        "```python\n",
        "taskb_1_4(3,2,5,8)\n",
        "> 'Vertical asymptote of C is x = -8'\n",
        "\n",
        "taskb_1_4(1,-5,4,1)\n",
        "> 'Vertical asymptote of C is x = -1'\n",
        "\n",
        "taskb_1_4(5,-15,10,-1)\n",
        "> 'N.A'\n",
        "```"
      ]
    },
    {
      "cell_type": "code",
      "execution_count": null,
      "id": "4478a424",
      "metadata": {
        "id": "4478a424"
      },
      "outputs": [],
      "source": [
        "# YOUR CODE HERE"
      ]
    },
    {
      "cell_type": "markdown",
      "id": "bdbb13f8",
      "metadata": {
        "id": "bdbb13f8"
      },
      "source": [
        "## Task B.1.5\n",
        "Write a function `taska_1_5()` that takes four parameters `a`,`b`,`c`,`d` that represented $a$, $b$, $c$, $d$ in the rational function $f$ defined above.\n",
        "\n",
        "The function should return\n",
        "- a list of tuples `(x,y)` representing the coordinates of the stationary points of $C$, if it exists.\n",
        "- the empty list if $C$ does not have a stationary point.\n",
        "\n",
        "### Example Test Case\n",
        "```python\n",
        "taskb_1_5(3,2,5,8)\n",
        "> [(-15.767453465154029, -92.60472079092419), (-0.23254653484597063, 0.6047207909241743)]\n",
        "\n",
        "taskb_1_5(1,-5,4,1)\n",
        "> [(-4.16227766016838, -13.324555320336758), (2.1622776601683795, -0.6754446796632416)]\n",
        "\n",
        "taskb_1_5(5,-15,10,-1)\n",
        "> []\n",
        "```"
      ]
    },
    {
      "cell_type": "code",
      "execution_count": null,
      "id": "c12a24c5",
      "metadata": {
        "id": "c12a24c5"
      },
      "outputs": [],
      "source": [
        "# YOUR CODE HERE"
      ]
    },
    {
      "cell_type": "markdown",
      "id": "bebecb76",
      "metadata": {
        "id": "bebecb76"
      },
      "source": [
        "# Task B.2\n",
        "Let $y=f(x)$ be a rational function where the numerator and denominator are quadratic and linear expressions respectively. Suppose the graph of $y=f(x)$, is such that\n",
        "- it has one oblique asymptote $y=mx+c$,\n",
        "- it has exactly one vertical asymptote $x=k$,\n",
        "- the coefficient of $x$ in the denominator is 1, and\n",
        "- the constant term in the numerator is $a-kc$,\n",
        "\n",
        "where $m, c, k, a$ are real numbers.\n",
        "\n",
        "## Task B.2.1\n",
        "Write a function `taskb_2_1()` that takes four parameters `m`,`c`,`k`,`a` that represented $m$, $c$, $k$, $a$ in the description above.\n",
        "\n",
        "The function should return\n",
        "- the list of tuple(s) `(x,y)` representing the coordinates of the $x$-intercept of $C$, if it exists.\n",
        "- the empty list if $x$-intercept does not exist.\n",
        "\n",
        "### Example Test Case\n",
        "```python\n",
        "taskb_2_1(3,2,5,8)\n",
        "> [(-0.14874066490830065, 0), (4.482073998241634, 0)]\n",
        "\n",
        "taskb_2_1(1,-5,4,1)\n",
        "> []\n",
        "```"
      ]
    },
    {
      "cell_type": "code",
      "execution_count": null,
      "id": "abf224fa",
      "metadata": {
        "id": "abf224fa"
      },
      "outputs": [],
      "source": [
        "# YOUR CODE HERE"
      ]
    },
    {
      "cell_type": "markdown",
      "id": "e5ce8e17",
      "metadata": {
        "id": "e5ce8e17"
      },
      "source": [
        "## Task B.2.2\n",
        "Write a function `taskb_2_2()` that takes four parameters `m`,`c`,`k`,`a` that represented $m$, $c$, $k$, $a$ in the description above.\n",
        "\n",
        "The function should return\n",
        "- the tuple `(x,y)` representing the coordinates of the $y$-intercept of $C$, if it exists.\n",
        "- the string `N.A` if $y$-intercept does not exist.\n",
        "\n",
        "### Example Test Case\n",
        "```python\n",
        "taskb_2_2(3,2,5,1)\n",
        "> (0, 1.8)\n",
        "\n",
        "taskb_2_2(1,-5,0,1)\n",
        "> 'N.A'\n",
        "```"
      ]
    },
    {
      "cell_type": "code",
      "execution_count": null,
      "id": "e5833e00",
      "metadata": {
        "id": "e5833e00"
      },
      "outputs": [],
      "source": [
        "# YOUR CODE HERE"
      ]
    },
    {
      "cell_type": "markdown",
      "id": "39797e70",
      "metadata": {
        "id": "39797e70"
      },
      "source": [
        "## Task B.2.3\n",
        "Write a function `taskb_2_3()` that takes four parameters `m`,`c`,`k`,`a` that represented $m$, $c$, $k$, $a$ in the description above.\n",
        "\n",
        "The function should return\n",
        "- a list of tuples `(x,y)` representing the coordinates of the stationary points of $C$, if it exists.\n",
        "- the empty list if $C$ does not have a stationary point.\n",
        "\n",
        "### Example Test Case\n",
        "```python\n",
        "taskb_2_3(1,-5,0,1)\n",
        "> [(-1.0, -7.0), (1.0, -3.0)]\n",
        "\n",
        "taskb_2_3(5,-15,0,-1)\n",
        "> []\n",
        "```"
      ]
    },
    {
      "cell_type": "code",
      "execution_count": null,
      "id": "268b79af",
      "metadata": {
        "id": "268b79af"
      },
      "outputs": [],
      "source": [
        "# YOUR CODE HERE"
      ]
    },
    {
      "cell_type": "markdown",
      "id": "c7dd4a3e",
      "metadata": {
        "id": "c7dd4a3e"
      },
      "source": [
        "## Task B.2.4\n",
        "Write a function `taskb_2_4()` that takes three parameters `m`,`c`,`k` that represented $m$, $c$, $k$ in the description above.\n",
        "\n",
        "The function should return a string representing the equation of the improper form of the rational form in the form `y = (<p>x**2 + <q>x + <r>) / (x + <s>)`, where `<p>`, `<q>`, `<r>`, `<s>` are to be determined.\n",
        "\n",
        "### Example Test Case\n",
        "```python\n",
        "taskb_2_4(2,-5,5,1)\n",
        "> 'y = (2x**2  -15x + 26) / (x  -5)'\n",
        "\n",
        "taskb_2_4(5,-15,3,-1)\n",
        "> 'y = (5x**2  -30x + 44) / (x  -3)'\n",
        "```"
      ]
    },
    {
      "cell_type": "code",
      "execution_count": null,
      "id": "94e325fd",
      "metadata": {
        "id": "94e325fd"
      },
      "outputs": [],
      "source": [
        "# YOUR CODE HERE"
      ]
    },
    {
      "cell_type": "markdown",
      "id": "e3a80039",
      "metadata": {
        "id": "e3a80039"
      },
      "source": [
        "# Task B.3\n",
        "Let $y=f(x)$ be a rational function where the numerator and denominator are quadratic and linear expressions respectively. Suppose the graph of $y=f(x)$, is such that\n",
        "- it has exactly two distinct $x$-intercepts at $x=r$ and $x=s$,\n",
        "- it has exactly one vertical asymptote $x=k$,\n",
        "- the coefficient of $x$ in the denominator is 1, and\n",
        "- the coefficient of the highest power of $x$ in the numerator is $a$,\n",
        "\n",
        "where $r$, $s$, $k$ and $a$ are real numbers and $a \\neq 0$.\n",
        "\n",
        "## Task B.3.1\n",
        "Write a function `taskb_3_1()` that takes four parameters `r`,`s`,`k`, `a` that represented $r$, $s$, $k$, $a$ in the description above.\n",
        "\n",
        "The function should return\n",
        "- the tuple `(x,y)` representing the coordinates of the $y$-intercept of $C$, if it exists.\n",
        "- the string `N.A` if $y$-intercept does not exist.\n",
        "\n",
        "### Example Test Case\n",
        "```python\n",
        "taskb_3_1(3,2,5,8)\n",
        "> (0, -9.6)\n",
        "\n",
        "taskb_3_1(1,-5,0,1)\n",
        "> 'N.A'\n",
        "```"
      ]
    },
    {
      "cell_type": "code",
      "execution_count": null,
      "id": "4644d155",
      "metadata": {
        "id": "4644d155"
      },
      "outputs": [],
      "source": [
        "# YOUR CODE HERE"
      ]
    },
    {
      "cell_type": "markdown",
      "id": "c2295413",
      "metadata": {
        "id": "c2295413"
      },
      "source": [
        "## Task B.3.2\n",
        "Write a function `taskb_3_2()` that takes four parameters `r`,`s`,`k`, `a` that represented $r$, $s$, $k$, $a$ in the description above.\n",
        "\n",
        "The function should return the string `Oblique asymptote of C is <INSERT_EQUATION_OF_OBLIQUE_ASYMPTOTE_HERE>`, where `<INSERT_EQUATION_OF_OBLIQUE_ASYMPTOTE_HERE>` should be replaced with\n",
        "- the string representing the equation of the oblique asymptote of $C$, if it exists.\n",
        "- the string `N.A` if the oblique asymptote does not exist.\n",
        "\n",
        "### Example Test Case\n",
        "```python\n",
        "taskb_3_2(3,2,4,8)\n",
        "> 'Oblique asymptote of C is y = 8x  -8'\n",
        "\n",
        "taskb_3_2(1,3,3,1)\n",
        "> 'N.A'\n",
        "```"
      ]
    },
    {
      "cell_type": "code",
      "execution_count": null,
      "id": "2a9fc0b9",
      "metadata": {
        "id": "2a9fc0b9"
      },
      "outputs": [],
      "source": [
        "# YOUR CODE HERE"
      ]
    },
    {
      "cell_type": "markdown",
      "id": "8a0c6275",
      "metadata": {
        "id": "8a0c6275"
      },
      "source": [
        "## Task B.3.3\n",
        "Write a function `taskb_3_3()` that takes four parameters `r`,`s`,`k`, `a` that represented $r$, $s$, $k$, $a$ in the description above.\n",
        "\n",
        "The function should return\n",
        "- a list of tuples `(x,y)` representing the coordinates of the stationary points of $C$, if it exists.\n",
        "- the empty list if $C$ does not have a stationary point.\n",
        "\n",
        "\n",
        "### Example Test Case\n",
        "```python\n",
        "taskb_3_3(3,5,1,2)\n",
        "> [(-1.8284271247461903, -23.31370849898476), (3.8284271247461903, -0.6862915010152397)]\n",
        "\n",
        "taskb_3_3(-5,3,0,2)\n",
        "> []\n",
        "```"
      ]
    },
    {
      "cell_type": "code",
      "execution_count": null,
      "id": "92ed5495",
      "metadata": {
        "id": "92ed5495"
      },
      "outputs": [],
      "source": [
        "# YOUR CODE HERE"
      ]
    },
    {
      "cell_type": "markdown",
      "id": "af9ca7c5",
      "metadata": {
        "id": "af9ca7c5"
      },
      "source": [
        "## Task B.3.4\n",
        "Write a function `taskb_3_4()` that takes three parameters `r`,`s`,`k` that represented $r$, $s$, $k$ in the description of the $x$-intercepts and vertical asymptote of $C$ above.\n",
        "\n",
        "The function should return a string representing the equation of the improper form of the rational form in the form `y = (<a>x**2 + <b>x + <c>) / (x + <d>)`, where `<a>`, `<b>`, `<c>`, `<d>` are to be determined.\n",
        "\n",
        "### Example Test Case\n",
        "```python\n",
        "taskb_3_4(3,5,1,2)\n",
        "> 'y = (2x**2  -16x + 30) / (x  -1)'\n",
        "\n",
        "taskb_3_4(-5,3,-4,2)\n",
        "> 'y = (2x**2 + 4x  -30) / (x + 4)'\n",
        "```"
      ]
    },
    {
      "cell_type": "code",
      "execution_count": null,
      "id": "971afc37",
      "metadata": {
        "id": "971afc37"
      },
      "outputs": [],
      "source": [
        "# YOUR CODE HERE"
      ]
    }
  ],
  "metadata": {
    "kernelspec": {
      "display_name": "Python 3 (ipykernel)",
      "language": "python",
      "name": "python3"
    },
    "language_info": {
      "codemirror_mode": {
        "name": "ipython",
        "version": 3
      },
      "file_extension": ".py",
      "mimetype": "text/x-python",
      "name": "python",
      "nbconvert_exporter": "python",
      "pygments_lexer": "ipython3",
      "version": "3.13.3"
    },
    "colab": {
      "provenance": []
    }
  },
  "nbformat": 4,
  "nbformat_minor": 5
}