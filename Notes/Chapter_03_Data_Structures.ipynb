{
 "cells": [
  {
   "cell_type": "markdown",
   "metadata": {
    "id": "eNFSYcNvKo1z"
   },
   "source": [
    "# Learning Objectives\n",
    "\n",
    "- [ ]  2.2.1 Understand the different types: integer `int`, real `float`, char `chr`, string `str` and Boolean `Boolean` and initialise arrays `list`, `tuple` (1-dimensional and 2-dimensional).\n",
    "\n",
    "[![Open In Colab](https://colab.research.google.com/assets/colab-badge.svg)](https://colab.research.google.com/github/njc-cz2-2021/Materials/blob/main/Notes/Chapter_03_Data_Structures.ipynb)"
   ]
  },
  {
   "cell_type": "markdown",
   "metadata": {
    "id": "sIdQqzOwKo14"
   },
   "source": [
    "# 3 Basic Data Structures\n",
    "\n",
    "In computer science, a data structure is a data organization, management, and storage format that enables efficient access and modification. More precisely, a data structure is a collection of data values, the relationships among them, and the functions or operations that can be applied to the data.\n",
    "\n",
    "## 3.1 Array\n",
    "\n",
    "An array, is a data structure consisting of a collection of elements (values or variables), each identified by at least one array index or key. We will focus on two commonly used ones in Python.\n",
    "\n",
    "### 3.1.1 List\n",
    "\n",
    "**Lists** are the most commonly used data structure in Python.\n",
    "\n",
    "* It is a **mutable** collection, i.e. its items can be added and removed.\n",
    "* Each of these data can be accessed by calling its index value."
   ]
  },
  {
   "cell_type": "markdown",
   "metadata": {
    "id": "qHpE3bM5Ko16"
   },
   "source": [
    "#### 3.1.1.1 Creating a list\n",
    "\n",
    "Lists are declared/created by just equating a variable to `[]` or list.\n",
    "\n",
    "```python\n",
    "empty_list = []\n",
    "print(type(empty_list))\n",
    "```\n",
    "\n",
    "Items in the list are seperated by comma `,`.\n",
    "```python\n",
    "nums = [1, 2, 3, 4]\n",
    "nums\n",
    "```"
   ]
  },
  {
   "cell_type": "code",
   "execution_count": null,
   "metadata": {
    "colab": {
     "base_uri": "https://localhost:8080/"
    },
    "executionInfo": {
     "elapsed": 9,
     "status": "ok",
     "timestamp": 1740639197240,
     "user": {
      "displayName": "Yen Ming Zhen (Njc)",
      "userId": "12782861662632693319"
     },
     "user_tz": -480
    },
    "id": "PN1_qFzdKo16",
    "outputId": "d93656cb-470f-411e-8274-4db47db9241f"
   },
   "outputs": [
    {
     "data": {
      "text/plain": [
       "[1, 2, 3, 4]"
      ]
     },
     "execution_count": 7,
     "metadata": {},
     "output_type": "execute_result"
    }
   ],
   "source": [
    "# YOUR CODE HERE\n",
    "nums = [1, 2, 3, 4]\n",
    "nums"
   ]
  },
  {
   "cell_type": "markdown",
   "metadata": {
    "id": "IA4HzPFnKo18"
   },
   "source": [
    "List element can be of any data type.\n",
    "\n",
    "```python\n",
    "fruits = ['apple', 'banana', 'cherry', 'durian']\n",
    "fruits\n",
    "```"
   ]
  },
  {
   "cell_type": "code",
   "execution_count": null,
   "metadata": {
    "colab": {
     "base_uri": "https://localhost:8080/"
    },
    "executionInfo": {
     "elapsed": 49,
     "status": "ok",
     "timestamp": 1740639191171,
     "user": {
      "displayName": "Yen Ming Zhen (Njc)",
      "userId": "12782861662632693319"
     },
     "user_tz": -480
    },
    "id": "SLIHLJUIKo18",
    "outputId": "3b25cd0f-929d-41bd-9279-0f190ef66a18"
   },
   "outputs": [
    {
     "data": {
      "text/plain": [
       "['apple', 'banana', 'cherry', 'durian']"
      ]
     },
     "execution_count": 6,
     "metadata": {},
     "output_type": "execute_result"
    }
   ],
   "source": [
    "# YOUR CODE HERE\n",
    "fruits = ['apple', 'banana', 'cherry', 'durian']\n",
    "fruits"
   ]
  },
  {
   "cell_type": "markdown",
   "metadata": {
    "id": "6zja63ZHKo19"
   },
   "source": [
    "In fact, it is able to hold elements of *mixed data types*, although this is not commonly used.\n",
    "\n",
    "```python\n",
    "mixed = ['apple', 3, 'banana', 5.0, True, None, (1,), [1,23]]\n",
    "mixed\n",
    "```"
   ]
  },
  {
   "cell_type": "code",
   "execution_count": null,
   "metadata": {
    "colab": {
     "base_uri": "https://localhost:8080/"
    },
    "executionInfo": {
     "elapsed": 10,
     "status": "ok",
     "timestamp": 1740639185128,
     "user": {
      "displayName": "Yen Ming Zhen (Njc)",
      "userId": "12782861662632693319"
     },
     "user_tz": -480
    },
    "id": "6Ckm6aReKo1-",
    "outputId": "57ffd78b-44c0-4070-c651-779d3b9cd40d"
   },
   "outputs": [
    {
     "data": {
      "text/plain": [
       "['apple', 3, 'banana', 5.0, True, None, (1,), [1, 23]]"
      ]
     },
     "execution_count": 5,
     "metadata": {},
     "output_type": "execute_result"
    }
   ],
   "source": [
    "# YOUR CODE HERE\n",
    "mixed = ['apple', 3, 'banana', 5.0, True, None, (1,), [1,23]]\n",
    "mixed"
   ]
  },
  {
   "cell_type": "markdown",
   "metadata": {
    "id": "NkanXNfCKo1-"
   },
   "source": [
    "List can also have **lists as its element**, which creates a `nested list`.\n",
    "\n",
    "```python\n",
    "nested = [ [10, 11, 12, 13],\n",
    "           [20, 21, 22, 23] ]\n",
    "nested\n",
    "```"
   ]
  },
  {
   "cell_type": "code",
   "execution_count": null,
   "metadata": {
    "colab": {
     "base_uri": "https://localhost:8080/"
    },
    "executionInfo": {
     "elapsed": 46,
     "status": "ok",
     "timestamp": 1740639205514,
     "user": {
      "displayName": "Yen Ming Zhen (Njc)",
      "userId": "12782861662632693319"
     },
     "user_tz": -480
    },
    "id": "dZIGDMkhKo1-",
    "outputId": "99b80801-90bd-4b03-fabe-0810bcea1d96"
   },
   "outputs": [
    {
     "data": {
      "text/plain": [
       "[[10, 11, 12, 13], [20, 21, 22, 23]]"
      ]
     },
     "execution_count": 8,
     "metadata": {},
     "output_type": "execute_result"
    }
   ],
   "source": [
    "# YOUR CODE HERE\n",
    "nested = [ [10, 11, 12, 13],\n",
    "           [20, 21, 22, 23] ]\n",
    "nested"
   ]
  },
  {
   "cell_type": "markdown",
   "metadata": {
    "id": "szFh0AyIKo1_"
   },
   "source": [
    "#### 3.1.1.2 Accessing Elements in a list via Indexing\n",
    "\n",
    "Items in collection can be accessed by their indexes. Python uses zero-based indexing, i.e. index starts from 0.\n",
    "\n",
    "```python\n",
    "print(fruits)\n",
    "print(fruits[0])\n",
    "print(fruits[1])\n",
    "```"
   ]
  },
  {
   "cell_type": "code",
   "execution_count": null,
   "metadata": {
    "colab": {
     "base_uri": "https://localhost:8080/"
    },
    "executionInfo": {
     "elapsed": 10,
     "status": "ok",
     "timestamp": 1740639235228,
     "user": {
      "displayName": "Yen Ming Zhen (Njc)",
      "userId": "12782861662632693319"
     },
     "user_tz": -480
    },
    "id": "aZBoeZDuKo1_",
    "outputId": "3e5e3e7a-8e58-48cb-eae2-8b4a67b94980"
   },
   "outputs": [
    {
     "name": "stdout",
     "output_type": "stream",
     "text": [
      "['apple', 'banana', 'cherry', 'durian']\n",
      "apple\n",
      "banana\n"
     ]
    }
   ],
   "source": [
    "# YOUR CODE HERE\n",
    "fruits = ['apple', 'banana', 'cherry', 'durian']\n",
    "print(fruits)\n",
    "print(fruits[0])\n",
    "print(fruits[1])"
   ]
  },
  {
   "cell_type": "markdown",
   "metadata": {
    "id": "nEG_44UGKo1_"
   },
   "source": [
    "Indexing can also be done in reverse order by using a negative value as the index. That is the last element of the list has an index of -1, and second last element has index of -2 etc. This is called **negative indexing**.\n",
    "\n",
    "<center><img src=\"https://github.com/njc-cz2-2021/Materials/blob/main/Notes/images/list-indexing.png?raw=1\" alt=\"Set Venn Diagram\" style=\"width: 400px;\"/></center>\n",
    "\n",
    "```python\n",
    "fruits[-1]\n",
    "fruits[-2]\n",
    "```"
   ]
  },
  {
   "cell_type": "code",
   "execution_count": null,
   "metadata": {
    "colab": {
     "base_uri": "https://localhost:8080/"
    },
    "executionInfo": {
     "elapsed": 10,
     "status": "ok",
     "timestamp": 1740639288186,
     "user": {
      "displayName": "Yen Ming Zhen (Njc)",
      "userId": "12782861662632693319"
     },
     "user_tz": -480
    },
    "id": "w4DmpUqHKo1_",
    "outputId": "90a1ebb8-3c06-4ddc-b59b-1127334ded27"
   },
   "outputs": [
    {
     "name": "stdout",
     "output_type": "stream",
     "text": [
      "banana\n",
      "cherry\n"
     ]
    }
   ],
   "source": [
    "# YOUR CODE HERE\n",
    "fruits = ['apple', 'banana', 'cherry', 'durian']\n",
    "print(fruits[1])\n",
    "print(fruits[-2])"
   ]
  },
  {
   "cell_type": "markdown",
   "metadata": {
    "id": "E5Yf3O9ZKo1_"
   },
   "source": [
    "For nested list, we can access items by **multi-level indexing**. Each level of the index always starts from 0.\n",
    "\n",
    "For example, access 1st element in 1st list, and 2nd element in 2nd list\n",
    "```python\n",
    "print(nested)\n",
    "print(nested[0][0])\n",
    "print(nested[1][1])\n",
    "```"
   ]
  },
  {
   "cell_type": "code",
   "execution_count": null,
   "metadata": {
    "colab": {
     "base_uri": "https://localhost:8080/"
    },
    "executionInfo": {
     "elapsed": 11,
     "status": "ok",
     "timestamp": 1740639307119,
     "user": {
      "displayName": "Yen Ming Zhen (Njc)",
      "userId": "12782861662632693319"
     },
     "user_tz": -480
    },
    "id": "MeyMDNtmKo1_",
    "outputId": "be9934e3-a000-488c-8884-831b6f6f5c62"
   },
   "outputs": [
    {
     "name": "stdout",
     "output_type": "stream",
     "text": [
      "[[10, 11, 12, 13], [20, 21, 22, 23]]\n",
      "10\n",
      "21\n"
     ]
    }
   ],
   "source": [
    "# YOUR CODE HERE\n",
    "nested = [ [10, 11, 12, 13],\n",
    "           [20, 21, 22, 23] ]\n",
    "print(nested)\n",
    "print(nested[0][0])\n",
    "print(nested[1][1])"
   ]
  },
  {
   "cell_type": "markdown",
   "metadata": {
    "id": "bHULG-l2Ko2A"
   },
   "source": [
    "#### Exercise 3.1\n",
    "\n",
    "How do you access element `Blackcurrant` in following list?\n",
    "```python\n",
    "nested_fruits = [\n",
    "    ['Apple', 'Apricots', 'Avocado'],\n",
    "    ['Banana', 'Blackcurrant', 'Blueberries'],\n",
    "    ['Cherries', 'Cranberries', 'Custard-Apple']]\n",
    "```"
   ]
  },
  {
   "cell_type": "code",
   "execution_count": null,
   "metadata": {
    "colab": {
     "base_uri": "https://localhost:8080/",
     "height": 35
    },
    "executionInfo": {
     "elapsed": 34,
     "status": "ok",
     "timestamp": 1740639444334,
     "user": {
      "displayName": "Yen Ming Zhen (Njc)",
      "userId": "12782861662632693319"
     },
     "user_tz": -480
    },
    "id": "78-DmCCPKo2A",
    "outputId": "42ad5aad-d51e-4f44-c880-38c4a490dafa",
    "tags": [
     "hide-cell"
    ]
   },
   "outputs": [
    {
     "data": {
      "application/vnd.google.colaboratory.intrinsic+json": {
       "type": "string"
      },
      "text/plain": [
       "'Blackcurrant'"
      ]
     },
     "execution_count": 17,
     "metadata": {},
     "output_type": "execute_result"
    }
   ],
   "source": [
    "#Exercise 3.1\n",
    "\n",
    "nested_fruits = [\n",
    "    ['Apple', 'Apricots', 'Avocado'],\n",
    "    ['Banana', 'Blackcurrant', 'Blueberries'],\n",
    "    ['Cherries', 'Cranberries', 'Custard-Apple']]\n",
    "\n",
    "nested_fruits[1][1]"
   ]
  },
  {
   "cell_type": "markdown",
   "metadata": {
    "id": "l4fDwkboKo2A"
   },
   "source": [
    "#### 3.1.1.2 Accessing Subsets Elements in a list via Slicing\n",
    "\n",
    "**Indexing** was only limited to accessing a single element.\n",
    "**Slicing** on the other hand is accessing a sequence of data inside the list.\n",
    "\n",
    "**Slicing** is done by defining the index values of the `first element` and the `last element` from the parent list that is required in the sliced list.\n",
    "\n",
    "```python\n",
    "sub = num[a : b]\n",
    "sub = num[a : ]\n",
    "sub = num[: b]\n",
    "sub = num[:]\n",
    "```\n",
    "\n",
    "* if both `a` and `b` are specified, `a` is the first index, `b` is the **last index + 1**.\n",
    "* if `b` is omitted, it will slice till last element.\n",
    "* if `a` is omitted, it will starts from first element.\n",
    "* if neither `a` or `b` is specified, it is effectively copy the whole list\n",
    "\n",
    "**Note: the upper bound index is NOT inclusive!**\n",
    "\n",
    "List slicing can also be used to extract elements at indices that differs by a constant `diff` (i.e the indices formed a arithmetic progression) with the following syntax\n",
    "```python\n",
    "sub = num[a:b:diff]\n",
    "```"
   ]
  },
  {
   "cell_type": "markdown",
   "metadata": {
    "id": "S8g9eToRKo2B"
   },
   "source": [
    "#### Exercise 3.2\n",
    "\n",
    "* Create a list containing numbers 0-9\n",
    "* Print 3rd to 5th items\n",
    "* Print all items after 6th position"
   ]
  },
  {
   "cell_type": "code",
   "execution_count": null,
   "metadata": {
    "colab": {
     "base_uri": "https://localhost:8080/"
    },
    "executionInfo": {
     "elapsed": 10,
     "status": "ok",
     "timestamp": 1740639558155,
     "user": {
      "displayName": "Yen Ming Zhen (Njc)",
      "userId": "12782861662632693319"
     },
     "user_tz": -480
    },
    "id": "WwY8LA3YKo2B",
    "outputId": "397c4a4f-9c11-4423-feaa-cf105a9c59d8"
   },
   "outputs": [
    {
     "name": "stdout",
     "output_type": "stream",
     "text": [
      "[2, 3, 4]\n",
      "[6, 7, 8, 9]\n"
     ]
    }
   ],
   "source": [
    "#Exercise 3.2\n",
    "\n",
    "numList = [0, 1, 2, 3, 4, 5, 6, 7, 8, 9]\n",
    "print(numList[2:5])\n",
    "print(numList[6:])"
   ]
  },
  {
   "cell_type": "markdown",
   "metadata": {
    "id": "nv783V9WKo2B"
   },
   "source": [
    "#### Exercise 3.3\n",
    "The `num` is a list of integers from 0 to 9, split the list into 2 equal size sub list, `sub1` and `sub2`.\n",
    "\n",
    "```python\n",
    "num = [0, 1, 2, 3, 4, 5, 6, 7, 8, 9]\n",
    "```"
   ]
  },
  {
   "cell_type": "code",
   "execution_count": null,
   "metadata": {
    "colab": {
     "base_uri": "https://localhost:8080/"
    },
    "executionInfo": {
     "elapsed": 9,
     "status": "ok",
     "timestamp": 1740639707607,
     "user": {
      "displayName": "Yen Ming Zhen (Njc)",
      "userId": "12782861662632693319"
     },
     "user_tz": -480
    },
    "id": "g1XKgmghKo2B",
    "outputId": "70dbc6a6-31e7-4b67-8ad8-5078694f90b5",
    "tags": [
     "hide-cell"
    ]
   },
   "outputs": [
    {
     "name": "stdout",
     "output_type": "stream",
     "text": [
      "[0, 1, 2, 3, 4]\n",
      "[5, 6, 7, 8, 9]\n"
     ]
    }
   ],
   "source": [
    "#Exercise 3.3\n",
    "\n",
    "num = [0, 1, 2, 3, 4, 5, 6, 7, 8, 9]\n",
    "list1 = num[:5]\n",
    "list2 = num[5:]\n",
    "\n",
    "print(list1)\n",
    "print(list2)"
   ]
  },
  {
   "cell_type": "markdown",
   "metadata": {
    "id": "WlCO1gddKo2B"
   },
   "source": [
    "Remember list items can be accessed using `negative index`. Same technique can be applied for slicing too, i.e. we can **slice with negative index**.\n",
    "\n",
    "* Last item has index of -1\n",
    "\n",
    "#### Exercise 3.4\n",
    "\n",
    "For a list with integer 0-9,\n",
    "* How to get last 3 items from a list?\n",
    "* How to ignore last 3 items from a list?\n",
    "* How to strip first and last items from a list?"
   ]
  },
  {
   "cell_type": "code",
   "execution_count": null,
   "metadata": {
    "colab": {
     "base_uri": "https://localhost:8080/"
    },
    "executionInfo": {
     "elapsed": 11,
     "status": "ok",
     "timestamp": 1740639811537,
     "user": {
      "displayName": "Yen Ming Zhen (Njc)",
      "userId": "12782861662632693319"
     },
     "user_tz": -480
    },
    "id": "tjbnNDEcKo2C",
    "outputId": "93f6e581-47fe-4dc6-8571-1d772a1f3089",
    "tags": [
     "hide-cell"
    ]
   },
   "outputs": [
    {
     "name": "stdout",
     "output_type": "stream",
     "text": [
      "[7, 8, 9]\n",
      "[0, 1, 2, 3, 4, 5, 6]\n",
      "[1, 2, 3, 4, 5, 6, 7, 8]\n"
     ]
    }
   ],
   "source": [
    "#Exercise 3.4\n",
    "\n",
    "numList = [0, 1, 2, 3, 4, 5, 6, 7, 8, 9]\n",
    "print(numList[-3:])\n",
    "print(numList[:-3])\n",
    "print(numList[1:-1])"
   ]
  },
  {
   "cell_type": "markdown",
   "metadata": {
    "id": "vDQ1QCx6Ko2C"
   },
   "source": [
    "#### 3.1.1.3 Working with Lists"
   ]
  },
  {
   "cell_type": "markdown",
   "metadata": {
    "id": "H3KFDAZRKo2C"
   },
   "source": [
    "##### 3.1.1.3.1 Length of lists `len()`\n",
    "To find the length of the list or the number of elements in a list, the function `len( )` is used. Syntax is\n",
    "```python\n",
    "len(your_list)\n",
    "```\n",
    "\n",
    "#### Exercise 3.5\n",
    "Find the length of list `num = [0,1,2,3,4,5,6,7,8,9]`"
   ]
  },
  {
   "cell_type": "code",
   "execution_count": null,
   "metadata": {
    "colab": {
     "base_uri": "https://localhost:8080/"
    },
    "executionInfo": {
     "elapsed": 11,
     "status": "ok",
     "timestamp": 1740639841690,
     "user": {
      "displayName": "Yen Ming Zhen (Njc)",
      "userId": "12782861662632693319"
     },
     "user_tz": -480
    },
    "id": "4s0JgOmDKo2C",
    "outputId": "9de06bd3-172b-4b61-e5c3-1802b899c750"
   },
   "outputs": [
    {
     "data": {
      "text/plain": [
       "10"
      ]
     },
     "execution_count": 27,
     "metadata": {},
     "output_type": "execute_result"
    }
   ],
   "source": [
    "#Exercise 3.5\n",
    "\n",
    "num = [0,1,2,3,4,5,6,7,8,9]\n",
    "len(num)"
   ]
  },
  {
   "cell_type": "markdown",
   "metadata": {
    "id": "GtZbX4FaKo2D"
   },
   "source": [
    "##### 3.1.1.3.2 Maximum `max()`, minimum `min()` and sum `sum()` of all the values in the list\n",
    "\n",
    "If the list consists of all integer elements, the functions `min( )`, `max( )` and `sum()` gives the minimum item, maximum item and total sum value of the list. Syntax is\n",
    "```python\n",
    "max(your_list)\n",
    "min(your_list)\n",
    "sum(your_list)\n",
    "```\n",
    "\n",
    "#### Exercise 3.5\n",
    "Find the minimum value, max value and sum of all the values of list `num = [0,1,2,3,4,5,6,7,8,9]`"
   ]
  },
  {
   "cell_type": "code",
   "execution_count": null,
   "metadata": {
    "colab": {
     "base_uri": "https://localhost:8080/"
    },
    "executionInfo": {
     "elapsed": 25,
     "status": "ok",
     "timestamp": 1740639895739,
     "user": {
      "displayName": "Yen Ming Zhen (Njc)",
      "userId": "12782861662632693319"
     },
     "user_tz": -480
    },
    "id": "pExOIRrkKo2D",
    "outputId": "2e4b5f10-1ab7-424e-e232-7719a9e2e468"
   },
   "outputs": [
    {
     "name": "stdout",
     "output_type": "stream",
     "text": [
      "9\n",
      "0\n",
      "45\n"
     ]
    }
   ],
   "source": [
    "#Exercise 3.5\n",
    "\n",
    "num = [0,1,2,3,4,5,6,7,8,9]\n",
    "print(max(num))\n",
    "print(min(num))\n",
    "print(sum(num))"
   ]
  },
  {
   "cell_type": "markdown",
   "metadata": {
    "id": "MG4P3Gq7Ko2D"
   },
   "source": [
    "#### Exercise 3.6\n",
    "Find the maximum, minimum and sum of all the values of list `num = [0,1,2,3,4,5,6,7,8,9]` and use `.format()` string method to print out the following message.\n",
    "```python\n",
    "min = 0, max = 9, sum = 45\n",
    "```"
   ]
  },
  {
   "cell_type": "code",
   "execution_count": null,
   "metadata": {
    "colab": {
     "base_uri": "https://localhost:8080/"
    },
    "executionInfo": {
     "elapsed": 10,
     "status": "ok",
     "timestamp": 1740640027099,
     "user": {
      "displayName": "Yen Ming Zhen (Njc)",
      "userId": "12782861662632693319"
     },
     "user_tz": -480
    },
    "id": "voCuuesyKo2D",
    "outputId": "8a558b4a-58d7-43af-e223-7cbdb5c10602",
    "tags": [
     "hide-cell"
    ]
   },
   "outputs": [
    {
     "name": "stdout",
     "output_type": "stream",
     "text": [
      "min = 0, max = 9, sum = 45\n"
     ]
    }
   ],
   "source": [
    "#Exercise 3.6\n",
    "\n",
    "num = [0,1,2,3,4,5,6,7,8,9]\n",
    "print(f\"min = {min(num)}, max = {max(num)}, sum = {sum(num)}\")"
   ]
  },
  {
   "cell_type": "markdown",
   "metadata": {
    "id": "ACfxTYiXKo2E"
   },
   "source": [
    "For a list with elements as string, the `max()` and `min()` is still applicable.\n",
    "* `max()` would return a string element whose ASCII value is the highest\n",
    "* `min()` is used to return the lowest\n",
    "\n",
    "Note that only the first index of each element is considered each time and if they value is the same then second index considered so on and so forth."
   ]
  },
  {
   "cell_type": "markdown",
   "metadata": {
    "id": "4-3B6rvpKo2E"
   },
   "source": [
    "#### Exercise 3.7\n",
    "\n",
    "What is the output of `min()` and `max()` on following list? What would happen if `sum()` is applied?\n",
    "\n",
    "\n",
    "```python\n",
    "jc = ['tmjc', 'vjc', 'tjc', 'yijc', 'acjc', 'njc', 'hci', 'asrjc', 'jpjc', 'rjc', 'cjc', 'mi', 'dhs', 'ejc', 'sajc', 'nyjc']\n",
    "```"
   ]
  },
  {
   "cell_type": "code",
   "execution_count": null,
   "metadata": {
    "colab": {
     "base_uri": "https://localhost:8080/",
     "height": 211
    },
    "executionInfo": {
     "elapsed": 22,
     "status": "error",
     "timestamp": 1740640081278,
     "user": {
      "displayName": "Yen Ming Zhen (Njc)",
      "userId": "12782861662632693319"
     },
     "user_tz": -480
    },
    "id": "Ypn62qpJKo2E",
    "outputId": "9fc830d0-7bb7-43b7-c728-3a4d771c28f5"
   },
   "outputs": [
    {
     "name": "stdout",
     "output_type": "stream",
     "text": [
      "yijc\n",
      "acjc\n"
     ]
    },
    {
     "ename": "TypeError",
     "evalue": "unsupported operand type(s) for +: 'int' and 'str'",
     "output_type": "error",
     "traceback": [
      "\u001b[0;31m---------------------------------------------------------------------------\u001b[0m",
      "\u001b[0;31mTypeError\u001b[0m                                 Traceback (most recent call last)",
      "\u001b[0;32m<ipython-input-31-1eca5a5411d9>\u001b[0m in \u001b[0;36m<cell line: 0>\u001b[0;34m()\u001b[0m\n\u001b[1;32m      4\u001b[0m \u001b[0mprint\u001b[0m\u001b[0;34m(\u001b[0m\u001b[0mmax\u001b[0m\u001b[0;34m(\u001b[0m\u001b[0mjc\u001b[0m\u001b[0;34m)\u001b[0m\u001b[0;34m)\u001b[0m\u001b[0;34m\u001b[0m\u001b[0;34m\u001b[0m\u001b[0m\n\u001b[1;32m      5\u001b[0m \u001b[0mprint\u001b[0m\u001b[0;34m(\u001b[0m\u001b[0mmin\u001b[0m\u001b[0;34m(\u001b[0m\u001b[0mjc\u001b[0m\u001b[0;34m)\u001b[0m\u001b[0;34m)\u001b[0m\u001b[0;34m\u001b[0m\u001b[0;34m\u001b[0m\u001b[0m\n\u001b[0;32m----> 6\u001b[0;31m \u001b[0mprint\u001b[0m\u001b[0;34m(\u001b[0m\u001b[0msum\u001b[0m\u001b[0;34m(\u001b[0m\u001b[0mjc\u001b[0m\u001b[0;34m)\u001b[0m\u001b[0;34m)\u001b[0m\u001b[0;34m\u001b[0m\u001b[0;34m\u001b[0m\u001b[0m\n\u001b[0m",
      "\u001b[0;31mTypeError\u001b[0m: unsupported operand type(s) for +: 'int' and 'str'"
     ]
    }
   ],
   "source": [
    "#Exercise 3.7\n",
    "\n",
    "jc = ['tmjc', 'vjc', 'tjc', 'yijc', 'acjc', 'njc', 'hci', 'asrjc', 'jpjc', 'rjc', 'cjc', 'mi', 'dhs', 'ejc', 'sajc', 'nyjc']\n",
    "print(max(jc))\n",
    "print(min(jc))\n",
    "print(sum(jc))"
   ]
  },
  {
   "cell_type": "markdown",
   "metadata": {
    "id": "I27KaVY2Ko2E"
   },
   "source": [
    "##### 3.1.1.3.3 Reversing the values in a list with `reversed()` function\n",
    "\n",
    "The entire elements present in the list can be reversed by using the `reversed()` function.\n",
    "\n",
    "#### Exercise 3.8\n",
    "Modify following list by arranging items in reverse order.\n",
    "\n",
    "```python\n",
    "jc = ['tmjc', 'vjc', 'tjc', 'yijc', 'acjc', 'njc', 'hci', 'asrjc', 'jpjc', 'rjc', 'cjc', 'mi', 'dhs', 'ejc', 'sajc', 'nyjc']\n",
    "```"
   ]
  },
  {
   "cell_type": "code",
   "execution_count": null,
   "metadata": {
    "colab": {
     "base_uri": "https://localhost:8080/"
    },
    "executionInfo": {
     "elapsed": 47,
     "status": "ok",
     "timestamp": 1740985670777,
     "user": {
      "displayName": "Yen Ming Zhen (Njc)",
      "userId": "12782861662632693319"
     },
     "user_tz": -480
    },
    "id": "jiNFsFrbKo2E",
    "outputId": "2efb3327-7350-4be4-dba6-be3b56e37a40"
   },
   "outputs": [
    {
     "name": "stdout",
     "output_type": "stream",
     "text": [
      "['nyjc', 'sajc', 'ejc', 'dhs', 'mi', 'cjc', 'rjc', 'jpjc', 'asrjc', 'hci', 'njc', 'acjc', 'yijc', 'tjc', 'vjc', 'tmjc']\n"
     ]
    }
   ],
   "source": [
    "#Exercise 3.8\n",
    "\n",
    "jc = ['tmjc', 'vjc', 'tjc', 'yijc', 'acjc', 'njc', 'hci', 'asrjc', 'jpjc', 'rjc', 'cjc', 'mi', 'dhs', 'ejc', 'sajc', 'nyjc']\n",
    "jc.reverse()\n",
    "print(jc)"
   ]
  },
  {
   "cell_type": "markdown",
   "metadata": {
    "id": "TUaL2HV1Ko2E"
   },
   "source": [
    "#### Exercise 3.9\n",
    "\n",
    "Can you print out the items in reverse order without modifying the list?\n",
    "* Hint: use indexing with step `-1`\n",
    "\n",
    "```python\n",
    "jc = ['tmjc', 'vjc', 'tjc', 'yijc', 'acjc', 'njc', 'hci', 'asrjc', 'jpjc', 'rjc', 'cjc', 'mi', 'dhs', 'ejc', 'sajc', 'nyjc']\n",
    "```"
   ]
  },
  {
   "cell_type": "code",
   "execution_count": null,
   "metadata": {
    "colab": {
     "base_uri": "https://localhost:8080/"
    },
    "executionInfo": {
     "elapsed": 40,
     "status": "ok",
     "timestamp": 1740640478348,
     "user": {
      "displayName": "Yen Ming Zhen (Njc)",
      "userId": "12782861662632693319"
     },
     "user_tz": -480
    },
    "id": "O430d2QiKo2E",
    "outputId": "79b3aaa7-7c6c-460e-a3a8-b622c5f7d30f"
   },
   "outputs": [
    {
     "name": "stdout",
     "output_type": "stream",
     "text": [
      "['nyjc', 'sajc', 'ejc', 'dhs', 'mi', 'cjc', 'rjc', 'jpjc', 'asrjc', 'hci', 'njc', 'acjc', 'yijc', 'tjc', 'vjc', 'tmjc']\n"
     ]
    }
   ],
   "source": [
    "#Exercise 3.9\n",
    "\n",
    "jc = ['tmjc', 'vjc', 'tjc', 'yijc', 'acjc', 'njc', 'hci', 'asrjc', 'jpjc', 'rjc', 'cjc', 'mi', 'dhs', 'ejc', 'sajc', 'nyjc']\n",
    "newList = []\n",
    "\n",
    "for c in range(len(jc)):\n",
    "  newList.append(jc[-c-1])\n",
    "\n",
    "print(newList)"
   ]
  },
  {
   "cell_type": "markdown",
   "metadata": {
    "id": "xX__TAcZKo2K"
   },
   "source": [
    "##### 3.1.1.3.3 Sorting elements in a list with `sorted()` function\n",
    "\n",
    "Python offers built in operation `sorted( )` to arrange the elements in **ascending** order. Syntax is\n",
    "\n",
    "```python\n",
    "sorted(your_list)\n",
    "```\n",
    "\n",
    "For **descending** order, specify the named argument `reverse = True`. Syntax is\n",
    "\n",
    "```python\n",
    "sorted(your_list, reverse = True)\n",
    "```\n",
    "\n",
    "By default the reverse condition will be `False` for reverse. Hence changing it to `True` would arrange the elements in descending order."
   ]
  },
  {
   "cell_type": "markdown",
   "metadata": {
    "id": "YE01fYVSKo2K"
   },
   "source": [
    "#### Exercise 3.10\n",
    "\n",
    "* Check out the documentation of `list.sort()` method\n",
    "* Sort following list in <u>ascending</u> order, and then in <u>descending</u> order\n",
    "```python\n",
    "jc = ['tmjc', 'vjc', 'tjc', 'yijc', 'acjc', 'njc', 'hci', 'asrjc', 'jpjc', 'rjc', 'cjc', 'mi', 'dhs', 'ejc', 'sajc', 'nyjc']\n",
    "\n",
    "```"
   ]
  },
  {
   "cell_type": "code",
   "execution_count": null,
   "metadata": {
    "colab": {
     "base_uri": "https://localhost:8080/"
    },
    "executionInfo": {
     "elapsed": 11,
     "status": "ok",
     "timestamp": 1740640582395,
     "user": {
      "displayName": "Yen Ming Zhen (Njc)",
      "userId": "12782861662632693319"
     },
     "user_tz": -480
    },
    "id": "4Xz4m9WIKo2L",
    "outputId": "13e1010e-0a6b-4c8b-9670-7995234b9ce4"
   },
   "outputs": [
    {
     "name": "stdout",
     "output_type": "stream",
     "text": [
      "['acjc', 'asrjc', 'cjc', 'dhs', 'ejc', 'hci', 'jpjc', 'mi', 'njc', 'nyjc', 'rjc', 'sajc', 'tjc', 'tmjc', 'vjc', 'yijc']\n",
      "['yijc', 'vjc', 'tmjc', 'tjc', 'sajc', 'rjc', 'nyjc', 'njc', 'mi', 'jpjc', 'hci', 'ejc', 'dhs', 'cjc', 'asrjc', 'acjc']\n"
     ]
    }
   ],
   "source": [
    "#Exercise 3.10\n",
    "\n",
    "jc = ['tmjc', 'vjc', 'tjc', 'yijc', 'acjc', 'njc', 'hci', 'asrjc', 'jpjc', 'rjc', 'cjc', 'mi', 'dhs', 'ejc', 'sajc', 'nyjc']\n",
    "jc.sort(reverse = False)\n",
    "print(jc)\n",
    "\n",
    "jc.sort(reverse = True)\n",
    "print(jc)"
   ]
  },
  {
   "cell_type": "markdown",
   "metadata": {
    "id": "4Zw3QNj-Ko2L"
   },
   "source": [
    "#### Exercise 3.11\n",
    "\n",
    "* What's the difference between `list.sort()` method and `sorted()` function?\n",
    "* Write code to illustrate the difference.\n"
   ]
  },
  {
   "cell_type": "code",
   "execution_count": null,
   "metadata": {
    "colab": {
     "base_uri": "https://localhost:8080/"
    },
    "executionInfo": {
     "elapsed": 17,
     "status": "ok",
     "timestamp": 1740640639199,
     "user": {
      "displayName": "Yen Ming Zhen (Njc)",
      "userId": "12782861662632693319"
     },
     "user_tz": -480
    },
    "id": "obTgTt34Ko2L",
    "outputId": "167801f2-c9d5-4925-dfaa-4487adb5df78"
   },
   "outputs": [
    {
     "name": "stdout",
     "output_type": "stream",
     "text": [
      "['acjc', 'asrjc', 'cjc', 'dhs', 'ejc', 'hci', 'jpjc', 'mi', 'njc', 'nyjc', 'rjc', 'sajc', 'tjc', 'tmjc', 'vjc', 'yijc']\n",
      "['tmjc', 'vjc', 'tjc', 'yijc', 'acjc', 'njc', 'hci', 'asrjc', 'jpjc', 'rjc', 'cjc', 'mi', 'dhs', 'ejc', 'sajc', 'nyjc']\n",
      "['acjc', 'asrjc', 'cjc', 'dhs', 'ejc', 'hci', 'jpjc', 'mi', 'njc', 'nyjc', 'rjc', 'sajc', 'tjc', 'tmjc', 'vjc', 'yijc']\n"
     ]
    }
   ],
   "source": [
    "#Exercise 3.11\n",
    "\n",
    "jc = ['tmjc', 'vjc', 'tjc', 'yijc', 'acjc', 'njc', 'hci', 'asrjc', 'jpjc', 'rjc', 'cjc', 'mi', 'dhs', 'ejc', 'sajc', 'nyjc']\n",
    "print(sorted(jc))\n",
    "print(jc)\n",
    "\n",
    "jc.sort()\n",
    "print(jc)"
   ]
  },
  {
   "cell_type": "markdown",
   "metadata": {
    "id": "9pb-1zF9Ko2L"
   },
   "source": [
    "The `sorted()` function has another named argument `key`, which allows us to specify a callable function to adjust our sorting criteria. Syntax is\n",
    "\n",
    "```python\n",
    "sorted(your_list, key = your_function)\n",
    "```\n",
    "\n",
    "The sorting will be done based on returned value from this callable function.\n"
   ]
  },
  {
   "cell_type": "markdown",
   "metadata": {
    "id": "QntvhNJdKo2L"
   },
   "source": [
    "#### Exercise 3.12\n",
    "\n",
    "For following list of items, sort them by number of characters in each item.\n",
    "* *Hint:* The `len()` function returns length of a string. To sort based on string length, `key = len` can be specified as shown.\n",
    "\n",
    "```python\n",
    "names = ['duck', 'chicken', 'goose']\n",
    "```"
   ]
  },
  {
   "cell_type": "code",
   "execution_count": null,
   "metadata": {
    "colab": {
     "base_uri": "https://localhost:8080/"
    },
    "executionInfo": {
     "elapsed": 58,
     "status": "ok",
     "timestamp": 1740640679360,
     "user": {
      "displayName": "Yen Ming Zhen (Njc)",
      "userId": "12782861662632693319"
     },
     "user_tz": -480
    },
    "id": "UZVM0BffKo2L",
    "outputId": "5e387e60-c4bc-4886-8f3c-bc30e14ccc62"
   },
   "outputs": [
    {
     "name": "stdout",
     "output_type": "stream",
     "text": [
      "['duck', 'goose', 'chicken']\n"
     ]
    }
   ],
   "source": [
    "#Exercise 3.12\n",
    "\n",
    "names = ['duck', 'chicken', 'goose']\n",
    "print(sorted(names, key = len))"
   ]
  },
  {
   "cell_type": "markdown",
   "metadata": {
    "id": "H7smXm4VKo2M"
   },
   "source": [
    "#### Exercise 3.13\n",
    "\n",
    "For a list `[-1, 5, -30, -10, 2, 20, -3]`, sort the list in descending order by their absolute value.\n",
    "* *Hint:* The `abs()` function returns absolute value of a number."
   ]
  },
  {
   "cell_type": "code",
   "execution_count": null,
   "metadata": {
    "colab": {
     "base_uri": "https://localhost:8080/"
    },
    "executionInfo": {
     "elapsed": 18,
     "status": "ok",
     "timestamp": 1740641017298,
     "user": {
      "displayName": "Yen Ming Zhen (Njc)",
      "userId": "12782861662632693319"
     },
     "user_tz": -480
    },
    "id": "CiSaqva9Ko2M",
    "outputId": "f59b8d4a-55bc-4172-bf33-ddf62fb6ab48",
    "tags": [
     "hide-cell"
    ]
   },
   "outputs": [
    {
     "name": "stdout",
     "output_type": "stream",
     "text": [
      "[-1, 2, -3, 5, -10, 20, -30]\n"
     ]
    }
   ],
   "source": [
    "#Exercise 3.13\n",
    "\n",
    "def absValue(n):\n",
    "  return abs(n)\n",
    "\n",
    "numList = [-1, 5, -30, -10, 2, 20, -3]\n",
    "print(sorted(numList, key = absValue))"
   ]
  },
  {
   "cell_type": "markdown",
   "metadata": {
    "id": "2MLJQXSSKo2M"
   },
   "source": [
    "Two lists can also be join together simply using `+` operator. This is called the **concatenation of lists**.\n",
    "\n",
    "#### Exercise 3.14\n",
    "\n",
    "Concatenate the lists `[1, 2, 3, 4, 5]` and `[6, 7, 8, 9]`"
   ]
  },
  {
   "cell_type": "code",
   "execution_count": null,
   "metadata": {
    "colab": {
     "base_uri": "https://localhost:8080/"
    },
    "executionInfo": {
     "elapsed": 9,
     "status": "ok",
     "timestamp": 1740641142098,
     "user": {
      "displayName": "Yen Ming Zhen (Njc)",
      "userId": "12782861662632693319"
     },
     "user_tz": -480
    },
    "id": "i28IiX4KKo2M",
    "outputId": "a0b65a48-ce89-40a6-82fd-919805c8faa9"
   },
   "outputs": [
    {
     "name": "stdout",
     "output_type": "stream",
     "text": [
      "[1, 2, 3, 4, 5, 6, 7, 8, 9, 10]\n"
     ]
    }
   ],
   "source": [
    "#Exercise 3.14\n",
    "\n",
    "concatenation = [1, 2, 3, 4, 5] + [6, 7, 8, 9, 10]\n",
    "print(concatenation)"
   ]
  },
  {
   "cell_type": "markdown",
   "metadata": {
    "id": "hsl9pnW8Ko2M"
   },
   "source": [
    "Similar to String, we can repeat a list multiple times with `*` operator.\n",
    "\n",
    "#### Exercise 3.15  \n",
    "\n",
    "Create a list `[1, 2, 3, 1, 2, 3, 1, 2, 3, 1, 2, 3]` from list `[1, 2, 3]`.\n"
   ]
  },
  {
   "cell_type": "code",
   "execution_count": null,
   "metadata": {
    "colab": {
     "base_uri": "https://localhost:8080/"
    },
    "executionInfo": {
     "elapsed": 10,
     "status": "ok",
     "timestamp": 1740641192683,
     "user": {
      "displayName": "Yen Ming Zhen (Njc)",
      "userId": "12782861662632693319"
     },
     "user_tz": -480
    },
    "id": "9K_KeK08Ko2M",
    "outputId": "381ea265-233e-4ff4-fd43-b170466a2ee9"
   },
   "outputs": [
    {
     "name": "stdout",
     "output_type": "stream",
     "text": [
      "[1, 2, 3, 1, 2, 3, 1, 2, 3, 1, 2, 3]\n"
     ]
    }
   ],
   "source": [
    "#Exercise 3.15\n",
    "\n",
    "multiple = [1, 2, 3 ] * 4\n",
    "print(multiple)"
   ]
  },
  {
   "cell_type": "markdown",
   "metadata": {
    "id": "dMzwDtWbKo2M"
   },
   "source": [
    "Recap: String has many similar behaviors as list.\n",
    "\n",
    "#### Exercise 3.16\n",
    "\n",
    "* How to concatenate 2 strings?\n",
    "* How to repeat a string 2 times?"
   ]
  },
  {
   "cell_type": "code",
   "execution_count": null,
   "metadata": {
    "colab": {
     "base_uri": "https://localhost:8080/"
    },
    "executionInfo": {
     "elapsed": 45,
     "status": "ok",
     "timestamp": 1740641252095,
     "user": {
      "displayName": "Yen Ming Zhen (Njc)",
      "userId": "12782861662632693319"
     },
     "user_tz": -480
    },
    "id": "Ah-HHppNKo2N",
    "outputId": "da6ff867-b2a1-4ecf-ade8-22a3cf5d2323"
   },
   "outputs": [
    {
     "name": "stdout",
     "output_type": "stream",
     "text": [
      "[1, 2, 3, 4, 2, 3, 4, 5]\n",
      "[1, 2, 3, 4, 1, 2, 3, 4]\n"
     ]
    }
   ],
   "source": [
    "#Exercise 3.16\n",
    "\n",
    "myList = [1, 2, 3, 4]\n",
    "\n",
    "print(myList + [2, 3, 4, 5])\n",
    "print(myList * 2)"
   ]
  },
  {
   "cell_type": "markdown",
   "metadata": {
    "id": "L121BRk4Ko2N"
   },
   "source": [
    "#### 3.1.1.4 Membership and Searching elements in a list\n",
    "\n",
    "You might need to check if a particular item is in a list.\n",
    "\n",
    "Instead of using `for` loop to iterate over the list and use the if condition, Python provides a simple **`in`** statement to check membership of an item.\n",
    "\n",
    "#### Exercise 3.17\n",
    "\n",
    "Write code to find out whether `'duck'` and `'dog'` are in the list `['duck', 'chicken', 'goose']` respectively."
   ]
  },
  {
   "cell_type": "code",
   "execution_count": null,
   "metadata": {
    "colab": {
     "base_uri": "https://localhost:8080/"
    },
    "executionInfo": {
     "elapsed": 8,
     "status": "ok",
     "timestamp": 1740641331061,
     "user": {
      "displayName": "Yen Ming Zhen (Njc)",
      "userId": "12782861662632693319"
     },
     "user_tz": -480
    },
    "id": "Jf3Zw2CfKo2N",
    "outputId": "08f81a80-926a-482a-af03-15daa78dcac2"
   },
   "outputs": [
    {
     "name": "stdout",
     "output_type": "stream",
     "text": [
      "duck\n"
     ]
    }
   ],
   "source": [
    "#Exercise 3.17\n",
    "\n",
    "animalList = ['duck', 'chicken', 'goose']\n",
    "\n",
    "if 'duck' in animalList:\n",
    "  print(\"duck\")\n",
    "\n",
    "if \"dog\" in animalList:\n",
    "  print(\"dog\")"
   ]
  },
  {
   "cell_type": "markdown",
   "metadata": {
    "id": "5jR9ni0WKo2N"
   },
   "source": [
    "To count the occurence of a particular item in a list, we can use the `.count()` method. Syntax is\n",
    ">```python\n",
    ">your_list.count(item)\n",
    ">```\n",
    "\n",
    "#### Exercise 3.18\n",
    "* Create a list `['duck', 'chicken', 'goose', 'duck', 'chicken', 'goose', 'duck', 'chicken', 'goose']` from `['duck', 'chicken', 'goose']`\n",
    "* Count number of occurence of `'duck'`"
   ]
  },
  {
   "cell_type": "code",
   "execution_count": null,
   "metadata": {
    "colab": {
     "base_uri": "https://localhost:8080/"
    },
    "executionInfo": {
     "elapsed": 9,
     "status": "ok",
     "timestamp": 1740641426912,
     "user": {
      "displayName": "Yen Ming Zhen (Njc)",
      "userId": "12782861662632693319"
     },
     "user_tz": -480
    },
    "id": "-njWlyKLKo2N",
    "outputId": "f2a7cafa-886f-4be6-f647-5513aacf154f"
   },
   "outputs": [
    {
     "name": "stdout",
     "output_type": "stream",
     "text": [
      "3\n"
     ]
    }
   ],
   "source": [
    "#Exercise 3.18\n",
    "\n",
    "animalList = ['duck', 'chicken', 'goose']\n",
    "animalList *= 3\n",
    "print(animalList.count(\"duck\"))"
   ]
  },
  {
   "cell_type": "markdown",
   "metadata": {
    "id": "F8MZ-HCqKo2O"
   },
   "source": [
    "To find the index value of a particular item, we can use `.index()` method. Syntax is\n",
    ">```python\n",
    ">your_list.index(item)\n",
    ">```\n",
    "\n",
    "* If there are multiple items of the same value, only the first index value of that item is returned.\n",
    "* You can add 2nd argument `x` to start searching from index `x` onwards.\n",
    "\n",
    "Note: the string functions `find()` and `rfind()` are <u>not available</u> for list.\n",
    "\n",
    "#### Exercise 3.19\n",
    "* Create a list `['duck', 'chicken', 'goose', 'duck', 'chicken', 'goose', 'duck', 'chicken', 'goose']` from `['duck', 'chicken', 'goose']`\n",
    "* Find the index of the first occurence of `'duck'` in the list.\n",
    "* Find ALL the indices of occurences of `'duck'` in the list."
   ]
  },
  {
   "cell_type": "code",
   "execution_count": null,
   "metadata": {
    "colab": {
     "base_uri": "https://localhost:8080/"
    },
    "executionInfo": {
     "elapsed": 8,
     "status": "ok",
     "timestamp": 1740641663941,
     "user": {
      "displayName": "Yen Ming Zhen (Njc)",
      "userId": "12782861662632693319"
     },
     "user_tz": -480
    },
    "id": "VES0XkmJKo2O",
    "outputId": "640bc5ff-6b90-4c1c-c523-999e58ebcbb7"
   },
   "outputs": [
    {
     "name": "stdout",
     "output_type": "stream",
     "text": [
      "0\n",
      "3\n",
      "6\n"
     ]
    }
   ],
   "source": [
    "#Exercise 3.19\n",
    "\n",
    "animalList = ['duck', 'chicken', 'goose']\n",
    "animalList *= 3\n",
    "while \"duck\" in animalList:\n",
    "  duckIndex = animalList.index('duck')\n",
    "  print(duckIndex)\n",
    "  animalList[duckIndex] = 0"
   ]
  },
  {
   "cell_type": "markdown",
   "metadata": {
    "id": "0Bn7t-OfKo2O"
   },
   "source": [
    "#### 3.1.1.5 Iterating through List\n",
    "\n",
    "To iterate through a collection, e.g. list or tuple, you can use **for-loop**.\n",
    "\n",
    "**Syntax**\n",
    "```python\n",
    "for item in my_list:\n",
    "    # Process each item\n",
    "```\n",
    "\n",
    "#### Exercise 3.20\n",
    "\n",
    "Print out each item in `names` list.\n",
    "```python\n",
    "names = ['duck', 'chicken', 'goose']\n",
    "```"
   ]
  },
  {
   "cell_type": "code",
   "execution_count": null,
   "metadata": {
    "colab": {
     "base_uri": "https://localhost:8080/"
    },
    "executionInfo": {
     "elapsed": 10,
     "status": "ok",
     "timestamp": 1740641698250,
     "user": {
      "displayName": "Yen Ming Zhen (Njc)",
      "userId": "12782861662632693319"
     },
     "user_tz": -480
    },
    "id": "GAVMNL5MKo2O",
    "outputId": "48900485-b482-42d6-e769-f260b9961f78"
   },
   "outputs": [
    {
     "name": "stdout",
     "output_type": "stream",
     "text": [
      "duck\n",
      "chicken\n",
      "goose\n"
     ]
    }
   ],
   "source": [
    "#Exercise 3.20\n",
    "\n",
    "names = ['duck', 'chicken', 'goose']\n",
    "\n",
    "for c in names:\n",
    "  print(c)"
   ]
  },
  {
   "cell_type": "markdown",
   "metadata": {
    "id": "Sy41nyxNKo2Q"
   },
   "source": [
    "To find the index value of each item in the list, we can use `enumerate()` function in a **for-loop**. Syntax is\n",
    "```python\n",
    "for index, item enumerate(your_list):\n",
    "    # Process each index and item\n",
    "```\n",
    "\n",
    "#### Exercise 3.21\n",
    "* Print items in list `['duck', 'chicken', 'goose']` as following output.\n",
    "\n",
    ">```python\n",
    ">0 duck\n",
    ">1 chicken\n",
    ">2 goose\n",
    ">```"
   ]
  },
  {
   "cell_type": "code",
   "execution_count": null,
   "metadata": {
    "colab": {
     "base_uri": "https://localhost:8080/"
    },
    "executionInfo": {
     "elapsed": 41,
     "status": "ok",
     "timestamp": 1740641740061,
     "user": {
      "displayName": "Yen Ming Zhen (Njc)",
      "userId": "12782861662632693319"
     },
     "user_tz": -480
    },
    "id": "O6YhdJ2gKo2Q",
    "outputId": "94f91be8-7abf-4b2d-b108-827b072b1a3b"
   },
   "outputs": [
    {
     "name": "stdout",
     "output_type": "stream",
     "text": [
      "0 duck\n",
      "1 chicken\n",
      "2 goose\n"
     ]
    }
   ],
   "source": [
    "#Exercise 3.21\n",
    "\n",
    "names = ['duck', 'chicken', 'goose']\n",
    "\n",
    "for i, c in enumerate(names):\n",
    "  print(i, c)"
   ]
  },
  {
   "cell_type": "markdown",
   "metadata": {
    "id": "DbzT7aOKKo2R"
   },
   "source": [
    "Python provides a very handy way to perform same operate on all items in a list, and return a new list, called *list comprehension*.\n",
    "\n",
    "#### Exercise 3.22\n",
    "\n",
    "Create a list which contains len() value of each item in `['duck', 'chicken', 'goose']`\n"
   ]
  },
  {
   "cell_type": "code",
   "execution_count": null,
   "metadata": {
    "colab": {
     "base_uri": "https://localhost:8080/"
    },
    "executionInfo": {
     "elapsed": 21,
     "status": "ok",
     "timestamp": 1740985555081,
     "user": {
      "displayName": "Yen Ming Zhen (Njc)",
      "userId": "12782861662632693319"
     },
     "user_tz": -480
    },
    "id": "e8cUqo2jKo2R",
    "outputId": "f0f82497-90e1-4c41-d8ff-909c618db049"
   },
   "outputs": [
    {
     "name": "stdout",
     "output_type": "stream",
     "text": [
      "[4, 7, 5]\n"
     ]
    }
   ],
   "source": [
    "#Exercise 3.22\n",
    "\n",
    "lenList = []\n",
    "animalList = ['duck', 'chicken', 'goose']\n",
    "\n",
    "for c in animalList:\n",
    "  lenList += [len(c)]\n",
    "\n",
    "print(lenList)"
   ]
  },
  {
   "cell_type": "markdown",
   "metadata": {
    "id": "AI2RInnoKo2R"
   },
   "source": [
    "#### Exercise 3.23\n",
    "\n",
    "Create a list which contain the first 100 terms of an arithmetic sequence with first term 2 and common difference 3."
   ]
  },
  {
   "cell_type": "code",
   "execution_count": null,
   "metadata": {
    "colab": {
     "base_uri": "https://localhost:8080/"
    },
    "executionInfo": {
     "elapsed": 46,
     "status": "ok",
     "timestamp": 1740985883350,
     "user": {
      "displayName": "Yen Ming Zhen (Njc)",
      "userId": "12782861662632693319"
     },
     "user_tz": -480
    },
    "id": "ADKNy2fZKo2R",
    "outputId": "2cbf9d18-a90b-4a14-b66d-b73997707b0d"
   },
   "outputs": [
    {
     "name": "stdout",
     "output_type": "stream",
     "text": [
      "[2, 5, 8, 11, 14, 17, 20, 23, 26, 29, 32, 35, 38, 41, 44, 47, 50, 53, 56, 59, 62, 65, 68, 71, 74, 77, 80, 83, 86, 89, 92, 95, 98, 101, 104, 107, 110, 113, 116, 119, 122, 125, 128, 131, 134, 137, 140, 143, 146, 149, 152, 155, 158, 161, 164, 167, 170, 173, 176, 179, 182, 185, 188, 191, 194, 197, 200, 203, 206, 209, 212, 215, 218, 221, 224, 227, 230, 233, 236, 239, 242, 245, 248, 251, 254, 257, 260, 263, 266, 269, 272, 275, 278, 281, 284, 287, 290, 293, 296, 299]\n"
     ]
    }
   ],
   "source": [
    "#Exercise 3.23\n",
    "\n",
    "numList = []\n",
    "\n",
    "for i in range(2, 2 + 100 * 3, 3):\n",
    "  numList += [i]\n",
    "\n",
    "print(numList)"
   ]
  },
  {
   "cell_type": "markdown",
   "metadata": {
    "id": "FaUHrcKxKo2S"
   },
   "source": [
    "#### Exercise 3.24\n",
    "Create a list where all items are prefixed with a string 'big', which resulted in `['big duck', 'big chicken', 'big goose']`?\n",
    "\n",
    "```python\n",
    "names = ['duck', 'chicken', 'goose']\n",
    "```"
   ]
  },
  {
   "cell_type": "code",
   "execution_count": null,
   "metadata": {
    "colab": {
     "base_uri": "https://localhost:8080/"
    },
    "executionInfo": {
     "elapsed": 38,
     "status": "ok",
     "timestamp": 1740985994056,
     "user": {
      "displayName": "Yen Ming Zhen (Njc)",
      "userId": "12782861662632693319"
     },
     "user_tz": -480
    },
    "id": "35jkRRhYKo2S",
    "outputId": "95ed7a0c-5e0b-4742-e1d0-1b10ded3b610",
    "tags": [
     "hide-cell"
    ]
   },
   "outputs": [
    {
     "name": "stdout",
     "output_type": "stream",
     "text": [
      "['big duck', 'big chicken', 'big goose']\n"
     ]
    }
   ],
   "source": [
    "#Exercise 3.24\n",
    "\n",
    "names = ['duck', 'chicken', 'goose']\n",
    "bigList = []\n",
    "\n",
    "for c in names:\n",
    "  bigList += [\"big \" + c]\n",
    "\n",
    "print(bigList)"
   ]
  },
  {
   "cell_type": "markdown",
   "metadata": {
    "id": "GG_8KF2wKo2S"
   },
   "source": [
    "#### 3.1.1.4 Modifying a list\n",
    "\n",
    "List is a **mutable** collection, i.e. list can be modified and item value can be updated."
   ]
  },
  {
   "cell_type": "markdown",
   "metadata": {
    "id": "SA3JCDjvKo2S"
   },
   "source": [
    "It is easy to update an item in the list by its index value.\n",
    "\n",
    "#### Exercise 3.25\n",
    "\n",
    "For a list `s = [0,1,2,3,4]`, update its 3rd item to `9`."
   ]
  },
  {
   "cell_type": "code",
   "execution_count": null,
   "metadata": {
    "colab": {
     "base_uri": "https://localhost:8080/"
    },
    "executionInfo": {
     "elapsed": 20,
     "status": "ok",
     "timestamp": 1740986102446,
     "user": {
      "displayName": "Yen Ming Zhen (Njc)",
      "userId": "12782861662632693319"
     },
     "user_tz": -480
    },
    "id": "patlGegjKo2S",
    "outputId": "4ef980cc-7bb9-4fcc-f50c-579a3162a485"
   },
   "outputs": [
    {
     "name": "stdout",
     "output_type": "stream",
     "text": [
      "[0, 1, 9, 3, 4]\n"
     ]
    }
   ],
   "source": [
    "#Exercise 3.25\n",
    "\n",
    "s = [0, 1, 2, 3, 4]\n",
    "s[2] = 9\n",
    "print(s)"
   ]
  },
  {
   "cell_type": "markdown",
   "metadata": {
    "id": "am6F2DQtKo2S"
   },
   "source": [
    "The `list.append()` method is used to append (add) a element at the end of the list. Syntax is\n",
    ">```python\n",
    ">your_list.append(element)\n",
    ">```\n",
    "\n",
    "#### Exercise 3.26\n",
    "\n",
    "For a list `s = [0, 1, 2, 3, 4, 5]`, append a value `6` to it."
   ]
  },
  {
   "cell_type": "code",
   "execution_count": null,
   "metadata": {
    "colab": {
     "base_uri": "https://localhost:8080/"
    },
    "executionInfo": {
     "elapsed": 27,
     "status": "ok",
     "timestamp": 1740986097981,
     "user": {
      "displayName": "Yen Ming Zhen (Njc)",
      "userId": "12782861662632693319"
     },
     "user_tz": -480
    },
    "id": "qh2ZlcV8Ko2T",
    "outputId": "631320af-1706-4843-aa59-48276315f27e"
   },
   "outputs": [
    {
     "name": "stdout",
     "output_type": "stream",
     "text": [
      "[0, 1, 2, 3, 4, 5, 6]\n"
     ]
    }
   ],
   "source": [
    "#Exercise 3.26\n",
    "\n",
    "s = [0, 1, 2, 3, 4, 5]\n",
    "s.append(6)\n",
    "print(s)"
   ]
  },
  {
   "cell_type": "markdown",
   "metadata": {
    "id": "hxkxJRmEKo2T"
   },
   "source": [
    "#### Exercise 3.27\n",
    "\n",
    "What happens if you append a list `[7, 8, 9]` to a list `[1, 2, 3, 4, 5, 6]`?\n"
   ]
  },
  {
   "cell_type": "code",
   "execution_count": null,
   "metadata": {
    "colab": {
     "base_uri": "https://localhost:8080/"
    },
    "executionInfo": {
     "elapsed": 10,
     "status": "ok",
     "timestamp": 1740986125737,
     "user": {
      "displayName": "Yen Ming Zhen (Njc)",
      "userId": "12782861662632693319"
     },
     "user_tz": -480
    },
    "id": "ycRvRwNYKo2T",
    "outputId": "c6c4ecc2-1c00-4bc6-f256-e5dfa2c25e0d",
    "tags": [
     "hide-cell"
    ]
   },
   "outputs": [
    {
     "name": "stdout",
     "output_type": "stream",
     "text": [
      "[0, 1, 2, 3, 4, 5, 6, [7, 8, 9]]\n"
     ]
    }
   ],
   "source": [
    "#Exercise 3.27\n",
    "\n"
   ]
  },
  {
   "cell_type": "markdown",
   "metadata": {
    "id": "R5ZL9U0FKo2T"
   },
   "source": [
    "A list can also be **extended** with items from another list using `list.extend()` method. It will modify the first list. The resultant list will contain all the elements of the lists that were added, i.e. the resultant list is NOT a nested list. Syntax is\n",
    ">```python\n",
    ">your_list.extend(another_list)\n",
    ">```\n",
    "\n",
    "**Note** the difference between `append()` and `extend()`."
   ]
  },
  {
   "cell_type": "markdown",
   "metadata": {
    "id": "Y07NQBVnKo2T"
   },
   "source": [
    "\n",
    "#### Exercise 3.28\n",
    "\n",
    "Extend a list `[1, 2, 3, 4, 5, 6]` with all items in another list `[7, 8, 9]`."
   ]
  },
  {
   "cell_type": "code",
   "execution_count": null,
   "metadata": {
    "colab": {
     "base_uri": "https://localhost:8080/"
    },
    "executionInfo": {
     "elapsed": 66,
     "status": "ok",
     "timestamp": 1740986237861,
     "user": {
      "displayName": "Yen Ming Zhen (Njc)",
      "userId": "12782861662632693319"
     },
     "user_tz": -480
    },
    "id": "onzyWjQNKo2T",
    "outputId": "a4fd3799-343c-436c-9158-da1931dbbb2b"
   },
   "outputs": [
    {
     "name": "stdout",
     "output_type": "stream",
     "text": [
      "[0, 1, 2, 3, 4, 5, 6, 7, 8, 9]\n"
     ]
    }
   ],
   "source": [
    "#Exercise 3.28\n",
    "\n",
    "s = [0, 1, 2, 3, 4, 5, 6]\n",
    "s.extend([7, 8, 9])\n",
    "print(s)"
   ]
  },
  {
   "cell_type": "markdown",
   "metadata": {
    "id": "dfjaQZ-EKo2T"
   },
   "source": [
    "**Question:**\n",
    "\n",
    "* Can you re-write above code using `+` operator?\n",
    "* Can you insert `[7, 8, 9]` in the middle of `[1, 2, 3, 4, 5, 6]` using `+` operator?"
   ]
  },
  {
   "cell_type": "code",
   "execution_count": null,
   "metadata": {
    "colab": {
     "base_uri": "https://localhost:8080/"
    },
    "executionInfo": {
     "elapsed": 25,
     "status": "ok",
     "timestamp": 1740986258324,
     "user": {
      "displayName": "Yen Ming Zhen (Njc)",
      "userId": "12782861662632693319"
     },
     "user_tz": -480
    },
    "id": "kjQ4z9pQKo2U",
    "outputId": "0ad08afc-5657-457a-8622-47338173bbf6",
    "tags": [
     "hide-cell"
    ]
   },
   "outputs": [
    {
     "name": "stdout",
     "output_type": "stream",
     "text": [
      "[0, 1, 2, 3, 4, 5, 6, 7, 8, 9]\n"
     ]
    }
   ],
   "source": [
    "#Exercise 3.28\n",
    "\n",
    "s = [0, 1, 2, 3, 4, 5, 6]\n",
    "s += [7, 8, 9]\n",
    "print(s)"
   ]
  },
  {
   "cell_type": "markdown",
   "metadata": {
    "id": "GPEZPPVAKo2U"
   },
   "source": [
    "The method `list.insert(position,new_value)` is used to insert a element `new_value` at a specified index value `position`. Syntax is\n",
    ">```python\n",
    ">your_list.insert(position,new_value)\n",
    ">```\n",
    "\n",
    "* `list.insert()` method does not replace element at the index.\n",
    "* `list.append( )` method can only insert item at the end.\n",
    "\n",
    "#### Exercise 3.29\n",
    "\n",
    "Use `list.insert()` method to modify a string `'What a day'` to `'What a sunny day'`.\n",
    "* *Hint:* Use `str.split()` and `str.join()` methods."
   ]
  },
  {
   "cell_type": "code",
   "execution_count": null,
   "metadata": {
    "colab": {
     "base_uri": "https://localhost:8080/"
    },
    "executionInfo": {
     "elapsed": 24,
     "status": "ok",
     "timestamp": 1740986779097,
     "user": {
      "displayName": "Yen Ming Zhen (Njc)",
      "userId": "12782861662632693319"
     },
     "user_tz": -480
    },
    "id": "FyaMhQu0Ko2U",
    "outputId": "9f913628-b7a0-40f7-c4ba-34960c1a7113"
   },
   "outputs": [
    {
     "name": "stdout",
     "output_type": "stream",
     "text": [
      "What a sunny day\n"
     ]
    }
   ],
   "source": [
    "#Exercise 3.29\n",
    "\n",
    "sentence = \"What a day\"\n",
    "sList = sentence.split()\n",
    "sList.insert(2, \"sunny\")\n",
    "sentence = \" \".join(sList)\n",
    "print(sentence)"
   ]
  },
  {
   "cell_type": "markdown",
   "metadata": {
    "id": "3CIhVv_zKo2U"
   },
   "source": [
    "`list.pop()` method can be used to remove the last element in the list. This is similar to the operation of a stack (which we will cover later in the course.) Syntax is\n",
    ">```python\n",
    ">your_list.pop()\n",
    ">```\n",
    "\n",
    "#### Exercise 3.30\n",
    "\n",
    "Use `list.pop()` function to remove items in list `[0, 1, 2, 3, 4]` in reverse order."
   ]
  },
  {
   "cell_type": "code",
   "execution_count": null,
   "metadata": {
    "colab": {
     "base_uri": "https://localhost:8080/"
    },
    "executionInfo": {
     "elapsed": 25,
     "status": "ok",
     "timestamp": 1740986936588,
     "user": {
      "displayName": "Yen Ming Zhen (Njc)",
      "userId": "12782861662632693319"
     },
     "user_tz": -480
    },
    "id": "9hOBkcI4Ko2U",
    "outputId": "dcac3fd2-aa8a-431f-d68a-2e8e30499b3e"
   },
   "outputs": [
    {
     "name": "stdout",
     "output_type": "stream",
     "text": [
      "[0, 1, 2, 3]\n",
      "4\n"
     ]
    }
   ],
   "source": [
    "#Exercise 3.30\n",
    "\n",
    "nList = [0, 1, 2, 3, 4]\n",
    "last = nList.pop()\n",
    "print(nList)\n",
    "print(last)"
   ]
  },
  {
   "cell_type": "markdown",
   "metadata": {
    "id": "zDLETW_rKo2U"
   },
   "source": [
    "Index value can be specified to `list.pop()` method to remove a certain element corresponding to that index value. Syntax is\n",
    ">```python\n",
    ">your_list.pop(index)\n",
    ">```\n",
    "\n",
    "#### Exercise 3.31\n",
    "\n",
    "Use `list.pop()` method to remove `'c'` from list `['a', 'b', 'c', 'd', 'e']`."
   ]
  },
  {
   "cell_type": "code",
   "execution_count": null,
   "metadata": {
    "colab": {
     "base_uri": "https://localhost:8080/"
    },
    "executionInfo": {
     "elapsed": 10,
     "status": "ok",
     "timestamp": 1740986985282,
     "user": {
      "displayName": "Yen Ming Zhen (Njc)",
      "userId": "12782861662632693319"
     },
     "user_tz": -480
    },
    "id": "-QIBjZmBKo2V",
    "outputId": "bab5d9ef-cedf-4557-ae0a-aba51940c16a"
   },
   "outputs": [
    {
     "name": "stdout",
     "output_type": "stream",
     "text": [
      "['a', 'b', 'd', 'e']\n",
      "c\n"
     ]
    }
   ],
   "source": [
    "#Exercise 3.31\n",
    "\n",
    "lList = ['a', 'b', 'c', 'd', 'e']\n",
    "c = lList.pop(lList.index(\"c\"))\n",
    "print(lList)\n",
    "print(c)"
   ]
  },
  {
   "cell_type": "markdown",
   "metadata": {
    "id": "G8w1Fv1nKo2V"
   },
   "source": [
    "`list.remove( )` method is used to remove an item based on its value. Syntax is\n",
    ">```python\n",
    ">your_list.remove(value)\n",
    ">```\n",
    "\n",
    "* If there are multiple items of same value, it will only remove 1st item.\n",
    "* It will throw an **exception** if the value is not found in the list. You may need to enclose it with `try-except` block. (We will come back to this)\n",
    "\n",
    "#### Exercise 3.32\n",
    "\n",
    "Use `list.remove()` function to remove value `3` three times.\n",
    "\n",
    "```\n",
    "lst = [0, 1, 2, 3, 4] * 2\n",
    "```"
   ]
  },
  {
   "cell_type": "code",
   "execution_count": null,
   "metadata": {
    "colab": {
     "base_uri": "https://localhost:8080/"
    },
    "executionInfo": {
     "elapsed": 38,
     "status": "ok",
     "timestamp": 1740987108943,
     "user": {
      "displayName": "Yen Ming Zhen (Njc)",
      "userId": "12782861662632693319"
     },
     "user_tz": -480
    },
    "id": "YqIK-RBWKo2V",
    "outputId": "f9a13fbb-cf4f-4089-abbe-3bc161237d70"
   },
   "outputs": [
    {
     "name": "stdout",
     "output_type": "stream",
     "text": [
      "[0, 1, 2, 4, 0, 1, 2, 4]\n"
     ]
    }
   ],
   "source": [
    "#Exercise 3.32\n",
    "\n",
    "lst = [0, 1, 2, 3, 4] * 2\n",
    "\n",
    "for c in range(3):\n",
    "  try:\n",
    "   lst.remove(3)\n",
    "  except:\n",
    "    pass\n",
    "\n",
    "print(lst)"
   ]
  },
  {
   "cell_type": "markdown",
   "metadata": {
    "id": "2einhX5HKo2V"
   },
   "source": [
    "#### Exercise 3.33\n",
    "\n",
    "How to remove all values `3` in the list `[1, 2, 3, 4, 1, 2, 3, 4, 1, 2, 3, 4]`?\n",
    "* *Hint:* Use `while`, `try-except`, and `break`"
   ]
  },
  {
   "cell_type": "code",
   "execution_count": null,
   "metadata": {
    "colab": {
     "base_uri": "https://localhost:8080/"
    },
    "executionInfo": {
     "elapsed": 22,
     "status": "ok",
     "timestamp": 1740987165790,
     "user": {
      "displayName": "Yen Ming Zhen (Njc)",
      "userId": "12782861662632693319"
     },
     "user_tz": -480
    },
    "id": "PzXuBHBbKo2V",
    "outputId": "38aa0046-db0c-4494-cbee-dfa987314abb",
    "tags": [
     "hide-cell"
    ]
   },
   "outputs": [
    {
     "name": "stdout",
     "output_type": "stream",
     "text": [
      "[1, 2, 4, 1, 2, 4, 1, 2, 4]\n"
     ]
    }
   ],
   "source": [
    "#Exercise 3.33\n",
    "\n",
    "nList = [1, 2, 3, 4, 1, 2, 3, 4, 1, 2, 3, 4]\n",
    "\n",
    "while 3 in nList:\n",
    "  nList.remove(3)\n",
    "\n",
    "print(nList)"
   ]
  },
  {
   "cell_type": "markdown",
   "metadata": {
    "id": "MDlpIFcbKo2V"
   },
   "source": [
    "To clear all elements in a list, use its `list.clear()` method.\n",
    "\n",
    "#### Exercise 3.34\n",
    "\n",
    "Clear all items in `s = [1, 2, 3]`."
   ]
  },
  {
   "cell_type": "code",
   "execution_count": null,
   "metadata": {
    "colab": {
     "base_uri": "https://localhost:8080/"
    },
    "executionInfo": {
     "elapsed": 51,
     "status": "ok",
     "timestamp": 1740987205828,
     "user": {
      "displayName": "Yen Ming Zhen (Njc)",
      "userId": "12782861662632693319"
     },
     "user_tz": -480
    },
    "id": "W97hQuEgKo2V",
    "outputId": "9e5c0274-ff8f-480d-d4d8-a75493b5abda"
   },
   "outputs": [
    {
     "name": "stdout",
     "output_type": "stream",
     "text": [
      "[]\n"
     ]
    }
   ],
   "source": [
    "#Exercise 3.33\n",
    "\n",
    "nList = [1, 2, 3]\n",
    "nList.clear()\n",
    "print(nList)"
   ]
  },
  {
   "cell_type": "markdown",
   "metadata": {
    "id": "QTVYF6V6Ko2V"
   },
   "source": [
    "## Recap\n",
    "\n",
    "* How to create a new list?\n",
    "* Can a list hold elements of different data type?\n",
    "* Why do you need multiple level indexing?\n",
    "* Name 3 functions or operators which works with list.\n",
    "* What is the keyword used to check membership in a list?\n",
    "* How to add an item to a list?\n",
    "* How to remove an item from a list?\n",
    "* How to merge 2 lists?"
   ]
  },
  {
   "cell_type": "markdown",
   "metadata": {
    "id": "sTT0ZkDLKo2W"
   },
   "source": [
    "### 3.1.2 Tuples\n",
    "\n",
    "A Tuple is a collection of Python objects which is **immutable**, i.e. not modifiable after creation.\n",
    "\n",
    "#### 3.1.2.1 Creating a Tuple\n",
    "\n",
    "Tuple is created with a list of items surrounded by parentheses **\"( )\"**, and seperated by comma **\",\"**.\n",
    "\n",
    "* To create an empty tuple, simple use `()`\n",
    "* To create a single-item tuple, need to add **common `,`** behind the element. E.g. `tup = (3,)`\n",
    "\n",
    "#### Exercise 3.35\n",
    "\n",
    "* Create a tuple `t` with values `1, 2, 3, 4`\n",
    "* Print it and its type"
   ]
  },
  {
   "cell_type": "code",
   "execution_count": null,
   "metadata": {
    "colab": {
     "base_uri": "https://localhost:8080/"
    },
    "executionInfo": {
     "elapsed": 79,
     "status": "ok",
     "timestamp": 1740987379336,
     "user": {
      "displayName": "Yen Ming Zhen (Njc)",
      "userId": "12782861662632693319"
     },
     "user_tz": -480
    },
    "id": "wkx8tSnIKo2W",
    "outputId": "d1b4d6ce-1663-4321-99df-4065eed7fde9"
   },
   "outputs": [
    {
     "name": "stdout",
     "output_type": "stream",
     "text": [
      "(1, 2, 3, 4)\n",
      "<class 'tuple'>\n"
     ]
    }
   ],
   "source": [
    "#Exercise 3.35\n",
    "t = (1,2,3,4)\n",
    "print(t)\n",
    "print(type(t))"
   ]
  },
  {
   "cell_type": "markdown",
   "metadata": {
    "id": "tEDUKfSIKo2W"
   },
   "source": [
    "In fact, parentheses is optional unless it is to create an empty tuple."
   ]
  },
  {
   "cell_type": "code",
   "execution_count": null,
   "metadata": {
    "colab": {
     "base_uri": "https://localhost:8080/"
    },
    "executionInfo": {
     "elapsed": 60,
     "status": "ok",
     "timestamp": 1740987503199,
     "user": {
      "displayName": "Yen Ming Zhen (Njc)",
      "userId": "12782861662632693319"
     },
     "user_tz": -480
    },
    "id": "RnyiSSxhKo2W",
    "outputId": "c7f19eb2-de57-45f1-a2ee-fc5d1947db9a"
   },
   "outputs": [
    {
     "name": "stdout",
     "output_type": "stream",
     "text": [
      "()\n"
     ]
    }
   ],
   "source": [
    "#Exercise 3.35\n",
    "\n",
    "t = ()\n",
    "print(t)"
   ]
  },
  {
   "cell_type": "markdown",
   "metadata": {
    "id": "f0Hal26tKo2W"
   },
   "source": [
    "Tuple can also be created using by typecasting a list using `tuple()` constructor function.\n",
    "* when string is passed in as argument, it turns string into collection of characters.\n",
    "\n",
    "\n",
    "#### Exercise 3.36\n",
    "* Create a tuple from list `[1,2,3]`.\n",
    "* What happen if you apply `tuple()` constructor function on a string `Good day!`?"
   ]
  },
  {
   "cell_type": "code",
   "execution_count": null,
   "metadata": {
    "colab": {
     "base_uri": "https://localhost:8080/"
    },
    "executionInfo": {
     "elapsed": 39,
     "status": "ok",
     "timestamp": 1740987606777,
     "user": {
      "displayName": "Yen Ming Zhen (Njc)",
      "userId": "12782861662632693319"
     },
     "user_tz": -480
    },
    "id": "3XcskoMTKo2W",
    "outputId": "ad74dd19-56e2-4cdb-cb95-45025ebb2e4f"
   },
   "outputs": [
    {
     "name": "stdout",
     "output_type": "stream",
     "text": [
      "(1, 2, 3)\n",
      "<class 'tuple'>\n",
      "('G', 'o', 'o', 'd', ' ', 'd', 'a', 'y', '!')\n"
     ]
    }
   ],
   "source": [
    "#Exercise 3.36\n",
    "\n",
    "a = tuple([1,2,3])\n",
    "string = tuple('Good day!')\n",
    "\n",
    "print(a)\n",
    "print(type(a))\n",
    "print(string)"
   ]
  },
  {
   "cell_type": "markdown",
   "metadata": {
    "id": "PzgD0RFuKo2b"
   },
   "source": [
    "\n",
    "Python collections allows mix data types in the same collection. We can also create tuple with items of different data type, although this is not commonly used.\n",
    "\n",
    "#### Exercise 3.37\n",
    "\n",
    "* Create a tuple with items `'apple', 3.0, 'banana', 4`."
   ]
  },
  {
   "cell_type": "code",
   "execution_count": null,
   "metadata": {
    "colab": {
     "base_uri": "https://localhost:8080/"
    },
    "executionInfo": {
     "elapsed": 11,
     "status": "ok",
     "timestamp": 1740987659790,
     "user": {
      "displayName": "Yen Ming Zhen (Njc)",
      "userId": "12782861662632693319"
     },
     "user_tz": -480
    },
    "id": "K0EcIp3AKo2b",
    "outputId": "405de229-fa41-4c83-b7a8-65034bcb8c29"
   },
   "outputs": [
    {
     "name": "stdout",
     "output_type": "stream",
     "text": [
      "('apple', 3.0, 'banana', 4)\n"
     ]
    }
   ],
   "source": [
    "#Exercise 3.37\n",
    "\n",
    "t = (\"apple\", 3.0, \"banana\", 4)\n",
    "print(t)"
   ]
  },
  {
   "cell_type": "markdown",
   "metadata": {
    "id": "jU50S4aQKo2c"
   },
   "source": [
    "Tuple can contain other tuples as its elements. Such tuples are called **nested tuples**.\n",
    "\n",
    "#### Exercise 3.38\n",
    "* Create a tuple `nested` with items `0, 1, (2, 3, 4), (5, 6)`\n",
    "* What's the length of above tuple?"
   ]
  },
  {
   "cell_type": "code",
   "execution_count": null,
   "metadata": {
    "colab": {
     "base_uri": "https://localhost:8080/"
    },
    "executionInfo": {
     "elapsed": 8,
     "status": "ok",
     "timestamp": 1740987716788,
     "user": {
      "displayName": "Yen Ming Zhen (Njc)",
      "userId": "12782861662632693319"
     },
     "user_tz": -480
    },
    "id": "AriCLaRoKo2c",
    "outputId": "6739f8dc-9e54-4cff-e3d6-fa6ed1ff941c"
   },
   "outputs": [
    {
     "data": {
      "text/plain": [
       "4"
      ]
     },
     "execution_count": 47,
     "metadata": {},
     "output_type": "execute_result"
    }
   ],
   "source": [
    "#Exercise 3.38\n",
    "\n",
    "b = (0, 1, (2, 3, 4), (5, 6))\n",
    "len(b)"
   ]
  },
  {
   "cell_type": "markdown",
   "metadata": {
    "id": "9oDUALncKo2c"
   },
   "source": [
    "#### 3.1.2.2 Accessing an Element in tuple via indexing.\n",
    "\n",
    "Items in collection can be accessed by their indexes. Python uses zero-based indexing, i.e. index starts from 0.\n",
    "\n",
    "#### Exercise 3.39\n",
    "* Create a tuple `('apple', 'banana', 'cherry', 'durian')` and assign it to the variable `fruits`.\n",
    "* Print out 2nd and 4th item in the tuple."
   ]
  },
  {
   "cell_type": "code",
   "execution_count": null,
   "metadata": {
    "colab": {
     "base_uri": "https://localhost:8080/"
    },
    "executionInfo": {
     "elapsed": 8,
     "status": "ok",
     "timestamp": 1740987714621,
     "user": {
      "displayName": "Yen Ming Zhen (Njc)",
      "userId": "12782861662632693319"
     },
     "user_tz": -480
    },
    "id": "snsQWVzkKo2c",
    "outputId": "d43bd5ed-4f8c-4da6-b03f-4df1416e1473"
   },
   "outputs": [
    {
     "name": "stdout",
     "output_type": "stream",
     "text": [
      "banana\n",
      "durian\n"
     ]
    }
   ],
   "source": [
    "#Exercise 3.39\n",
    "\n",
    "fruits = ('apple', 'banana', 'cherry', 'durian')\n",
    "print(fruits[1])\n",
    "print(fruits[3])"
   ]
  },
  {
   "cell_type": "markdown",
   "metadata": {
    "id": "VZN81vviKo2c"
   },
   "source": [
    "Indexing can also be done in reverse order. That is the last element has an index of -1, and second last element has index of -2.\n",
    "\n",
    "<center>\n",
    "<img src=\"https://github.com/njc-cz2-2021/Materials/blob/main/Notes/images/list-indexing.png?raw=1\" alt=\"Set Venn Diagram\" style=\"width: 400px;\"/>\n",
    "</center>"
   ]
  },
  {
   "cell_type": "markdown",
   "metadata": {
    "id": "SXsf6gTQKo2d"
   },
   "source": [
    "#### Exercise 3.40\n",
    "* Use <u>negative indexing</u> to print out <u>last</u> and <u>2nd last</u> item in `fruits`."
   ]
  },
  {
   "cell_type": "code",
   "execution_count": null,
   "metadata": {
    "colab": {
     "base_uri": "https://localhost:8080/"
    },
    "executionInfo": {
     "elapsed": 41,
     "status": "ok",
     "timestamp": 1740987752097,
     "user": {
      "displayName": "Yen Ming Zhen (Njc)",
      "userId": "12782861662632693319"
     },
     "user_tz": -480
    },
    "id": "niaFKe7mKo2d",
    "outputId": "e325e398-72a7-4c33-df46-b1de0a577d67"
   },
   "outputs": [
    {
     "name": "stdout",
     "output_type": "stream",
     "text": [
      "durian\n",
      "cherry\n"
     ]
    }
   ],
   "source": [
    "#Exercise 3.40\n",
    "\n",
    "fruits = ('apple', 'banana', 'cherry', 'durian')\n",
    "print(fruits[-1])\n",
    "print(fruits[-2])"
   ]
  },
  {
   "cell_type": "markdown",
   "metadata": {
    "id": "xYJruKIQKo2d"
   },
   "source": [
    "For nested tuples, we can access items by multi-level indexing as well. Each level of the index always starts from 0.\n",
    "\n",
    "#### Exercise 3.41\n",
    "* Create a tuple `nested` with items `0, 1, (2, 3, 4), (5, 6)`.\n",
    "* How do you access value `4` and `5`?"
   ]
  },
  {
   "cell_type": "code",
   "execution_count": null,
   "metadata": {
    "colab": {
     "base_uri": "https://localhost:8080/"
    },
    "executionInfo": {
     "elapsed": 9,
     "status": "ok",
     "timestamp": 1740987938504,
     "user": {
      "displayName": "Yen Ming Zhen (Njc)",
      "userId": "12782861662632693319"
     },
     "user_tz": -480
    },
    "id": "R_5X0ZnAKo2d",
    "outputId": "54268a82-eb1d-4156-bf59-6fd190f26f20"
   },
   "outputs": [
    {
     "name": "stdout",
     "output_type": "stream",
     "text": [
      "4\n",
      "5\n"
     ]
    }
   ],
   "source": [
    "#Exercise 3.41\n",
    "\n",
    "t = (0, 1, (2, 3, 4), (5, 6))\n",
    "print(t[2][2])\n",
    "print(t[3][0])"
   ]
  },
  {
   "cell_type": "markdown",
   "metadata": {
    "id": "9T-CB9V-Ko2d"
   },
   "source": [
    "#### 3.1.2.3 Accessing a Subset of Tuple via Slicing.\n",
    "\n",
    "**Indexing** was only limited to accessing a single element.\n",
    "**Slicing** on the other hand is accessing a sequence of data inside the tuple.\n",
    "\n",
    "**Slicing** is done by defining the index values of the `first element` and the `last element` from the parent list that is required in the sliced tuple.\n",
    "\n",
    "```python\n",
    "sub = num[a : b]\n",
    "sub = num[a : ]\n",
    "sub = num[: b]\n",
    "sub = num[:]\n",
    "```\n",
    "\n",
    "* if both `a` and `b` are specified, `a` is the first index, `b` is the **last index + 1**.\n",
    "* if `b` is omitted, it will slice till last element.\n",
    "* if `a` is omitted, it will starts from first element.\n",
    "* if neither `a` or `b` is specified, it is effectively copy the whole tuple.\n",
    "\n",
    "**Note: the upper bound index is NOT inclusive!**\n",
    "\n",
    "Try out following code.\n",
    "\n",
    "```python\n",
    "num = tuple(range(10))\n",
    "\n",
    "# Get item with index 2 to 4\n",
    "print(num[2:5])\n",
    "\n",
    "# Get first 5 items\n",
    "print(num[:5])\n",
    "\n",
    "# Get from item with index = 5 onwards\n",
    "print(num[5:])\n",
    "```"
   ]
  },
  {
   "cell_type": "code",
   "execution_count": null,
   "metadata": {
    "colab": {
     "base_uri": "https://localhost:8080/"
    },
    "executionInfo": {
     "elapsed": 15,
     "status": "ok",
     "timestamp": 1740987959992,
     "user": {
      "displayName": "Yen Ming Zhen (Njc)",
      "userId": "12782861662632693319"
     },
     "user_tz": -480
    },
    "id": "FYpj0D63Ko2d",
    "outputId": "bd620398-eb84-4029-fefe-85129d30eb61"
   },
   "outputs": [
    {
     "name": "stdout",
     "output_type": "stream",
     "text": [
      "(2, 3, 4)\n",
      "(0, 1, 2, 3, 4)\n",
      "(5, 6, 7, 8, 9)\n"
     ]
    }
   ],
   "source": [
    "num = tuple(range(10))\n",
    "\n",
    "# Get item with index 2 to 4\n",
    "print(num[2:5])\n",
    "\n",
    "# Get first 5 items\n",
    "print(num[:5])\n",
    "\n",
    "# Get from item with index = 5 onwards\n",
    "print(num[5:])"
   ]
  },
  {
   "cell_type": "markdown",
   "metadata": {
    "id": "bVyr1rPZKo2d"
   },
   "source": [
    "Remember tuple items can be accessed using `negative index`. Same technique can be applied for slicing too.\n",
    "\n",
    "* Last item has index of -1\n",
    "\n",
    "#### Exercise 3.42\n",
    "Consider the tuple `num = (0,1,2,3,4,5,6,7,8,9)`.\n",
    "\n",
    "* How to get last 3 items from a tuple?\n",
    "* How to ignore last 3 items from a tuple?\n",
    "* How to strip first and last items from a tuple?\n",
    "\n"
   ]
  },
  {
   "cell_type": "code",
   "execution_count": null,
   "metadata": {
    "colab": {
     "base_uri": "https://localhost:8080/"
    },
    "executionInfo": {
     "elapsed": 27,
     "status": "ok",
     "timestamp": 1740988126227,
     "user": {
      "displayName": "Yen Ming Zhen (Njc)",
      "userId": "12782861662632693319"
     },
     "user_tz": -480
    },
    "id": "Nc3SrvpVKo2e",
    "outputId": "2206b020-e2ee-4aa3-9a89-65ad6228edb8"
   },
   "outputs": [
    {
     "name": "stdout",
     "output_type": "stream",
     "text": [
      "(7, 8, 9)\n",
      "(0, 1, 2, 3, 4, 5, 6)\n",
      "(1, 2, 3, 4, 5, 6, 7, 8)\n"
     ]
    }
   ],
   "source": [
    "#Exercise 3.42\n",
    "\n",
    "num = (0,1,2,3,4,5,6,7,8,9)\n",
    "print(num[-3:])\n",
    "print(num[:-3])\n",
    "print(num[1:-1])"
   ]
  },
  {
   "cell_type": "markdown",
   "metadata": {
    "id": "laUSkuTdKo2e"
   },
   "source": [
    "#### 3.1.2.4 Working with Tuple"
   ]
  },
  {
   "cell_type": "markdown",
   "metadata": {
    "id": "YfYDSeFuKo2e"
   },
   "source": [
    "##### 3.1.2.4.1 Length of tuples `len()`\n",
    "To find the length of the tuple or the number of elements in a tuple, the function `len( )` is used. Syntax is\n",
    ">```python\n",
    ">len(tuples)\n",
    ">```"
   ]
  },
  {
   "cell_type": "markdown",
   "metadata": {
    "id": "B_46lD9sKo2e"
   },
   "source": [
    "##### 3.1.2.4.2 Maximum `max()`, minimum `min()` and sum `sum()` of all the values in the tuple\n",
    "\n",
    "If the tuple consists of all integer elements, the functions `min( )`, `max( )` and `sum()` gives the minimum item, maximum item and total sum value of the tuple. Syntax is\n",
    "```python\n",
    "max(your_tuple)\n",
    "min(your_tuple)\n",
    "sum(your_tuple)\n",
    "```\n",
    "\n",
    "#### Exercise 3.43\n",
    "Print out min value, max value and sum of tuple with items 0-9.\n",
    "\n"
   ]
  },
  {
   "cell_type": "code",
   "execution_count": null,
   "metadata": {
    "colab": {
     "base_uri": "https://localhost:8080/"
    },
    "executionInfo": {
     "elapsed": 36,
     "status": "ok",
     "timestamp": 1740988311012,
     "user": {
      "displayName": "Yen Ming Zhen (Njc)",
      "userId": "12782861662632693319"
     },
     "user_tz": -480
    },
    "id": "-HKsAogAKo2e",
    "outputId": "534901e0-753f-40dd-f92b-252f2ed05091"
   },
   "outputs": [
    {
     "name": "stdout",
     "output_type": "stream",
     "text": [
      "0\n",
      "9\n",
      "45\n"
     ]
    }
   ],
   "source": [
    "#Exercise 3.43\n",
    "\n",
    "num = (0,1,2,3,4,5,6,7,8,9)\n",
    "print(min(num))\n",
    "print(max(num))\n",
    "print(sum(num))"
   ]
  },
  {
   "cell_type": "markdown",
   "metadata": {
    "id": "AO-OlqDmKo2e"
   },
   "source": [
    "#### Exercise 3.44\n",
    "How do you create a tuple by reversing another tuple?"
   ]
  },
  {
   "cell_type": "code",
   "execution_count": null,
   "metadata": {
    "colab": {
     "base_uri": "https://localhost:8080/"
    },
    "executionInfo": {
     "elapsed": 20,
     "status": "ok",
     "timestamp": 1741059626467,
     "user": {
      "displayName": "Yen Ming Zhen (Njc)",
      "userId": "12782861662632693319"
     },
     "user_tz": -480
    },
    "id": "dLU7ul4aKo2e",
    "outputId": "eb5e7e35-a9fd-4ed9-8245-5c5320a660f1"
   },
   "outputs": [
    {
     "name": "stdout",
     "output_type": "stream",
     "text": [
      "(4, 3, 2, 1)\n"
     ]
    }
   ],
   "source": [
    "#Exercise 3.44\n",
    "\n",
    "tup = (1, 2, 3, 4)\n",
    "\n",
    "print(tuple((tup[-i - 1] for i in range(len(tup)))))"
   ]
  },
  {
   "cell_type": "markdown",
   "metadata": {
    "id": "e5eHNy_rKo2f"
   },
   "source": [
    "If elements are string type, `max()` and `min()` is still applicable. `max()` would return a string element whose ASCII value is the highest and the lowest when `min()` is used. Note that only the first index of each element is considered each time and if they value is the same then second index considered so on and so forth."
   ]
  },
  {
   "cell_type": "markdown",
   "metadata": {
    "id": "KSmNZADhKo2f"
   },
   "source": [
    "#### Exercise 3.45\n",
    "What's the minimum and the maximum value of tuple `poly = ('np','sp','tp','rp','nyp')`?"
   ]
  },
  {
   "cell_type": "code",
   "execution_count": null,
   "metadata": {
    "colab": {
     "base_uri": "https://localhost:8080/"
    },
    "executionInfo": {
     "elapsed": 35,
     "status": "ok",
     "timestamp": 1741059681692,
     "user": {
      "displayName": "Yen Ming Zhen (Njc)",
      "userId": "12782861662632693319"
     },
     "user_tz": -480
    },
    "id": "11lVFmssKo2f",
    "outputId": "54c5e4b9-1e95-4457-d217-16fb5ffdc442"
   },
   "outputs": [
    {
     "name": "stdout",
     "output_type": "stream",
     "text": [
      "tp\n",
      "np\n"
     ]
    }
   ],
   "source": [
    "#Exercise 3.45\n",
    "\n",
    "poly = ('np','sp','tp','rp','nyp')\n",
    "\n",
    "print(max(poly))\n",
    "print(min(poly))"
   ]
  },
  {
   "cell_type": "markdown",
   "metadata": {
    "id": "k3BdUf84Ko2f"
   },
   "source": [
    "##### 3.1.2.4.3 Checking Values in the tuple with `any()` and `all()` function\n",
    "\n",
    "`any()` function returns `True` if any item in tuple (collection) is evaluated `True`.\n",
    "\n",
    "`all()` function returns `True` if all items in tuple (collection) is evaluated `True`.\n",
    "\n",
    "Python evaluates following values as `False`\n",
    "* `False`, `None`, numeric zero of all types\n",
    "* Empty strings and containers (including strings, tuples, lists, dictionaries, sets and frozensets)\n",
    "\n",
    "#### Exercise 3.46\n",
    "\n",
    "For each list of `[2, 4, 0, 9]`, `['', 'hello', 'world']`.\n",
    "* use `any()` to check if the list contains any non-zero item.\n",
    "* use `all()` to check if all items in the list are non-zero  ."
   ]
  },
  {
   "cell_type": "code",
   "execution_count": null,
   "metadata": {
    "colab": {
     "base_uri": "https://localhost:8080/"
    },
    "executionInfo": {
     "elapsed": 37,
     "status": "ok",
     "timestamp": 1741060136612,
     "user": {
      "displayName": "Yen Ming Zhen (Njc)",
      "userId": "12782861662632693319"
     },
     "user_tz": -480
    },
    "id": "-EVJ6Nz1Ko2f",
    "outputId": "3724d56f-1dd8-48db-c07f-c34b68a7ac67"
   },
   "outputs": [
    {
     "name": "stdout",
     "output_type": "stream",
     "text": [
      "True\n",
      "False\n",
      "True\n",
      "False\n"
     ]
    }
   ],
   "source": [
    "#Exercise 3.46\n",
    "\n",
    "numList = [2, 4, 0, 9, False]\n",
    "strList = ['', \"hello\", \"world\"]\n",
    "\n",
    "print(any(numList))\n",
    "print(all(numList))\n",
    "print(any(strList))\n",
    "print(all(strList))"
   ]
  },
  {
   "cell_type": "markdown",
   "metadata": {
    "id": "bzLF3KsPKo2f"
   },
   "source": [
    "##### 3.1.2.4.4 Reversing the values in a tuple with `reversed()` function\n",
    "\n",
    "Unlike list, tuple is immutable. Thus `.reverse()` method is **NOT** applicable to tuple.\n",
    "\n",
    "The `reversed()` function returns a reversed object which can be converted to be a tuple or list. Syntax is\n",
    "\n",
    "```python\n",
    "reversed(my_tuple)\n",
    "```\n",
    "\n",
    "E.g.,\n",
    "\n",
    "```python\n",
    "poly = ('np','sp','tp','rp','nyp')\n",
    "r = reversed(poly)\n",
    "print(type(r), tuple(r))\n",
    "```"
   ]
  },
  {
   "cell_type": "code",
   "execution_count": null,
   "metadata": {
    "colab": {
     "base_uri": "https://localhost:8080/"
    },
    "executionInfo": {
     "elapsed": 60,
     "status": "ok",
     "timestamp": 1741060156317,
     "user": {
      "displayName": "Yen Ming Zhen (Njc)",
      "userId": "12782861662632693319"
     },
     "user_tz": -480
    },
    "id": "u3lLGBXiKo2g",
    "outputId": "2ba8806e-5b95-448f-de65-9739f933f310"
   },
   "outputs": [
    {
     "name": "stdout",
     "output_type": "stream",
     "text": [
      "<class 'reversed'> ('nyp', 'rp', 'tp', 'sp', 'np')\n"
     ]
    }
   ],
   "source": [
    "# YOUR CODE HERE\n",
    "\n",
    "poly = ('np','sp','tp','rp','nyp')\n",
    "r = reversed(poly)\n",
    "print(type(r), tuple(r))"
   ]
  },
  {
   "cell_type": "markdown",
   "metadata": {
    "id": "IPcZrVaLKo2g"
   },
   "source": [
    "##### 3.1.2.4.5 Arranging the values in a tuple with `sorted()` function\n",
    "\n",
    "Similarly, `.sort()` method cannot be applied directly to tuple itself.\n",
    "\n",
    "`sorted()` function to arrange the elements in **ascending** order. Syntax is\n",
    "\n",
    "```python\n",
    "sorted(my_tuple)\n",
    "```\n",
    "\n",
    "E.g.,\n",
    "\n",
    "```python\n",
    "poly = ('np','sp','tp','rp','nyp')\n",
    "s = sorted(poly)\n",
    "print(poly)\n",
    "print(s)\n",
    "```"
   ]
  },
  {
   "cell_type": "code",
   "execution_count": null,
   "metadata": {
    "colab": {
     "base_uri": "https://localhost:8080/"
    },
    "executionInfo": {
     "elapsed": 61,
     "status": "ok",
     "timestamp": 1741060291097,
     "user": {
      "displayName": "Yen Ming Zhen (Njc)",
      "userId": "12782861662632693319"
     },
     "user_tz": -480
    },
    "id": "lQmxBTiRKo2g",
    "outputId": "794ef006-5813-4537-9e1e-ed0df067512b"
   },
   "outputs": [
    {
     "name": "stdout",
     "output_type": "stream",
     "text": [
      "('np', 'sp', 'tp', 'rp', 'nyp')\n",
      "['np', 'nyp', 'rp', 'sp', 'tp']\n"
     ]
    }
   ],
   "source": [
    "# YOUR CODE HERE\n",
    "\n",
    "poly = ('np','sp','tp','rp','nyp')\n",
    "s = sorted(poly)\n",
    "print(poly)\n",
    "print(s)"
   ]
  },
  {
   "cell_type": "markdown",
   "metadata": {
    "id": "iHex7Z9CKo2g"
   },
   "source": [
    "For **descending** order, specify the named argument `reverse = True`.\n",
    "\n",
    "By default the reverse condition will be `False` for `reverse`. Hence changing it to `True` would arrange the elements in descending order."
   ]
  },
  {
   "cell_type": "markdown",
   "metadata": {
    "id": "6kak_vYIKo2h"
   },
   "source": [
    "The `sort()` function has another named argument `key`, which allows us to specify a callable function. The sorting will be done based on returned value from this callable function.\n",
    "\n",
    "For example, `len()` function returns length of a string.\n",
    "\n",
    "To sort based on string length, `key = len` can be specified as shown."
   ]
  },
  {
   "cell_type": "code",
   "execution_count": null,
   "metadata": {
    "colab": {
     "base_uri": "https://localhost:8080/"
    },
    "executionInfo": {
     "elapsed": 27,
     "status": "ok",
     "timestamp": 1741060421337,
     "user": {
      "displayName": "Yen Ming Zhen (Njc)",
      "userId": "12782861662632693319"
     },
     "user_tz": -480
    },
    "id": "BY6SHGdqKo2h",
    "outputId": "92708d0b-a96d-4323-9ae0-92084f25501f"
   },
   "outputs": [
    {
     "name": "stdout",
     "output_type": "stream",
     "text": [
      "['duck', 'goose', 'chicken']\n",
      "('chicken', 'goose', 'duck')\n"
     ]
    }
   ],
   "source": [
    "names = ('duck', 'chicken', 'goose')\n",
    "s1 = sorted(names, key=len)\n",
    "print(s1)\n",
    "s2 = tuple(reversed(s1))\n",
    "print(s2)"
   ]
  },
  {
   "cell_type": "markdown",
   "metadata": {
    "id": "Ny15zFIIKo2h"
   },
   "source": [
    "Two tuples can also be join together simply using `+` operator."
   ]
  },
  {
   "cell_type": "code",
   "execution_count": null,
   "metadata": {
    "colab": {
     "base_uri": "https://localhost:8080/"
    },
    "executionInfo": {
     "elapsed": 19,
     "status": "ok",
     "timestamp": 1741060429003,
     "user": {
      "displayName": "Yen Ming Zhen (Njc)",
      "userId": "12782861662632693319"
     },
     "user_tz": -480
    },
    "id": "RHldtNTxKo2h",
    "outputId": "4a427b89-f322-47f7-913d-815fa8e727af"
   },
   "outputs": [
    {
     "name": "stdout",
     "output_type": "stream",
     "text": [
      "(1, 2, 3, 4, 5)\n"
     ]
    }
   ],
   "source": [
    "s = (1,2,3)\n",
    "t = (4,5)\n",
    "print(s + t)"
   ]
  },
  {
   "cell_type": "markdown",
   "metadata": {
    "id": "kBhMH110Ko2h"
   },
   "source": [
    "Besides tuples, `str` objects are also immutable. New string will be created when a string is modified."
   ]
  },
  {
   "cell_type": "code",
   "execution_count": null,
   "metadata": {
    "colab": {
     "base_uri": "https://localhost:8080/"
    },
    "executionInfo": {
     "elapsed": 36,
     "status": "ok",
     "timestamp": 1741060432745,
     "user": {
      "displayName": "Yen Ming Zhen (Njc)",
      "userId": "12782861662632693319"
     },
     "user_tz": -480
    },
    "id": "nAnHvYztKo2h",
    "outputId": "519bff8f-15b0-4498-8114-ec4aabf55131"
   },
   "outputs": [
    {
     "name": "stdout",
     "output_type": "stream",
     "text": [
      "True True\n",
      "False False\n"
     ]
    }
   ],
   "source": [
    "s = \"hello world.\"\n",
    "t = s\n",
    "print(t == s, t is s)\n",
    "s = s + \"abc\"\n",
    "print(t == s, t is s)"
   ]
  },
  {
   "cell_type": "markdown",
   "metadata": {
    "id": "PUyFmql5Ko2h"
   },
   "source": [
    "Similarly, tuple is immutable. Modification to tuple will return a new tuple object."
   ]
  },
  {
   "cell_type": "markdown",
   "metadata": {
    "id": "Eo6y3WMLKo2h"
   },
   "source": [
    "Similar to list, we can repeat a tuple multiple times with `*` operator."
   ]
  },
  {
   "cell_type": "code",
   "execution_count": null,
   "metadata": {
    "colab": {
     "base_uri": "https://localhost:8080/"
    },
    "executionInfo": {
     "elapsed": 78,
     "status": "ok",
     "timestamp": 1741060460372,
     "user": {
      "displayName": "Yen Ming Zhen (Njc)",
      "userId": "12782861662632693319"
     },
     "user_tz": -480
    },
    "id": "15L0mi0yKo2h",
    "outputId": "e55b95a4-b4d9-400f-8079-3b7d51810531"
   },
   "outputs": [
    {
     "name": "stdout",
     "output_type": "stream",
     "text": [
      "(1, 2, 3, 4, 5, 6) (1, 2, 3, 4, 5, 6, 1, 2, 3, 4, 5, 6)\n"
     ]
    }
   ],
   "source": [
    "t1 = (1,2,3,4,5,6)\n",
    "t2 = t1 * 2\n",
    "print(t1, t2)"
   ]
  },
  {
   "cell_type": "markdown",
   "metadata": {
    "id": "hQg0gdU-Ko2h"
   },
   "source": [
    "#### 3.1.2.5 Membership and Searching elements in a tuple\n",
    "\n",
    "You might need to check if a particular item is in a tuple.\n",
    "\n",
    "Instead of using `for` loop to iterate over the tuple and use the `if` condition, Python provides a simple `in` statement to check membership of an item.\n",
    "\n",
    "```python\n",
    "names = ('duck', 'chicken', 'goose')\n",
    "found1 = 'duck' in names\n",
    "found2 = 'dog' in names\n",
    "print(found1, found2)\n",
    "```"
   ]
  },
  {
   "cell_type": "markdown",
   "metadata": {
    "id": "el3axaWJKo2i"
   },
   "source": [
    "`count()` is used to count the occurence of a particular item in a list."
   ]
  },
  {
   "cell_type": "code",
   "execution_count": null,
   "metadata": {
    "colab": {
     "base_uri": "https://localhost:8080/"
    },
    "executionInfo": {
     "elapsed": 51,
     "status": "ok",
     "timestamp": 1741060480498,
     "user": {
      "displayName": "Yen Ming Zhen (Njc)",
      "userId": "12782861662632693319"
     },
     "user_tz": -480
    },
    "id": "pUso2lmnKo2i",
    "outputId": "9fe685c5-ba24-4358-d510-91ee1370e6f0"
   },
   "outputs": [
    {
     "name": "stdout",
     "output_type": "stream",
     "text": [
      "('duck', 'chicken', 'goose', 'duck', 'chicken', 'goose')\n"
     ]
    },
    {
     "data": {
      "text/plain": [
       "2"
      ]
     },
     "execution_count": 24,
     "metadata": {},
     "output_type": "execute_result"
    }
   ],
   "source": [
    "names = ('duck', 'chicken', 'goose') * 2\n",
    "print(names)\n",
    "names.count('duck')"
   ]
  },
  {
   "cell_type": "markdown",
   "metadata": {
    "id": "oL_4q1VnKo2i"
   },
   "source": [
    "`index()` is used to find the index value of a particular item.\n",
    "* Note that if there are multiple items of the same value, the first index value of that item is returned.\n",
    "* You can add 2nd argument `x` to start searching from index `x` onwards."
   ]
  },
  {
   "cell_type": "code",
   "execution_count": null,
   "metadata": {
    "colab": {
     "base_uri": "https://localhost:8080/"
    },
    "executionInfo": {
     "elapsed": 9,
     "status": "ok",
     "timestamp": 1741060485670,
     "user": {
      "displayName": "Yen Ming Zhen (Njc)",
      "userId": "12782861662632693319"
     },
     "user_tz": -480
    },
    "id": "vB_E94WXKo2i",
    "outputId": "da5533b8-1978-4caa-8780-0ca9cfb8e1d1"
   },
   "outputs": [
    {
     "name": "stdout",
     "output_type": "stream",
     "text": [
      "Gooses at index 2 and 5\n"
     ]
    }
   ],
   "source": [
    "names2 = ('duck', 'chicken', 'goose') * 2\n",
    "idx = names2.index('goose')\n",
    "idx2 = names2.index('goose', 4)\n",
    "print('Gooses at index {} and {}'.format(idx, idx2))"
   ]
  },
  {
   "cell_type": "markdown",
   "metadata": {
    "id": "Mhb4OBPFKo2i"
   },
   "source": [
    "#### 3.1.2.6 Membership and Searching elements in a tuple\n",
    "\n",
    "To iterate through a tuple (collection), you can use `for` loop."
   ]
  },
  {
   "cell_type": "code",
   "execution_count": null,
   "metadata": {
    "id": "bc67NuDmKo2i"
   },
   "outputs": [],
   "source": [
    "names = ('duck', 'chicken', 'goose')\n",
    "for name in names:\n",
    "    print(name)"
   ]
  },
  {
   "cell_type": "markdown",
   "metadata": {
    "id": "z1iB0iuZKo2j"
   },
   "source": [
    "\n",
    "If you need the index value, you can use `enumerate()` function."
   ]
  },
  {
   "cell_type": "code",
   "execution_count": null,
   "metadata": {
    "id": "DaGjCPKMKo2j"
   },
   "outputs": [],
   "source": [
    "for idx, name in enumerate(names):\n",
    "    print(idx, name)"
   ]
  },
  {
   "cell_type": "markdown",
   "metadata": {
    "id": "72vyMrLrKo2j"
   },
   "source": [
    "#### 3.1.2.7 Function with Multiple Returning Values\n",
    "\n",
    "In most programming languages, function/method can only return a single value. It is the same practice in Python.\n",
    "\n",
    "But in Python, you can return a tuple which can easily pack multiple values together.\n",
    "\n",
    "#### Exercise 3.44\n",
    "\n",
    "Define a function `minmax()` which fulfils following conditions. Test the function with list `[1,2,3,4,5]`.\n",
    "\n",
    "- accept a list as input\n",
    "- return both min and max values of the list"
   ]
  },
  {
   "cell_type": "markdown",
   "metadata": {
    "id": "Hk0ba8B2Ko2j"
   },
   "source": [
    "Tuple can be easily unpacked into multiple values.\n",
    "\n",
    "During unpacking, number of variable needs to match number of items in tuple"
   ]
  },
  {
   "cell_type": "code",
   "execution_count": null,
   "metadata": {
    "id": "-ZR6mbpqKo2j"
   },
   "outputs": [],
   "source": [
    "x, y, z = 1, 2, 3\n",
    "print(x, y, z)"
   ]
  },
  {
   "cell_type": "markdown",
   "metadata": {
    "id": "GmFeT3zUKo2j"
   },
   "source": [
    "It is common to use underscore `_` for items to be ignored."
   ]
  },
  {
   "cell_type": "code",
   "execution_count": null,
   "metadata": {
    "colab": {
     "base_uri": "https://localhost:8080/"
    },
    "executionInfo": {
     "elapsed": 25,
     "status": "ok",
     "timestamp": 1741060569778,
     "user": {
      "displayName": "Yen Ming Zhen (Njc)",
      "userId": "12782861662632693319"
     },
     "user_tz": -480
    },
    "id": "7UNF8i-0Ko2j",
    "outputId": "a0a0e4fe-cbdf-4706-a194-83de2c3a81c8"
   },
   "outputs": [
    {
     "name": "stdout",
     "output_type": "stream",
     "text": [
      "['9am ', ' 5pm ', ' 6pm ', ' 8pm']\n",
      "9am   6pm \n"
     ]
    }
   ],
   "source": [
    "times = '9am to 5pm to 6pm to 8pm'.split('to')\n",
    "print(times)\n",
    "start, _, end, _ = tuple(times)\n",
    "print(start, end)"
   ]
  },
  {
   "cell_type": "markdown",
   "metadata": {
    "id": "81zK0OGQKo2j"
   },
   "source": [
    "#### Exercise 3.45\n",
    "\n",
    "How to swap two values `x` and `y` in a single statement?"
   ]
  },
  {
   "cell_type": "code",
   "execution_count": null,
   "metadata": {
    "colab": {
     "base_uri": "https://localhost:8080/"
    },
    "executionInfo": {
     "elapsed": 33,
     "status": "ok",
     "timestamp": 1741060613849,
     "user": {
      "displayName": "Yen Ming Zhen (Njc)",
      "userId": "12782861662632693319"
     },
     "user_tz": -480
    },
    "id": "g0C6yZ8NKo2j",
    "outputId": "8a2e1e9a-0cf0-40b5-ca61-f4deabbb04bf"
   },
   "outputs": [
    {
     "name": "stdout",
     "output_type": "stream",
     "text": [
      "20 10\n"
     ]
    }
   ],
   "source": [
    "#Exercise 3.45\n",
    "\n",
    "x = 10\n",
    "y = 20\n",
    "\n",
    "x, y = y, x\n",
    "\n",
    "print(x, y)"
   ]
  },
  {
   "cell_type": "markdown",
   "metadata": {
    "id": "YioNsy-SKo2j"
   },
   "source": [
    "You can use `*` to hold any number of unpacked values.\n",
    "\n",
    "For example, from a tuple, you would like to get its last item, and put all other items in a list."
   ]
  },
  {
   "cell_type": "code",
   "execution_count": null,
   "metadata": {
    "colab": {
     "base_uri": "https://localhost:8080/"
    },
    "executionInfo": {
     "elapsed": 30,
     "status": "ok",
     "timestamp": 1741060630423,
     "user": {
      "displayName": "Yen Ming Zhen (Njc)",
      "userId": "12782861662632693319"
     },
     "user_tz": -480
    },
    "id": "sBCfpVqdKo2j",
    "outputId": "a1a6024a-9447-4bd8-e868-31a35290831f"
   },
   "outputs": [
    {
     "name": "stdout",
     "output_type": "stream",
     "text": [
      "[1, 2, 3, 4] 5\n"
     ]
    }
   ],
   "source": [
    "t = (1, 2, 3, 4,5)\n",
    "#a, b =t\n",
    "*a, b = t\n",
    "print(a, b)"
   ]
  },
  {
   "cell_type": "markdown",
   "metadata": {
    "id": "70pBgM8DKo2j"
   },
   "source": [
    "#### Exercise 3.46\n",
    "\n",
    "How to extract only first and last items from a tuple `(1,2,3,4,5)`."
   ]
  },
  {
   "cell_type": "code",
   "execution_count": null,
   "metadata": {
    "colab": {
     "base_uri": "https://localhost:8080/"
    },
    "executionInfo": {
     "elapsed": 30,
     "status": "ok",
     "timestamp": 1741060697391,
     "user": {
      "displayName": "Yen Ming Zhen (Njc)",
      "userId": "12782861662632693319"
     },
     "user_tz": -480
    },
    "id": "KV7toV8SKo2k",
    "outputId": "e29d402a-5a36-4eb6-a507-4595f92f342e"
   },
   "outputs": [
    {
     "name": "stdout",
     "output_type": "stream",
     "text": [
      "1 5\n"
     ]
    }
   ],
   "source": [
    "#Exercise 3.46\n",
    "\n",
    "t = (1,2,3,4,5)\n",
    "first, *mid, last = t\n",
    "\n",
    "print(first, last)"
   ]
  },
  {
   "cell_type": "markdown",
   "metadata": {
    "id": "Cz1kPDD7Ko2k"
   },
   "source": [
    "## Recap\n",
    "\n",
    "### Difference between Tuple and List\n",
    "\n",
    "A tuple is **immutable** whereas a list is **mutable**.\n",
    "\n",
    "* You can't add elements to a tuple. Tuples have no append or extend method.\n",
    "* You can't remove elements from a tuple. Tuples have no remove or pop method.\n",
    "\n",
    "### When to use Tuple?\n",
    "\n",
    "* Tuples are used in function to return multiple values together.\n",
    "* Tuples are lighter-weight and are more memory efficient and often faster if used in appropriate places.\n",
    "* When using a tuple you protect against accidental modification when passing it between functions.\n",
    "* Tuples, being immutable, can be used as a key in a dictionary, which we’re about to learn about."
   ]
  },
  {
   "cell_type": "markdown",
   "metadata": {
    "id": "JONgTSM2Ko2k"
   },
   "source": [
    "#"
   ]
  },
  {
   "cell_type": "markdown",
   "metadata": {
    "id": "T_69Z83lKo2k"
   },
   "source": [
    "## 3.2 Hash Table\n",
    "\n",
    "A **hash table** (hash map) is a data structure that stores data in an associative manner. Roughly speaking, it is an unordered collection of key-value pairs, which are just a pair of values where by knowing the `key` value, you can retrieve `value` value.\n",
    "\n",
    "Hash table uses a fixed size array as a storage medium and uses **hash function** to generate an index where an element is to be inserted or is to be located from. Hash table allows us to do a key-value lookup.\n",
    "\n",
    "Reference: https://www.youtube.com/watch?v=sfWyugl4JWA\n",
    "\n",
    "Hashing\n",
    "\n",
    "### 3.2.1 Dictionary\n",
    "\n",
    "Dictionaries are a common feature of modern languages (often known as maps, associative arrays, or hashmaps) which let you associate pairs of values together.\n",
    "\n",
    "In Python, dictionaries are defined in **dict** data type.\n",
    "* It stores keys and their corresponding values.\n",
    "* Keys must be **unique** and **immutable**.\n",
    "* It is **mutable**, i.e. you can add and remove items from a dictionary.\n",
    "* It is **unordered**, i.e. items in a dictionary are not ordered.\n",
    "* Elements in a dictionary is of the form `key_1:value_1, key_2:value_2,....`\n",
    "\n",
    "#### 3.2.1.1 Creating a dictionary\n",
    "\n",
    "Dictionary is created with listed of items surrounded by curly brackets `{}`, and seperated by comma `,`.\n",
    "\n",
    "* To create an empty dictionary, simple use `{}`\n",
    "* Key and value are separated by colon `:`\n",
    "* Key needs to be **immutable** type, e.g. data type like scalar, string or tuple\n",
    "\n",
    "#### Example"
   ]
  },
  {
   "cell_type": "code",
   "execution_count": null,
   "metadata": {
    "colab": {
     "base_uri": "https://localhost:8080/"
    },
    "executionInfo": {
     "elapsed": 56,
     "status": "ok",
     "timestamp": 1741060718433,
     "user": {
      "displayName": "Yen Ming Zhen (Njc)",
      "userId": "12782861662632693319"
     },
     "user_tz": -480
    },
    "id": "u2ClQp9AKo2k",
    "outputId": "1a2d6b5f-6a37-4ab4-ba04-865449865467"
   },
   "outputs": [
    {
     "name": "stdout",
     "output_type": "stream",
     "text": [
      "{'name': 'John', 1: [2, 4, 3]}\n"
     ]
    }
   ],
   "source": [
    "# empty dictionary\n",
    "d0 = {}\n",
    "\n",
    "# dictionary with mixed data type\n",
    "d1 = {'name': 'John', 1: [2, 4, 3]}\n",
    "print(d1)"
   ]
  },
  {
   "cell_type": "markdown",
   "metadata": {
    "id": "46rLs-sLKo2k"
   },
   "source": [
    "#### Example\n",
    "\n",
    "Create a dictionary `fruits` which has following keys and values.\n",
    "\n",
    "| key | value    |\n",
    "|-----|----------|\n",
    "| a   | Apple    |\n",
    "| b   | Banana   |\n",
    "| c   | Cherries |\n",
    "| d   | Durian   |"
   ]
  },
  {
   "cell_type": "code",
   "execution_count": null,
   "metadata": {
    "id": "pYpC895_Ko2k"
   },
   "outputs": [],
   "source": [
    "# YOUR CODE HERE\n",
    "\n",
    "fruits = {\"a\": \"Apples\", \"b\": \"Banana\", \"c\": \"Cherries\", \"d\": \"Durian\"}"
   ]
  },
  {
   "cell_type": "markdown",
   "metadata": {
    "id": "fl3CJIY6Ko2k"
   },
   "source": [
    "New dictionary can be created from a list of tuples too using the `dict()` constructor function, where each tuple contains a key and a value. Syntax is\n",
    ">```python\n",
    ">dict(my_list_of_tuples)\n",
    ">```\n",
    "\n",
    "**Example**\n",
    "\n",
    "Construct a dictionary `f3` using list `[('a','Apple'), ('b','Banana'), ('c','Cherries'), ('d','Durian')]`."
   ]
  },
  {
   "cell_type": "code",
   "execution_count": null,
   "metadata": {
    "id": "drFJsb6VKo2k"
   },
   "outputs": [],
   "source": [
    "# YOUR CODE HERE\n",
    "\n",
    "f3 = dict([('a','Apple'), ('b','Banana'), ('c','Cherries'), ('d','Durian')])"
   ]
  },
  {
   "cell_type": "markdown",
   "metadata": {
    "id": "rPjJrix8Ko2l"
   },
   "source": [
    "#### 3.2.1.2 Accessing an Element in dictionary by its respective key.\n",
    "\n",
    "Items in dictionary can be accessed by their respective keys.\n",
    "* Key can be used either inside square brackets or with the `get()` method.\n",
    "* The difference while using `get()` is that it returns `None` instead of `KeyError` Exception, if the key is not found.\n",
    "* `get()` method can take in a default value argument, which will be returned if the key is not found. Syntax is\n",
    ">`your_dict.get(key,message_if_unavailable)`\n",
    "\n",
    "#### Example\n",
    "\n",
    "What happens when you try to use a non-existing key?"
   ]
  },
  {
   "cell_type": "code",
   "execution_count": null,
   "metadata": {
    "colab": {
     "base_uri": "https://localhost:8080/",
     "height": 228
    },
    "executionInfo": {
     "elapsed": 141,
     "status": "error",
     "timestamp": 1741060915083,
     "user": {
      "displayName": "Yen Ming Zhen (Njc)",
      "userId": "12782861662632693319"
     },
     "user_tz": -480
    },
    "id": "l2nRbrU6Ko2l",
    "outputId": "0410d056-f41e-4067-96f8-d138502877da"
   },
   "outputs": [
    {
     "name": "stdout",
     "output_type": "stream",
     "text": [
      "{'a': 'Apples', 'b': 'Banana', 'c': 'Cherries', 'd': 'Durian'}\n",
      "Apples\n",
      "Banana\n"
     ]
    },
    {
     "ename": "KeyError",
     "evalue": "'z'",
     "output_type": "error",
     "traceback": [
      "\u001b[0;31m---------------------------------------------------------------------------\u001b[0m",
      "\u001b[0;31mKeyError\u001b[0m                                  Traceback (most recent call last)",
      "\u001b[0;32m<ipython-input-35-98e5d3686fff>\u001b[0m in \u001b[0;36m<cell line: 0>\u001b[0;34m()\u001b[0m\n\u001b[1;32m      2\u001b[0m \u001b[0mprint\u001b[0m\u001b[0;34m(\u001b[0m\u001b[0mfruits\u001b[0m\u001b[0;34m[\u001b[0m\u001b[0;34m'a'\u001b[0m\u001b[0;34m]\u001b[0m\u001b[0;34m)\u001b[0m\u001b[0;34m\u001b[0m\u001b[0;34m\u001b[0m\u001b[0m\n\u001b[1;32m      3\u001b[0m \u001b[0mprint\u001b[0m\u001b[0;34m(\u001b[0m\u001b[0mfruits\u001b[0m\u001b[0;34m[\u001b[0m\u001b[0;34m'b'\u001b[0m\u001b[0;34m]\u001b[0m\u001b[0;34m)\u001b[0m\u001b[0;34m\u001b[0m\u001b[0;34m\u001b[0m\u001b[0m\n\u001b[0;32m----> 4\u001b[0;31m \u001b[0mprint\u001b[0m\u001b[0;34m(\u001b[0m\u001b[0mfruits\u001b[0m\u001b[0;34m[\u001b[0m\u001b[0;34m'z'\u001b[0m\u001b[0;34m]\u001b[0m\u001b[0;34m)\u001b[0m\u001b[0;34m\u001b[0m\u001b[0;34m\u001b[0m\u001b[0m\n\u001b[0m",
      "\u001b[0;31mKeyError\u001b[0m: 'z'"
     ]
    }
   ],
   "source": [
    "print(fruits)\n",
    "print(fruits['a'])\n",
    "print(fruits['b'])\n",
    "print(fruits['z'])"
   ]
  },
  {
   "cell_type": "markdown",
   "metadata": {
    "id": "1f67-Qn4Ko2l"
   },
   "source": [
    "#### Example\n",
    "What happens when you use `.get()` and try to use a non-existing key?"
   ]
  },
  {
   "cell_type": "code",
   "execution_count": null,
   "metadata": {
    "colab": {
     "base_uri": "https://localhost:8080/"
    },
    "executionInfo": {
     "elapsed": 46,
     "status": "ok",
     "timestamp": 1741060937260,
     "user": {
      "displayName": "Yen Ming Zhen (Njc)",
      "userId": "12782861662632693319"
     },
     "user_tz": -480
    },
    "id": "rBdjONb-Ko2l",
    "outputId": "7fcf1536-500c-4dbe-b7d4-fa0ae33f3107"
   },
   "outputs": [
    {
     "name": "stdout",
     "output_type": "stream",
     "text": [
      "{'a': 'Apples', 'b': 'Banana', 'c': 'Cherries', 'd': 'Durian'}\n",
      "Apples\n",
      "Not available\n"
     ]
    }
   ],
   "source": [
    "print(fruits)\n",
    "print(fruits.get('a', 'Not available'))\n",
    "print(fruits.get('z', 'Not available'))"
   ]
  },
  {
   "cell_type": "markdown",
   "metadata": {
    "id": "m7h3exFpKo2l"
   },
   "source": [
    "3.2.1.3 Finding number of elements in a dictionary with `len()` function\n",
    "\n",
    "To find the number of elements in a dictionary, `len()` function is used. Syntax is\n",
    ">```python\n",
    ">len(my_dictionary)\n",
    ">```\n",
    "\n",
    "#### Example:\n",
    "\n",
    "Find the length of `fruits` dictionary."
   ]
  },
  {
   "cell_type": "code",
   "execution_count": null,
   "metadata": {
    "colab": {
     "base_uri": "https://localhost:8080/"
    },
    "executionInfo": {
     "elapsed": 39,
     "status": "ok",
     "timestamp": 1741060981442,
     "user": {
      "displayName": "Yen Ming Zhen (Njc)",
      "userId": "12782861662632693319"
     },
     "user_tz": -480
    },
    "id": "FMahjjaRKo2l",
    "outputId": "b6c716b9-5e53-4790-afa7-b703b3224bec"
   },
   "outputs": [
    {
     "name": "stdout",
     "output_type": "stream",
     "text": [
      "4\n"
     ]
    }
   ],
   "source": [
    "# YOUR CODE HERE\n",
    "\n",
    "fruits = {\"a\": \"Apples\", \"b\": \"Banana\", \"c\": \"Cherries\", \"d\": \"Durian\"}\n",
    "print(len(fruits))"
   ]
  },
  {
   "cell_type": "markdown",
   "metadata": {
    "id": "dJjHGQQVKo2l"
   },
   "source": [
    "#### 3.2.1.4 `dict.keys()`, `dict.values()`, `dict.items()` methods\n",
    "\n",
    "* `keys()` method return the dictionary's keys as `dict_keys` object.\n",
    "* `values()` method return the dictionary's values as `dict_values` object.\n",
    "* `items()` return  the dictionary's key-value pairs as `dict_items` object.\n",
    "\n",
    "If you want the various collections as a list typecast the objects using the `list` constructor function.\n",
    "\n",
    "#### Example\n",
    "\n",
    "Print out the keys, values and key-value pairs of the dictionary `fruits`."
   ]
  },
  {
   "cell_type": "code",
   "execution_count": null,
   "metadata": {
    "colab": {
     "base_uri": "https://localhost:8080/"
    },
    "executionInfo": {
     "elapsed": 88,
     "status": "ok",
     "timestamp": 1741061001814,
     "user": {
      "displayName": "Yen Ming Zhen (Njc)",
      "userId": "12782861662632693319"
     },
     "user_tz": -480
    },
    "id": "JGhenUTyKo2l",
    "outputId": "94955d30-f6e2-407d-f919-908606914904"
   },
   "outputs": [
    {
     "name": "stdout",
     "output_type": "stream",
     "text": [
      "dict_keys(['a', 'b', 'c', 'd'])\n",
      "dict_values(['Apples', 'Banana', 'Cherries', 'Durian'])\n",
      "dict_items([('a', 'Apples'), ('b', 'Banana'), ('c', 'Cherries'), ('d', 'Durian')])\n"
     ]
    }
   ],
   "source": [
    "print(fruits.keys())\n",
    "print(fruits.values())\n",
    "print(fruits.items())"
   ]
  },
  {
   "cell_type": "markdown",
   "metadata": {
    "id": "ZK24giRFKo2m"
   },
   "source": [
    "#### 3.2.1.5 Modifying and Updating a dictionary\n",
    "\n",
    "Similar to list, dictionary is a **mutable** collection, i.e. dictionary can be modified and the values of existing items can be updated. Syntax is\n",
    "```python\n",
    "your_dictionary[your_key] = your_value\n",
    "```\n",
    "\n",
    "* If the key exists in the dictionary, existing value will be updated.\n",
    "* If the key doesn't exists in the dictionary, new key:value pair is added to dictionary.\n",
    "\n",
    "#### Example\n",
    "\n",
    "Using the `fruits` dictionary defined earlier.\n",
    "- Update its key `a` value to `['Apple', 'Apricots', 'Avocado']`\n",
    "- Add another key-value pair `{'f':'Fig'}` to `fruits` dictionary."
   ]
  },
  {
   "cell_type": "code",
   "execution_count": null,
   "metadata": {
    "colab": {
     "base_uri": "https://localhost:8080/"
    },
    "executionInfo": {
     "elapsed": 23,
     "status": "ok",
     "timestamp": 1741061203511,
     "user": {
      "displayName": "Yen Ming Zhen (Njc)",
      "userId": "12782861662632693319"
     },
     "user_tz": -480
    },
    "id": "E2tI_skHKo2m",
    "outputId": "8e23d5f4-8fbf-4842-db29-eda2b00cb967"
   },
   "outputs": [
    {
     "name": "stdout",
     "output_type": "stream",
     "text": [
      "{'a': ['Apples', 'Apricots', 'Avocado'], 'b': 'Banana', 'c': 'Cherries', 'd': 'Durian', 'f': 'Fig'}\n"
     ]
    }
   ],
   "source": [
    "# YOUR CODE HERE\n",
    "\n",
    "fruits = {\"a\": \"Apples\", \"b\": \"Banana\", \"c\": \"Cherries\", \"d\": \"Durian\"}\n",
    "fruits[\"a\"] = [\"Apples\", \"Apricots\", \"Avocado\"]\n",
    "fruits[\"f\"] = \"Fig\"\n",
    "\n",
    "print(fruits)"
   ]
  },
  {
   "cell_type": "markdown",
   "metadata": {
    "id": "UxsqtblnKo2m"
   },
   "source": [
    "#### 3.2.1.6 Merging Dictionaries with `.update()`\n",
    "\n",
    "`.update()` method is used to merge items from another dictionary.\n",
    "* Adds element(s) to the dictionary if the key is not in the dictionary.\n",
    "* If the key is in the dictionary, it updates the key with the new value.\n",
    "\n",
    "#### Example\n",
    "\n",
    "* Create another dictionary `fruits_too` with items `{'d':'Dates', 'e':'Eldercherry', 'f':'Fig', 'g':'Grape'}`.\n",
    "* Add/update items from `fruits_too` to `fruits`."
   ]
  },
  {
   "cell_type": "code",
   "execution_count": null,
   "metadata": {
    "colab": {
     "base_uri": "https://localhost:8080/"
    },
    "executionInfo": {
     "elapsed": 25,
     "status": "ok",
     "timestamp": 1741061283186,
     "user": {
      "displayName": "Yen Ming Zhen (Njc)",
      "userId": "12782861662632693319"
     },
     "user_tz": -480
    },
    "id": "1thMePafKo2m",
    "outputId": "c22f7032-27a9-4a25-b4fc-cd01377a4e7a"
   },
   "outputs": [
    {
     "name": "stdout",
     "output_type": "stream",
     "text": [
      "{'a': ['Apples', 'Apricots', 'Avocado'], 'b': 'Banana', 'c': 'Cherries', 'd': 'Dates', 'f': 'Fig', 'e': 'Eldercherry', 'g': 'Grape'}\n"
     ]
    }
   ],
   "source": [
    "# YOUR CODE HERE\n",
    "\n",
    "fruits = {'a': ['Apples', 'Apricots', 'Avocado'], 'b': 'Banana', 'c': 'Cherries', 'd': 'Durian', 'f': 'Fig'}\n",
    "fruits_too = {'d':'Dates', 'e':'Eldercherry', 'f':'Fig', 'g':'Grape'}\n",
    "fruits.update(fruits_too)\n",
    "print(fruits)"
   ]
  },
  {
   "cell_type": "markdown",
   "metadata": {
    "id": "dZDXuWgRKo2m"
   },
   "source": [
    "#### 3.2.1.7 Removing Items with `.pop()`, `.popitem()`, `.clear()`\n",
    "\n",
    "`.pop()` method is used to remove an item by key and returns the value. Syntax is\n",
    ">```python\n",
    ">my_dictionary.pop(my_item)\n",
    ">```\n",
    "\n",
    "It throws exception if key is not found.\n",
    "\n",
    "#### Example"
   ]
  },
  {
   "cell_type": "code",
   "execution_count": null,
   "metadata": {
    "colab": {
     "base_uri": "https://localhost:8080/"
    },
    "executionInfo": {
     "elapsed": 23,
     "status": "ok",
     "timestamp": 1741061295405,
     "user": {
      "displayName": "Yen Ming Zhen (Njc)",
      "userId": "12782861662632693319"
     },
     "user_tz": -480
    },
    "id": "V0t3ZiiUKo2m",
    "outputId": "2610ff52-086b-474d-ee41-3b8346890c16"
   },
   "outputs": [
    {
     "name": "stdout",
     "output_type": "stream",
     "text": [
      "{'a': 'captain', 'b': 'Banana', 'c': 'Cherry', 'd': 'Durian', 'f': 'Fig'}\n",
      "{'a': 'captain', 'c': 'Cherry', 'd': 'Durian', 'f': 'Fig'}\n",
      "Banana\n",
      "{'a': 'captain', 'c': 'Cherry', 'd': 'Durian'}\n",
      "('f', 'Fig')\n",
      "{}\n"
     ]
    }
   ],
   "source": [
    "fruits = {'a': 'captain', 'b': 'Banana', 'c': 'Cherry', 'd': 'Durian', 'f': 'Fig'}\n",
    "print(fruits)\n",
    "\n",
    "p = fruits.pop('b')\n",
    "print(fruits)\n",
    "print(p)\n",
    "\n",
    "b = fruits.popitem()\n",
    "print(fruits)\n",
    "print(b)\n",
    "\n",
    "fruits.clear()\n",
    "print(fruits)"
   ]
  },
  {
   "cell_type": "markdown",
   "metadata": {
    "id": "Cem1CdPwKo2m"
   },
   "source": [
    "`.popitem()` removes any arbitrary item.\n",
    "\n",
    "`.clear()` clears all items in a dictionary."
   ]
  },
  {
   "cell_type": "code",
   "execution_count": null,
   "metadata": {
    "colab": {
     "base_uri": "https://localhost:8080/"
    },
    "executionInfo": {
     "elapsed": 42,
     "status": "ok",
     "timestamp": 1741061341093,
     "user": {
      "displayName": "Yen Ming Zhen (Njc)",
      "userId": "12782861662632693319"
     },
     "user_tz": -480
    },
    "id": "neCjmSiFKo2m",
    "outputId": "e772c64b-09a7-4e63-a850-7d5211f2da31"
   },
   "outputs": [
    {
     "name": "stdout",
     "output_type": "stream",
     "text": [
      "('f', 'Fig')\n",
      "{}\n"
     ]
    }
   ],
   "source": [
    "mixed = dict(fruits)\n",
    "print(mixed.popitem())\n",
    "mixed.clear()\n",
    "print(mixed)"
   ]
  },
  {
   "cell_type": "markdown",
   "metadata": {
    "id": "hDmbtwIfKo2m"
   },
   "source": [
    "#### 3.2.1.8 Iterating Through Dictionary\n",
    "\n",
    "To iterate through a dictionary, you can use for-loop. By default, the iteration is done ONLY on **keys** of the dictionary.\n",
    "\n",
    "#### Example"
   ]
  },
  {
   "cell_type": "code",
   "execution_count": null,
   "metadata": {
    "colab": {
     "base_uri": "https://localhost:8080/"
    },
    "executionInfo": {
     "elapsed": 48,
     "status": "ok",
     "timestamp": 1741061318820,
     "user": {
      "displayName": "Yen Ming Zhen (Njc)",
      "userId": "12782861662632693319"
     },
     "user_tz": -480
    },
    "id": "MUupQ_SkKo2m",
    "outputId": "4ce74fef-4646-4487-8cb3-97829f0aa532"
   },
   "outputs": [
    {
     "name": "stdout",
     "output_type": "stream",
     "text": [
      "a\n",
      "b\n",
      "c\n",
      "d\n",
      "f\n"
     ]
    }
   ],
   "source": [
    "fruits = {'a': 'captain', 'b': 'Banana', 'c': 'Cherry', 'd': 'Durian', 'f': 'Fig'}\n",
    "\n",
    "for key in fruits:\n",
    "    print(key)"
   ]
  },
  {
   "cell_type": "markdown",
   "metadata": {
    "id": "ROECA5w-Ko2m"
   },
   "source": [
    "#### Exercise\n",
    "\n",
    "Write a code to:\n",
    "\n",
    "1. iterate through the values in the `fruits` dictionary, and\n",
    "2. iterate through the keys and values in the `fruits` dictionary at the same time."
   ]
  },
  {
   "cell_type": "markdown",
   "metadata": {
    "id": "sWDMHKkvKo2n"
   },
   "source": [
    "#### 3.2.1.9 Dictionary Comprehension\n",
    "\n",
    "Similiar to list, we can also use dictionary comprehension to easily generate a dictionary.\n",
    "\n",
    "#### Example"
   ]
  },
  {
   "cell_type": "code",
   "execution_count": null,
   "metadata": {
    "colab": {
     "base_uri": "https://localhost:8080/"
    },
    "executionInfo": {
     "elapsed": 19,
     "status": "ok",
     "timestamp": 1741061389502,
     "user": {
      "displayName": "Yen Ming Zhen (Njc)",
      "userId": "12782861662632693319"
     },
     "user_tz": -480
    },
    "id": "tMI4KdA7Ko2n",
    "outputId": "0b5619a7-dc00-4964-9878-a3114b09331c"
   },
   "outputs": [
    {
     "name": "stdout",
     "output_type": "stream",
     "text": [
      "[0, 2, 4, 6, 8, 10, 12, 14, 16, 18]\n",
      "{1: 1, 2: 4, 3: 9, 4: 16, 5: 25, 6: 36, 7: 49, 8: 64, 9: 81}\n"
     ]
    }
   ],
   "source": [
    "s = [x*2 for x in range(10)]\n",
    "print(s)\n",
    "\n",
    "d = {x: x*x for x in range(1,10)}\n",
    "print(d)"
   ]
  },
  {
   "cell_type": "markdown",
   "metadata": {
    "id": "SkKLraP5Ko2n"
   },
   "source": [
    "#### 3.2.1.10 Membership Test\n",
    "\n",
    "We can use `in` operator to check membership of a key in a dictionary.\n",
    "\n",
    "#### Example\n",
    "\n",
    "Check whether key `a` and `z` are in the `fruits` dictionary. By default, membership testing is again done on keys."
   ]
  },
  {
   "cell_type": "code",
   "execution_count": null,
   "metadata": {
    "colab": {
     "base_uri": "https://localhost:8080/"
    },
    "executionInfo": {
     "elapsed": 39,
     "status": "ok",
     "timestamp": 1741061396410,
     "user": {
      "displayName": "Yen Ming Zhen (Njc)",
      "userId": "12782861662632693319"
     },
     "user_tz": -480
    },
    "id": "rNFDhy9hKo2n",
    "outputId": "aaac7f02-c42c-46a1-958a-bd4d18d472dc"
   },
   "outputs": [
    {
     "name": "stdout",
     "output_type": "stream",
     "text": [
      "{'a': 'captain', 'b': 'Banana', 'c': 'Cherry', 'd': 'Durian', 'f': 'Fig'}\n",
      "True\n",
      "False\n"
     ]
    }
   ],
   "source": [
    "print(fruits)\n",
    "\n",
    "# by default, membership testing is done on keys\n",
    "print('a' in fruits)\n",
    "print('z' in fruits)"
   ]
  },
  {
   "cell_type": "markdown",
   "metadata": {
    "id": "0Re3O-YBKo2n"
   },
   "source": [
    "#### Exercise\n",
    "\n",
    "* How to test if a value `Apple` is in a dictionary?\n",
    "* How to test if a key-value pair `{'a':'Apple'}` is in the dictionary?\n",
    "* Let `d1 = {'a':'Apple', 'c':'Cherries'}`. How to check if all key-value pairs in one dictionary `d1` are in the dictionary `fruits`?"
   ]
  },
  {
   "cell_type": "code",
   "execution_count": 5,
   "metadata": {
    "colab": {
     "base_uri": "https://localhost:8080/"
    },
    "executionInfo": {
     "elapsed": 42,
     "status": "ok",
     "timestamp": 1741132315593,
     "user": {
      "displayName": "Yen Ming Zhen (Njc)",
      "userId": "12782861662632693319"
     },
     "user_tz": -480
    },
    "id": "hJIJLLb8Ko2n",
    "outputId": "347ced4d-ff04-4b3b-be19-6a9c354c58cd"
   },
   "outputs": [
    {
     "name": "stdout",
     "output_type": "stream",
     "text": [
      "True\n",
      "True\n",
      "False\n"
     ]
    }
   ],
   "source": [
    "#YOUR CODE HERE\n",
    "\n",
    "fruits = {'a': 'Apple', 'b': 'Banana', 'c': 'Cherry', 'd': 'Durian', 'f': 'Fig'}\n",
    "print(\"Apple\" in fruits.values())\n",
    "print((\"a\", \"Apple\") in fruits.items())\n",
    "\n",
    "d1 = {'a':'Apple', 'c':'Cherries'}\n",
    "\n",
    "print(set(d1.items()).issubset(set(fruits.items())))"
   ]
  },
  {
   "cell_type": "markdown",
   "metadata": {
    "id": "nJjOfjucKo2o"
   },
   "source": [
    "In a dictionary, to find key by matching its value, we can either use:\n",
    "* Option 1: for-loop\n",
    "* Option 2: `.index()` method\n",
    "\n",
    "#### Example"
   ]
  },
  {
   "cell_type": "code",
   "execution_count": 8,
   "metadata": {
    "colab": {
     "base_uri": "https://localhost:8080/"
    },
    "executionInfo": {
     "elapsed": 18,
     "status": "ok",
     "timestamp": 1741132330747,
     "user": {
      "displayName": "Yen Ming Zhen (Njc)",
      "userId": "12782861662632693319"
     },
     "user_tz": -480
    },
    "id": "A8Li8OcSKo2o",
    "outputId": "e1247a1c-0421-4ca8-cb5e-18fb70ef0022"
   },
   "outputs": [
    {
     "name": "stdout",
     "output_type": "stream",
     "text": [
      "['Apple', 'Banana', 'Cherry', 'Durian', 'Fig']\n",
      "2\n",
      "c\n"
     ]
    }
   ],
   "source": [
    "x = 'Cherry'\n",
    "s = list(fruits.values())\n",
    "print(s)\n",
    "\n",
    "i = s.index(x)\n",
    "print(i)\n",
    "\n",
    "k = list(fruits.keys())\n",
    "print(k[i])"
   ]
  },
  {
   "cell_type": "markdown",
   "metadata": {
    "id": "325mllMZKo2o"
   },
   "source": [
    "## Recap\n",
    "\n",
    "* How to create a dictionary?\n",
    "* How to copy a dictionary?\n",
    "* How to retrieve an item by key? by `[]` & by `.get()`\n",
    "* How to update an item?\n",
    "* How to add an item?\n",
    "* How to remove an item?\n",
    "* How to merge an dictionary to another?\n",
    "* What's the differences among `dict.keys()`, `dict.values()` and `dict.items()`"
   ]
  },
  {
   "cell_type": "markdown",
   "metadata": {
    "id": "lnhvJX9bKo2p"
   },
   "source": [
    "## 3.3 Set\n",
    "\n",
    "A set is an **unordered** collection of **unique** values. In Python, `set` is the data type for Sets.\n",
    "\n",
    "* Every element in set is unique (no duplicates) and must be **immutable** (which cannot be changed).\n",
    "* `set` itself is mutable. We can add or remove items from it.\n",
    "* `set` is often used to eliminate repeated numbers in a sequence/list.\n",
    "\n",
    "### 3.3.1. How to create a set?\n",
    "\n",
    "A set is created by either of following methods:\n",
    "* Placing all the items (elements) inside curly braces `{}`, separated by comma `,`\n",
    "* Using the built-in constructor function `set()`, which takes in a collection (list or tuple)\n",
    "\n",
    "**Note:**\n",
    "* Set can contain mixed data type.\n",
    "* All duplicate value will be discarded.\n",
    "\n",
    "#### Example"
   ]
  },
  {
   "cell_type": "code",
   "execution_count": 9,
   "metadata": {
    "colab": {
     "base_uri": "https://localhost:8080/"
    },
    "executionInfo": {
     "elapsed": 37,
     "status": "ok",
     "timestamp": 1741132421139,
     "user": {
      "displayName": "Yen Ming Zhen (Njc)",
      "userId": "12782861662632693319"
     },
     "user_tz": -480
    },
    "id": "g1ew9NS_Ko2p",
    "outputId": "30cc900c-4c09-42a2-ff32-4dbb12eb5d1b"
   },
   "outputs": [
    {
     "name": "stdout",
     "output_type": "stream",
     "text": [
      "[1, 2, 3, 4, 1, 2, 3, 4, 1, 2, 3, 4]\n",
      "{1, 2, 3, 4}\n"
     ]
    }
   ],
   "source": [
    "s = [1,2,3,4]*3\n",
    "print(s)\n",
    "set3 = set(s)\n",
    "print(set3)"
   ]
  },
  {
   "cell_type": "markdown",
   "metadata": {
    "id": "eb5-0zbpKo2p"
   },
   "source": [
    "**Question**\n",
    "* Why we can't use `{}` to create an empty set?\n",
    "\n",
    "#### Example"
   ]
  },
  {
   "cell_type": "code",
   "execution_count": 10,
   "metadata": {
    "colab": {
     "base_uri": "https://localhost:8080/"
    },
    "executionInfo": {
     "elapsed": 78,
     "status": "ok",
     "timestamp": 1741132449442,
     "user": {
      "displayName": "Yen Ming Zhen (Njc)",
      "userId": "12782861662632693319"
     },
     "user_tz": -480
    },
    "id": "4BngIWkDKo2p",
    "outputId": "be440ac3-6705-4c19-f3c0-e1356438f197"
   },
   "outputs": [
    {
     "name": "stdout",
     "output_type": "stream",
     "text": [
      "<class 'dict'>\n",
      "<class 'set'>\n"
     ]
    }
   ],
   "source": [
    "s = {}\n",
    "print(type(s))\n",
    "# empty set\n",
    "set0 = set()\n",
    "print(type(set0))"
   ]
  },
  {
   "cell_type": "markdown",
   "metadata": {
    "id": "jdfp493CKo2p"
   },
   "source": [
    "#### 3.3.2 How to modify a set?\n",
    "\n",
    "Set is mutable. Thus you can perform following actions on a set.\n",
    "* Add a single item\n",
    "* Update/add multiple items\n",
    "* remove items"
   ]
  },
  {
   "cell_type": "markdown",
   "metadata": {
    "id": "oLfCWtGYKo2p"
   },
   "source": [
    "##### 3.3.2.1 Add a Single Item with `add()`\n",
    "\n",
    "`add()` function is used to add a single item to the list.\n",
    "\n",
    "If the item is already exists in the set, it will be ignored.\n",
    "\n",
    "#### Example\n"
   ]
  },
  {
   "cell_type": "code",
   "execution_count": 11,
   "metadata": {
    "colab": {
     "base_uri": "https://localhost:8080/"
    },
    "executionInfo": {
     "elapsed": 41,
     "status": "ok",
     "timestamp": 1741132538606,
     "user": {
      "displayName": "Yen Ming Zhen (Njc)",
      "userId": "12782861662632693319"
     },
     "user_tz": -480
    },
    "id": "13oKcQDdKo2p",
    "outputId": "12d431f5-a83e-49f6-abdd-728c54adf8b8"
   },
   "outputs": [
    {
     "name": "stdout",
     "output_type": "stream",
     "text": [
      "{1, 2, 3, 4, 5}\n"
     ]
    }
   ],
   "source": [
    "set1 = {1,2,3,4}\n",
    "set1.add(5)\n",
    "set1.add(5)\n",
    "print(set1)"
   ]
  },
  {
   "cell_type": "markdown",
   "metadata": {
    "id": "br4PLvT3Ko2q"
   },
   "source": [
    "##### 3.3.2.2 Add Multiple Items with `update()`\n",
    "\n",
    "`update()` function is used to add multiple items to a set. It can take in one or more collections, e.g. list, tuple or another set.\n",
    "\n",
    "* If the item already exists, it will be discarded.\n",
    "* If the item does not exist, it will be added.\n",
    "\n",
    "#### Example"
   ]
  },
  {
   "cell_type": "code",
   "execution_count": 12,
   "metadata": {
    "colab": {
     "base_uri": "https://localhost:8080/"
    },
    "executionInfo": {
     "elapsed": 17,
     "status": "ok",
     "timestamp": 1741132546328,
     "user": {
      "displayName": "Yen Ming Zhen (Njc)",
      "userId": "12782861662632693319"
     },
     "user_tz": -480
    },
    "id": "Akrs0BEBKo2q",
    "outputId": "c38f6afd-3439-4445-c0e8-7887ad1051de"
   },
   "outputs": [
    {
     "name": "stdout",
     "output_type": "stream",
     "text": [
      "{1, 2, 3, 4}\n",
      "{1, 2, 3, 4, 5}\n",
      "{1, 2, 3, 4, 5, 7, 8, 9, 10, (5, 6)}\n"
     ]
    }
   ],
   "source": [
    "set1 = {1,2,3,4}\n",
    "print(set1)\n",
    "set1.update([2,3,4,5])\n",
    "print(set1)\n",
    "set1.update([(5,6)], {7,8}, (9,10))\n",
    "print(set1)"
   ]
  },
  {
   "cell_type": "markdown",
   "metadata": {
    "id": "Oo5Xjw9aKo2q"
   },
   "source": [
    "##### 3.3.2.3 Remove Item by Value\n",
    "\n",
    "An item can be removed from set using `discard()` and `remove()` methods.\n",
    "* `discard()` method does not throw exception if the item is not found in the set.\n",
    "* `remove()` method will raise an `Exception` in such condition."
   ]
  },
  {
   "cell_type": "code",
   "execution_count": 15,
   "metadata": {
    "colab": {
     "base_uri": "https://localhost:8080/"
    },
    "executionInfo": {
     "elapsed": 47,
     "status": "ok",
     "timestamp": 1741132598809,
     "user": {
      "displayName": "Yen Ming Zhen (Njc)",
      "userId": "12782861662632693319"
     },
     "user_tz": -480
    },
    "id": "W1TcLvTEKo2q",
    "outputId": "28035f54-70e9-47bd-f114-add3a7c32883"
   },
   "outputs": [
    {
     "name": "stdout",
     "output_type": "stream",
     "text": [
      "{1, 2, 3}\n",
      "{1, 2, 3}\n"
     ]
    }
   ],
   "source": [
    "set1 = {1,2,3,4}\n",
    "\n",
    "set1.discard(4)\n",
    "set1.discard(44)\n",
    "print(set1)\n",
    "\n",
    "# set1.remove(33)\n",
    "print(set1)"
   ]
  },
  {
   "cell_type": "markdown",
   "metadata": {
    "id": "nquZbiHbKo2q"
   },
   "source": [
    "##### 3.3.2.4 Remove an Arbitrary Item\n",
    "\n",
    "`pop()` function can be used to remove an **arbitrary** item from set. This is because set is unordered.\n",
    "* The popped value may seem following a sequence. But that is due to the internal hashmap implementation. It is not reliable and depends on values."
   ]
  },
  {
   "cell_type": "code",
   "execution_count": 16,
   "metadata": {
    "colab": {
     "base_uri": "https://localhost:8080/"
    },
    "executionInfo": {
     "elapsed": 51,
     "status": "ok",
     "timestamp": 1741132630886,
     "user": {
      "displayName": "Yen Ming Zhen (Njc)",
      "userId": "12782861662632693319"
     },
     "user_tz": -480
    },
    "id": "QY_GyTWfKo2q",
    "outputId": "edeb53c7-84de-4bd9-ace1-c08b972989ef"
   },
   "outputs": [
    {
     "name": "stdout",
     "output_type": "stream",
     "text": [
      "1\n",
      "2\n",
      "{3, 4}\n"
     ]
    }
   ],
   "source": [
    "set1 = {1,2,3,4}\n",
    "print(set1.pop())\n",
    "print(set1.pop())\n",
    "print(set1)"
   ]
  },
  {
   "cell_type": "markdown",
   "metadata": {
    "id": "kif-geSRKo2r"
   },
   "source": [
    "##### 3.3.2.5 Remove an Arbitrary Item\n",
    "\n",
    "Sets can be used to carry out mathematical set operations\n",
    "* intersection\n",
    "* union\n",
    "* symmetric difference\n",
    "* difference (subtracting)\n",
    "\n",
    "<center>\n",
    "<img src=\"https://github.com/njc-cz2-2021/Materials/blob/main/Notes/images/set-venn.png?raw=1\" alt=\"Set Venn Diagram\" style=\"width: 500px;\"/>\n",
    "</center>\n",
    "\n",
    "##### Example\n",
    "Create 2 sets using `set()` constructor."
   ]
  },
  {
   "cell_type": "code",
   "execution_count": 17,
   "metadata": {
    "colab": {
     "base_uri": "https://localhost:8080/"
    },
    "executionInfo": {
     "elapsed": 9,
     "status": "ok",
     "timestamp": 1741132650540,
     "user": {
      "displayName": "Yen Ming Zhen (Njc)",
      "userId": "12782861662632693319"
     },
     "user_tz": -480
    },
    "id": "RZrMX6SsKo2r",
    "outputId": "7860303b-8f12-4626-ce1c-d668b0d55c3b"
   },
   "outputs": [
    {
     "name": "stdout",
     "output_type": "stream",
     "text": [
      "{0, 1, 2, 3, 4, 5, 6, 7}\n",
      "{5, 6, 7, 8, 9, 10, 11, 12}\n"
     ]
    }
   ],
   "source": [
    "set1 = set(range(0,8))\n",
    "set2 = set(range(5,13))\n",
    "print(set1)\n",
    "print(set2)"
   ]
  },
  {
   "cell_type": "markdown",
   "metadata": {
    "id": "SzWoWS9uKo2s"
   },
   "source": [
    "##### 3.3.2.6 Intersection\n",
    "\n",
    "`intersection()` function outputs a set which contains all the elements that are in both sets.\n",
    "* Operator `&` can be used for Intersection operation."
   ]
  },
  {
   "cell_type": "code",
   "execution_count": 18,
   "metadata": {
    "colab": {
     "base_uri": "https://localhost:8080/"
    },
    "executionInfo": {
     "elapsed": 37,
     "status": "ok",
     "timestamp": 1741132655351,
     "user": {
      "displayName": "Yen Ming Zhen (Njc)",
      "userId": "12782861662632693319"
     },
     "user_tz": -480
    },
    "id": "IcgxA1PDKo2s",
    "outputId": "6f731065-1d62-44da-fd4b-3a21c92e4a64"
   },
   "outputs": [
    {
     "name": "stdout",
     "output_type": "stream",
     "text": [
      "{5, 6, 7}\n",
      "{5, 6, 7}\n"
     ]
    }
   ],
   "source": [
    "# set1 n set2\n",
    "print(set1.intersection(set2))\n",
    "print(set1 & set2)"
   ]
  },
  {
   "cell_type": "markdown",
   "metadata": {
    "id": "c9QWhNTmKo2t"
   },
   "source": [
    "##### 3.3.2.7 Union\n",
    "\n",
    "`union()` function returns a set which contains all the elements of both the sets without repition.\n",
    "* Operator `|` can be used for Union operation."
   ]
  },
  {
   "cell_type": "code",
   "execution_count": 19,
   "metadata": {
    "colab": {
     "base_uri": "https://localhost:8080/"
    },
    "executionInfo": {
     "elapsed": 36,
     "status": "ok",
     "timestamp": 1741132668866,
     "user": {
      "displayName": "Yen Ming Zhen (Njc)",
      "userId": "12782861662632693319"
     },
     "user_tz": -480
    },
    "id": "SAu4TJJKKo2t",
    "outputId": "0b4f966a-9a6f-478e-9760-1b91ab7094eb"
   },
   "outputs": [
    {
     "name": "stdout",
     "output_type": "stream",
     "text": [
      "{0, 1, 2, 3, 4, 5, 6, 7, 8, 9, 10, 11, 12}\n",
      "{0, 1, 2, 3, 4, 5, 6, 7, 8, 9, 10, 11, 12}\n"
     ]
    }
   ],
   "source": [
    "# set1 U set2\n",
    "print(set1.union(set2))\n",
    "print(set1 | set2)"
   ]
  },
  {
   "cell_type": "markdown",
   "metadata": {
    "id": "Rg7ZtMuPKo2t"
   },
   "source": [
    "##### 3.3.2.8 Difference (Subtracting)\n",
    "\n",
    "`difference()` function ouptuts a set which contains elements that are in set1 and not in set2.\n",
    "* Operator `-` can be use for Subtracting operation."
   ]
  },
  {
   "cell_type": "code",
   "execution_count": 20,
   "metadata": {
    "colab": {
     "base_uri": "https://localhost:8080/"
    },
    "executionInfo": {
     "elapsed": 56,
     "status": "ok",
     "timestamp": 1741132686052,
     "user": {
      "displayName": "Yen Ming Zhen (Njc)",
      "userId": "12782861662632693319"
     },
     "user_tz": -480
    },
    "id": "xbJbGzfBKo2t",
    "outputId": "516de194-b45a-4fc2-abf2-b9c1d543cdd6"
   },
   "outputs": [
    {
     "name": "stdout",
     "output_type": "stream",
     "text": [
      "{0, 1, 2, 3, 4}\n",
      "{0, 1, 2, 3, 4}\n"
     ]
    }
   ],
   "source": [
    "# set1 U set2'\n",
    "print(set1.difference(set2))\n",
    "print(set1 - set2)"
   ]
  },
  {
   "cell_type": "markdown",
   "metadata": {
    "id": "0uiw7PkbKo2t"
   },
   "source": [
    "#### 3.3.2.9 Symetric Difference\n",
    "\n",
    "`symmetric_difference()` function ouputs a function which contains elements that are in one of the sets."
   ]
  },
  {
   "cell_type": "code",
   "execution_count": 21,
   "metadata": {
    "colab": {
     "base_uri": "https://localhost:8080/"
    },
    "executionInfo": {
     "elapsed": 18,
     "status": "ok",
     "timestamp": 1741132720727,
     "user": {
      "displayName": "Yen Ming Zhen (Njc)",
      "userId": "12782861662632693319"
     },
     "user_tz": -480
    },
    "id": "4H7uC8NvKo2t",
    "outputId": "ec28db79-ad29-49d8-8cc4-373d2ad1ad79"
   },
   "outputs": [
    {
     "name": "stdout",
     "output_type": "stream",
     "text": [
      "{0, 1, 2, 3, 4, 8, 9, 10, 11, 12}\n"
     ]
    }
   ],
   "source": [
    "# (set1' n set2) U (set2' U set1)\n",
    "s7 = set1.symmetric_difference(set2)\n",
    "print(s7)"
   ]
  },
  {
   "cell_type": "markdown",
   "metadata": {
    "id": "yCg7laITKo2u"
   },
   "source": [
    "#### 3.3.2.10 Subset, Superset\n",
    "\n",
    "`issubset()`, `issuperset()` is used to check if the set1/set2 is a subset, superset of set2/set1 respectively."
   ]
  },
  {
   "cell_type": "code",
   "execution_count": 22,
   "metadata": {
    "colab": {
     "base_uri": "https://localhost:8080/"
    },
    "executionInfo": {
     "elapsed": 15,
     "status": "ok",
     "timestamp": 1741133021137,
     "user": {
      "displayName": "Yen Ming Zhen (Njc)",
      "userId": "12782861662632693319"
     },
     "user_tz": -480
    },
    "id": "PG3n_6vCKo2u",
    "outputId": "a8be7ed1-265c-4009-8d72-5888a1ecb932"
   },
   "outputs": [
    {
     "name": "stdout",
     "output_type": "stream",
     "text": [
      "{0, 1, 2, 3, 4, 5, 6, 7, 8, 9, 10, 11, 12, 13, 14}\n",
      "{5, 6, 7, 8, 9}\n",
      "False True\n"
     ]
    }
   ],
   "source": [
    "set3 = set(range(0,15))\n",
    "set4 = set(range(5,10))\n",
    "print(set3)\n",
    "print(set4)\n",
    "\n",
    "r1 = set3.issubset(set4)\n",
    "r2 = set3.issuperset(set4)\n",
    "print(r1, r2)"
   ]
  },
  {
   "cell_type": "code",
   "execution_count": 23,
   "metadata": {
    "colab": {
     "base_uri": "https://localhost:8080/"
    },
    "executionInfo": {
     "elapsed": 36,
     "status": "ok",
     "timestamp": 1741133034358,
     "user": {
      "displayName": "Yen Ming Zhen (Njc)",
      "userId": "12782861662632693319"
     },
     "user_tz": -480
    },
    "id": "KfJq_XbGKo2u",
    "outputId": "733ddbce-7c90-4e84-f87d-261bbf5162d9"
   },
   "outputs": [
    {
     "name": "stdout",
     "output_type": "stream",
     "text": [
      "True True\n"
     ]
    }
   ],
   "source": [
    "set3 = set(range(0,15))\n",
    "set4 = set(range(5,10))\n",
    "\n",
    "r1 = set4.issubset(set3)\n",
    "r2 = set3.issuperset(set4)\n",
    "print(r1, r2)"
   ]
  },
  {
   "cell_type": "markdown",
   "metadata": {
    "id": "fmxa3-PyKo2u"
   },
   "source": [
    "#### 3.3.2.11 Disjoint\n",
    "\n",
    "`isdisjoint()` is used to check if the set1/set2 is disjoint."
   ]
  },
  {
   "cell_type": "code",
   "execution_count": 24,
   "metadata": {
    "colab": {
     "base_uri": "https://localhost:8080/"
    },
    "executionInfo": {
     "elapsed": 24,
     "status": "ok",
     "timestamp": 1741133048371,
     "user": {
      "displayName": "Yen Ming Zhen (Njc)",
      "userId": "12782861662632693319"
     },
     "user_tz": -480
    },
    "id": "y1rchP7lKo2u",
    "outputId": "8d5f2d4a-a70a-46ac-d148-ad8c43eefd05"
   },
   "outputs": [
    {
     "name": "stdout",
     "output_type": "stream",
     "text": [
      "False\n",
      "True\n"
     ]
    }
   ],
   "source": [
    "r3 = set3.isdisjoint(set4)\n",
    "print(r3)\n",
    "\n",
    "set5 = set(range(5))\n",
    "set6 = set(range(6,10))\n",
    "r4 = set5.isdisjoint(set6)\n",
    "print(r4)"
   ]
  },
  {
   "cell_type": "markdown",
   "metadata": {
    "id": "uPNR_6HAKo2u"
   },
   "source": [
    "## 3.4 Mutability\n",
    "\n",
    "### 3.4.1 Variable Assignment in Python\n",
    "\n",
    "In Python, a variable is a symbolic name that is a reference or pointer to an object, it is not the object itself. For example, consider the following code.\n",
    "```python\n",
    "x = 10\n",
    "```\n",
    "\n",
    "First the integer object `10` is created in the memory and then, the variable `x` is assigned to point to that object.\n",
    "\n",
    "#### 3.4.1.1 `id` function\n",
    "\n",
    "The built-in Python function `id` returns an object’s integer identifier, i.e. the object's location in the memory. Syntax is\n",
    "\n",
    "```python\n",
    "id(your_object)\n",
    "```\n",
    "\n",
    "#### Example 1\n",
    "\n",
    "Assign the values `0` and `1` to the variables `x` and `y` respectively. Afterwards, using the `id` built-in function, print out their integer identifiers."
   ]
  },
  {
   "cell_type": "code",
   "execution_count": 25,
   "metadata": {
    "colab": {
     "base_uri": "https://localhost:8080/"
    },
    "executionInfo": {
     "elapsed": 16,
     "status": "ok",
     "timestamp": 1741133085885,
     "user": {
      "displayName": "Yen Ming Zhen (Njc)",
      "userId": "12782861662632693319"
     },
     "user_tz": -480
    },
    "id": "0ezFrlUmKo2u",
    "outputId": "07365f7c-d1f4-4c4c-fdbd-fed27276d15a"
   },
   "outputs": [
    {
     "name": "stdout",
     "output_type": "stream",
     "text": [
      "10750824\n",
      "10750856\n"
     ]
    }
   ],
   "source": [
    "x = 0\n",
    "y = 1\n",
    "print(id(x))\n",
    "print(id(y))"
   ]
  },
  {
   "cell_type": "markdown",
   "metadata": {
    "id": "KpjmOYK3Ko2v"
   },
   "source": [
    "## 3.4.1.2 Mutable Objects\n",
    "\n",
    "A **mutable** object means that an object of this type can be modified in the memory after it is created. On the other hand, **immutable** object can't.\n",
    "\n",
    "#### Example 2\n",
    "\n",
    "Consider the following codes:"
   ]
  },
  {
   "cell_type": "code",
   "execution_count": 26,
   "metadata": {
    "colab": {
     "base_uri": "https://localhost:8080/"
    },
    "executionInfo": {
     "elapsed": 14,
     "status": "ok",
     "timestamp": 1741133100926,
     "user": {
      "displayName": "Yen Ming Zhen (Njc)",
      "userId": "12782861662632693319"
     },
     "user_tz": -480
    },
    "id": "3oAIU726Ko2v",
    "outputId": "28b067fe-5484-4767-9fc0-85ac5d8ce296"
   },
   "outputs": [
    {
     "name": "stdout",
     "output_type": "stream",
     "text": [
      "138720704304128\n",
      "['berries', 'bananas', 'oranges']\n",
      "138720704304128\n"
     ]
    }
   ],
   "source": [
    "a = [\"apples\", \"bananas\", \"oranges\"]\n",
    "print(id(a))\n",
    "a[0]='berries'\n",
    "print(a)\n",
    "print(id(a))"
   ]
  },
  {
   "cell_type": "code",
   "execution_count": 27,
   "metadata": {
    "colab": {
     "base_uri": "https://localhost:8080/"
    },
    "executionInfo": {
     "elapsed": 14,
     "status": "ok",
     "timestamp": 1741133107985,
     "user": {
      "displayName": "Yen Ming Zhen (Njc)",
      "userId": "12782861662632693319"
     },
     "user_tz": -480
    },
    "id": "EYYAyJm_Ko2v",
    "outputId": "451f277a-28fb-4b55-a613-e8adf32bbbd8"
   },
   "outputs": [
    {
     "name": "stdout",
     "output_type": "stream",
     "text": [
      "138721024274432\n",
      "('berries', 'bananas', 'oranges')\n",
      "138721434907072\n"
     ]
    }
   ],
   "source": [
    "a = (\"apples\", \"bananas\", \"oranges\")\n",
    "print(id(a))\n",
    "a = (\"berries\", \"bananas\", \"oranges\")\n",
    "print(a)\n",
    "print(id(a))"
   ]
  },
  {
   "cell_type": "markdown",
   "metadata": {
    "id": "-djhKhOPKo2v"
   },
   "source": [
    "## 3.4.1.3 Deep and Shallow Copy\n",
    "\n",
    "TBC"
   ]
  }
 ],
 "metadata": {
  "colab": {
   "provenance": [
    {
     "file_id": "https://github.com/njc-cz2-2021/Materials/blob/main/Notes/Chapter_03_Data_Structures.ipynb",
     "timestamp": 1740638960698
    }
   ]
  },
  "kernelspec": {
   "display_name": "Python 3",
   "language": "python",
   "name": "python3"
  },
  "language_info": {
   "codemirror_mode": {
    "name": "ipython",
    "version": 3
   },
   "file_extension": ".py",
   "mimetype": "text/x-python",
   "name": "python",
   "nbconvert_exporter": "python",
   "pygments_lexer": "ipython3",
   "version": "3.12.1"
  }
 },
 "nbformat": 4,
 "nbformat_minor": 0
}
