{
 "cells": [
  {
   "attachments": {},
   "cell_type": "markdown",
   "metadata": {},
   "source": [
    "# Winter's Magic Cube\n",
    "\n",
    "Rubiks' cubes are popular kids toys that are not only fun but also brain-teasing. They come in many different sizes, from 2X2 and 3X3 all the way to 17X17. A 2X2 cube has over 3 million possible combinations, while a 3X3 cube has over 43 quintillion possible combinations."
   ]
  },
  {
   "cell_type": "markdown",
   "metadata": {},
   "source": [
    "## Task 1: My Cube Is Now 2D\n",
    "\n",
    "A 2X2 cube has 8 individual pieces and 6 different colours. \n",
    "\n",
    "<center>\n",
    "\n",
    "<img src=\"/workspaces/Materials/Exercises/img/2x2_cube.jpg\" width = 300><br>\n",
    "\n",
    "</center>\n",
    "\n",
    "In python, it is not easy to represent this cube in 3D, hence, we must flatten it to 2D. An example is shown below, where the face in the center is the face facing the player and the face on the far right is facing opposite the player.\n",
    "\n",
    "<center>\n",
    "\n",
    "<img src=\"/workspaces/Materials/Exercises/img/2d_cube.png\" width = 500><br>\n",
    "\n",
    "</center>\n",
    "\n",
    "This cube can be represented in nested lists. Each face is its own list of colours, in the order of: [top left, top right, bottom left, bottom right]. Each colour is a variable that stores the hexadecimal value of that colour.\n",
    "\n",
    "``` python\n",
    "unscrambled_cube = [[red, red, red, red],              #front face\n",
    "                    [blue, blue, blue, blue],          #right face\n",
    "                    [orange, orange, orange, orange],  #back face\n",
    "                    [green, green, green, green],      #left face\n",
    "                    [yellow, yellow, yellow, yellow],  #top face\n",
    "                    [white, white, white, white]]      #bottom face\n",
    "```\n",
    "\n",
    "Store the above cube state in this format."
   ]
  },
  {
   "cell_type": "code",
   "execution_count": null,
   "metadata": {},
   "outputs": [],
   "source": [
    "# YOUR CODE HERE\n",
    "scrambled_cube = "
   ]
  },
  {
   "cell_type": "markdown",
   "metadata": {},
   "source": [
    "The `print_cube` function below prints out a 2D rendition of a 2X2 cube given an appropriate list. Try it with `scrambled_cube`."
   ]
  },
  {
   "cell_type": "code",
   "execution_count": null,
   "metadata": {},
   "outputs": [],
   "source": [
    "def print_cube(cube_list):\n",
    "    red = "
   ]
  },
  {
   "cell_type": "markdown",
   "metadata": {},
   "source": [
    "## Exercise 5.1\n",
    "\n",
    "Write following list `s` into a text file `q1.txt` with each item occupying 1 line.\n",
    "\n",
    ">``` python\n",
    ">s = [chr(i) + '.txt' for i in range(ord('A'), ord('F'))]\n",
    ">```\n",
    "\n",
    "Use following command in Jupyter Notebook to open `q1.txt` to verify the content in the file.\n",
    "\n",
    ">`!notepad q1.txt`"
   ]
  },
  {
   "cell_type": "code",
   "execution_count": null,
   "metadata": {},
   "outputs": [],
   "source": [
    "#Exercise 5.1\n",
    "s = [chr(i) + '.txt' + '\\n' for i in range(ord('A'), ord('F'))]\n",
    "\n",
    "with open('./resources/q1.txt', 'w') as f:\n",
    "    f.writelines(s)\n",
    "\n",
    "#open file directly"
   ]
  }
 ],
 "metadata": {
  "kernelspec": {
   "display_name": "Python 3",
   "language": "python",
   "name": "python3"
  },
  "language_info": {
   "codemirror_mode": {
    "name": "ipython",
    "version": 3
   },
   "file_extension": ".py",
   "mimetype": "text/x-python",
   "name": "python",
   "nbconvert_exporter": "python",
   "pygments_lexer": "ipython3",
   "version": "3.12.1"
  },
  "vscode": {
   "interpreter": {
    "hash": "a42ccb73e7d9bfdf27e036f1d2b8b681e55fc0743cc5586bc2474d4a60f4b886"
   }
  }
 },
 "nbformat": 4,
 "nbformat_minor": 2
}
