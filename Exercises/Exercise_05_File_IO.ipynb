{
 "cells": [
  {
   "attachments": {},
   "cell_type": "markdown",
   "metadata": {},
   "source": [
    "# Exercise 5\n",
    "\n",
    "Related Notes:\n",
    "- Chapter_05_File_IO\n",
    "\n",
    "[![Open In Colab](https://colab.research.google.com/assets/colab-badge.svg)](https://colab.research.google.com/github/njc-cz2-2021/Materials/blob/main/Exercises/Exercise_05_File_IO.ipynb) "
   ]
  },
  {
   "cell_type": "markdown",
   "metadata": {},
   "source": [
    "## Exercise 5.1\n",
    "\n",
    "Write following list `s` into a text file `q1.txt` with each item occupying 1 line.\n",
    "\n",
    ">``` python\n",
    ">s = [chr(i) + '.txt' for i in range(ord('A'), ord('F'))]\n",
    ">```\n",
    "\n",
    "Use following command in Jupyter Notebook to open `q1.txt` to verify the content in the file.\n",
    "\n",
    ">`!notepad q1.txt`"
   ]
  },
  {
   "cell_type": "code",
   "execution_count": null,
   "metadata": {},
   "outputs": [],
   "source": [
    "#Exercise 5.1\n",
    "s = [chr(i) + '.txt' + '\\n' for i in range(ord('A'), ord('F'))]\n",
    "\n",
    "with open('./resources/q1.txt', 'w') as f:\n",
    "    f.writelines(s)\n",
    "\n",
    "#open file directly"
   ]
  },
  {
   "cell_type": "markdown",
   "metadata": {},
   "source": [
    "## Exercise 5.2\n",
    "\n",
    "For each line of text in `q1.txt`, generate an empty text file and name the file using that line of text. If file already exists, remove it before generating a new file. \n",
    "\n",
    "Use the following code to check if a file exists.\n",
    "\n",
    ">``` python\n",
    ">import os\n",
    ">if os.path.exists(file_path): pass\n",
    ">```\n",
    "\n",
    "Use following command in Jupyter Notebook to confirm that you have generated all files.\n",
    "\n",
    ">``` bash\n",
    ">!ls *.txt\n",
    ">```"
   ]
  },
  {
   "cell_type": "code",
   "execution_count": 2,
   "metadata": {},
   "outputs": [],
   "source": [
    "#Exercise 5.2\n",
    "import os\n",
    "\n",
    "with open('./resources/q1.txt', 'r') as f:\n",
    "    fileNames = [c.strip() for c in f.readlines()]\n",
    "    \n",
    "for name in fileNames:\n",
    "\n",
    "    if os.path.exists('./resources/' + name):\n",
    "        os.remove('./resources/' + name)\n",
    "        \n",
    "        with open('./resources/' + name, 'w') as f:\n",
    "            f.write(\"rewritten\")\n",
    "    \n",
    "    else:\n",
    "        with open('./resources/' + name, 'w') as f:\n",
    "            f.write(name[0])"
   ]
  },
  {
   "cell_type": "markdown",
   "metadata": {},
   "source": [
    "## Exercise 5.3\n",
    "\n",
    "Write code to generate all the positive integers up to $n$ that are perfect squares and save them in a text file called `PERFECT_SQUARES.TXT`. Note that each line within the file should contain one integer, and the last character within the file should be an end line character."
   ]
  },
  {
   "cell_type": "code",
   "execution_count": 5,
   "metadata": {},
   "outputs": [],
   "source": [
    "#Exercise 5.3\n",
    "n = 500\n",
    "\n",
    "with open('./resources/PERFECT_SQUARES.TXT', 'w') as f:\n",
    "    f.writelines([str(i ** 2) + '\\n' for i in range(1, int(n ** 0.5 // 1 + 1))])"
   ]
  },
  {
   "cell_type": "markdown",
   "metadata": {},
   "source": [
    "## Exercise 5.4\n",
    "\n",
    "Write code to generate all the positive integers from $n + 1$ to $n + m$, and then append them to the file used in Exercise 5.3. (Note, do not overwrite the perfect squares from Exercise 5.3)"
   ]
  },
  {
   "cell_type": "code",
   "execution_count": 7,
   "metadata": {},
   "outputs": [],
   "source": [
    "#Exercise 5.4\n",
    "n = 1\n",
    "m = 10\n",
    "\n",
    "with open('./resources/PERFECT_SQUARES.TXT', 'a') as f:\n",
    "    f.writelines(str(c) + '\\n' for c in range(n + 1, n + m + 1))"
   ]
  },
  {
   "cell_type": "markdown",
   "metadata": {},
   "source": [
    "## Exercise 5.5\n",
    "\n",
    "A log of a certain boss fight from a certain game is stored inside the file `log_ex8.csv` under the folder `resources`. The csv file contains the following header.\n",
    "\n",
    "- `'Parse%'`  refers to the performance of the character relative to all other players in the world,\n",
    "- `'Name'` refers to the name of the character in the game,\n",
    "- `'Amount'`  refers to the amount of damage\n",
    "- `'iLvL'`  refers to the quality of the equipment the character is using,\n",
    "- `'iLvL%'` refers to the performance of the player relative to players with similar quality of equipment,\n",
    "- `'Active Time'` refers to the percentage of time spend by the character doing damage during the fight.\n",
    "- `'DPS'` refers to the amount of damage done per second in the fight.\n",
    "\n",
    "Your task is to:\n",
    "\n",
    "- Store the contents of the csv file into a list `records` where each element in the list is itself a list where the elements correspond to the `Parse%`,`Name`,`Amount`,`iLvL`,`iLvL%`,`Active Time`,`DPS` values for each line in the csv file.\n",
    "- Create an empty list called `player_name`.\n",
    "- iterate over each element of `records` appending the player names to `player_name`.\n",
    "- Print each name in `player_name` in alphabetical order."
   ]
  },
  {
   "cell_type": "code",
   "execution_count": 7,
   "metadata": {},
   "outputs": [
    {
     "name": "stdout",
     "output_type": "stream",
     "text": [
      "Angers\n",
      "Anothervc\n",
      "Avey\n",
      "Biraprie\n",
      "Chrisfumi\n",
      "Chrissinger\n",
      "Darkietank\n",
      "Dewgie\n",
      "Ericlock\n",
      "Exolaris\n",
      "Fyrebird\n",
      "Gamheals\n",
      "Gdook\n",
      "Haloxd\n",
      "Jari\n",
      "Keipra\n",
      "Kieu\n",
      "Knoxvegas\n",
      "Kolhito\n",
      "Lymos\n",
      "Makotoase\n",
      "Masachi\n",
      "Masakins\n",
      "Nómi\n",
      "Ovy\n",
      "Paeldryth\n",
      "Pappaslop\n",
      "Plastral\n",
      "Revtide\n",
      "Spooknspell\n",
      "Stormblast\n",
      "Synesthetix\n",
      "Wôes\n"
     ]
    }
   ],
   "source": [
    "#Exercise 5.5\n",
    "import csv\n",
    "\n",
    "with open('./resources/log_ex8.csv', 'r') as f:\n",
    "    records = list(csv.reader(f))[1:]\n",
    "\n",
    "player_name = [c[1] for c in records]\n",
    "\n",
    "for c in sorted(player_name):\n",
    "    print(c)"
   ]
  },
  {
   "cell_type": "markdown",
   "metadata": {},
   "source": [
    "## Exercise 5.6\n",
    "\n",
    "Download the file: https://archive.ics.uci.edu/ml/machine-learning-databases/iris/iris.data\n",
    "\n",
    "Write code to read and store the contents of this comma separated file within a 2D List, $L$, such that $L[i]$ corresponds to the sample entry on the $i$-th line of the file, and $L[i][j]$ corresponds to the $j$-th value of the $i$-th entry.\n",
    "Print the contents of the 2D List to verify that you have stored the contents correctly.\n"
   ]
  },
  {
   "cell_type": "code",
   "execution_count": 8,
   "metadata": {},
   "outputs": [
    {
     "name": "stdout",
     "output_type": "stream",
     "text": [
      "['5.1', '3.5', '1.4', '0.2', 'Iris-setosa']\n",
      "['4.9', '3.0', '1.4', '0.2', 'Iris-setosa']\n",
      "['4.7', '3.2', '1.3', '0.2', 'Iris-setosa']\n",
      "['4.6', '3.1', '1.5', '0.2', 'Iris-setosa']\n",
      "['5.0', '3.6', '1.4', '0.2', 'Iris-setosa']\n",
      "['5.4', '3.9', '1.7', '0.4', 'Iris-setosa']\n",
      "['4.6', '3.4', '1.4', '0.3', 'Iris-setosa']\n",
      "['5.0', '3.4', '1.5', '0.2', 'Iris-setosa']\n",
      "['4.4', '2.9', '1.4', '0.2', 'Iris-setosa']\n",
      "['4.9', '3.1', '1.5', '0.1', 'Iris-setosa']\n",
      "['5.4', '3.7', '1.5', '0.2', 'Iris-setosa']\n",
      "['4.8', '3.4', '1.6', '0.2', 'Iris-setosa']\n",
      "['4.8', '3.0', '1.4', '0.1', 'Iris-setosa']\n",
      "['4.3', '3.0', '1.1', '0.1', 'Iris-setosa']\n",
      "['5.8', '4.0', '1.2', '0.2', 'Iris-setosa']\n",
      "['5.7', '4.4', '1.5', '0.4', 'Iris-setosa']\n",
      "['5.4', '3.9', '1.3', '0.4', 'Iris-setosa']\n",
      "['5.1', '3.5', '1.4', '0.3', 'Iris-setosa']\n",
      "['5.7', '3.8', '1.7', '0.3', 'Iris-setosa']\n",
      "['5.1', '3.8', '1.5', '0.3', 'Iris-setosa']\n",
      "['5.4', '3.4', '1.7', '0.2', 'Iris-setosa']\n",
      "['5.1', '3.7', '1.5', '0.4', 'Iris-setosa']\n",
      "['4.6', '3.6', '1.0', '0.2', 'Iris-setosa']\n",
      "['5.1', '3.3', '1.7', '0.5', 'Iris-setosa']\n",
      "['4.8', '3.4', '1.9', '0.2', 'Iris-setosa']\n",
      "['5.0', '3.0', '1.6', '0.2', 'Iris-setosa']\n",
      "['5.0', '3.4', '1.6', '0.4', 'Iris-setosa']\n",
      "['5.2', '3.5', '1.5', '0.2', 'Iris-setosa']\n",
      "['5.2', '3.4', '1.4', '0.2', 'Iris-setosa']\n",
      "['4.7', '3.2', '1.6', '0.2', 'Iris-setosa']\n",
      "['4.8', '3.1', '1.6', '0.2', 'Iris-setosa']\n",
      "['5.4', '3.4', '1.5', '0.4', 'Iris-setosa']\n",
      "['5.2', '4.1', '1.5', '0.1', 'Iris-setosa']\n",
      "['5.5', '4.2', '1.4', '0.2', 'Iris-setosa']\n",
      "['4.9', '3.1', '1.5', '0.1', 'Iris-setosa']\n",
      "['5.0', '3.2', '1.2', '0.2', 'Iris-setosa']\n",
      "['5.5', '3.5', '1.3', '0.2', 'Iris-setosa']\n",
      "['4.9', '3.1', '1.5', '0.1', 'Iris-setosa']\n",
      "['4.4', '3.0', '1.3', '0.2', 'Iris-setosa']\n",
      "['5.1', '3.4', '1.5', '0.2', 'Iris-setosa']\n",
      "['5.0', '3.5', '1.3', '0.3', 'Iris-setosa']\n",
      "['4.5', '2.3', '1.3', '0.3', 'Iris-setosa']\n",
      "['4.4', '3.2', '1.3', '0.2', 'Iris-setosa']\n",
      "['5.0', '3.5', '1.6', '0.6', 'Iris-setosa']\n",
      "['5.1', '3.8', '1.9', '0.4', 'Iris-setosa']\n",
      "['4.8', '3.0', '1.4', '0.3', 'Iris-setosa']\n",
      "['5.1', '3.8', '1.6', '0.2', 'Iris-setosa']\n",
      "['4.6', '3.2', '1.4', '0.2', 'Iris-setosa']\n",
      "['5.3', '3.7', '1.5', '0.2', 'Iris-setosa']\n",
      "['5.0', '3.3', '1.4', '0.2', 'Iris-setosa']\n",
      "['7.0', '3.2', '4.7', '1.4', 'Iris-versicolor']\n",
      "['6.4', '3.2', '4.5', '1.5', 'Iris-versicolor']\n",
      "['6.9', '3.1', '4.9', '1.5', 'Iris-versicolor']\n",
      "['5.5', '2.3', '4.0', '1.3', 'Iris-versicolor']\n",
      "['6.5', '2.8', '4.6', '1.5', 'Iris-versicolor']\n",
      "['5.7', '2.8', '4.5', '1.3', 'Iris-versicolor']\n",
      "['6.3', '3.3', '4.7', '1.6', 'Iris-versicolor']\n",
      "['4.9', '2.4', '3.3', '1.0', 'Iris-versicolor']\n",
      "['6.6', '2.9', '4.6', '1.3', 'Iris-versicolor']\n",
      "['5.2', '2.7', '3.9', '1.4', 'Iris-versicolor']\n",
      "['5.0', '2.0', '3.5', '1.0', 'Iris-versicolor']\n",
      "['5.9', '3.0', '4.2', '1.5', 'Iris-versicolor']\n",
      "['6.0', '2.2', '4.0', '1.0', 'Iris-versicolor']\n",
      "['6.1', '2.9', '4.7', '1.4', 'Iris-versicolor']\n",
      "['5.6', '2.9', '3.6', '1.3', 'Iris-versicolor']\n",
      "['6.7', '3.1', '4.4', '1.4', 'Iris-versicolor']\n",
      "['5.6', '3.0', '4.5', '1.5', 'Iris-versicolor']\n",
      "['5.8', '2.7', '4.1', '1.0', 'Iris-versicolor']\n",
      "['6.2', '2.2', '4.5', '1.5', 'Iris-versicolor']\n",
      "['5.6', '2.5', '3.9', '1.1', 'Iris-versicolor']\n",
      "['5.9', '3.2', '4.8', '1.8', 'Iris-versicolor']\n",
      "['6.1', '2.8', '4.0', '1.3', 'Iris-versicolor']\n",
      "['6.3', '2.5', '4.9', '1.5', 'Iris-versicolor']\n",
      "['6.1', '2.8', '4.7', '1.2', 'Iris-versicolor']\n",
      "['6.4', '2.9', '4.3', '1.3', 'Iris-versicolor']\n",
      "['6.6', '3.0', '4.4', '1.4', 'Iris-versicolor']\n",
      "['6.8', '2.8', '4.8', '1.4', 'Iris-versicolor']\n",
      "['6.7', '3.0', '5.0', '1.7', 'Iris-versicolor']\n",
      "['6.0', '2.9', '4.5', '1.5', 'Iris-versicolor']\n",
      "['5.7', '2.6', '3.5', '1.0', 'Iris-versicolor']\n",
      "['5.5', '2.4', '3.8', '1.1', 'Iris-versicolor']\n",
      "['5.5', '2.4', '3.7', '1.0', 'Iris-versicolor']\n",
      "['5.8', '2.7', '3.9', '1.2', 'Iris-versicolor']\n",
      "['6.0', '2.7', '5.1', '1.6', 'Iris-versicolor']\n",
      "['5.4', '3.0', '4.5', '1.5', 'Iris-versicolor']\n",
      "['6.0', '3.4', '4.5', '1.6', 'Iris-versicolor']\n",
      "['6.7', '3.1', '4.7', '1.5', 'Iris-versicolor']\n",
      "['6.3', '2.3', '4.4', '1.3', 'Iris-versicolor']\n",
      "['5.6', '3.0', '4.1', '1.3', 'Iris-versicolor']\n",
      "['5.5', '2.5', '4.0', '1.3', 'Iris-versicolor']\n",
      "['5.5', '2.6', '4.4', '1.2', 'Iris-versicolor']\n",
      "['6.1', '3.0', '4.6', '1.4', 'Iris-versicolor']\n",
      "['5.8', '2.6', '4.0', '1.2', 'Iris-versicolor']\n",
      "['5.0', '2.3', '3.3', '1.0', 'Iris-versicolor']\n",
      "['5.6', '2.7', '4.2', '1.3', 'Iris-versicolor']\n",
      "['5.7', '3.0', '4.2', '1.2', 'Iris-versicolor']\n",
      "['5.7', '2.9', '4.2', '1.3', 'Iris-versicolor']\n",
      "['6.2', '2.9', '4.3', '1.3', 'Iris-versicolor']\n",
      "['5.1', '2.5', '3.0', '1.1', 'Iris-versicolor']\n",
      "['5.7', '2.8', '4.1', '1.3', 'Iris-versicolor']\n",
      "['6.3', '3.3', '6.0', '2.5', 'Iris-virginica']\n",
      "['5.8', '2.7', '5.1', '1.9', 'Iris-virginica']\n",
      "['7.1', '3.0', '5.9', '2.1', 'Iris-virginica']\n",
      "['6.3', '2.9', '5.6', '1.8', 'Iris-virginica']\n",
      "['6.5', '3.0', '5.8', '2.2', 'Iris-virginica']\n",
      "['7.6', '3.0', '6.6', '2.1', 'Iris-virginica']\n",
      "['4.9', '2.5', '4.5', '1.7', 'Iris-virginica']\n",
      "['7.3', '2.9', '6.3', '1.8', 'Iris-virginica']\n",
      "['6.7', '2.5', '5.8', '1.8', 'Iris-virginica']\n",
      "['7.2', '3.6', '6.1', '2.5', 'Iris-virginica']\n",
      "['6.5', '3.2', '5.1', '2.0', 'Iris-virginica']\n",
      "['6.4', '2.7', '5.3', '1.9', 'Iris-virginica']\n",
      "['6.8', '3.0', '5.5', '2.1', 'Iris-virginica']\n",
      "['5.7', '2.5', '5.0', '2.0', 'Iris-virginica']\n",
      "['5.8', '2.8', '5.1', '2.4', 'Iris-virginica']\n",
      "['6.4', '3.2', '5.3', '2.3', 'Iris-virginica']\n",
      "['6.5', '3.0', '5.5', '1.8', 'Iris-virginica']\n",
      "['7.7', '3.8', '6.7', '2.2', 'Iris-virginica']\n",
      "['7.7', '2.6', '6.9', '2.3', 'Iris-virginica']\n",
      "['6.0', '2.2', '5.0', '1.5', 'Iris-virginica']\n",
      "['6.9', '3.2', '5.7', '2.3', 'Iris-virginica']\n",
      "['5.6', '2.8', '4.9', '2.0', 'Iris-virginica']\n",
      "['7.7', '2.8', '6.7', '2.0', 'Iris-virginica']\n",
      "['6.3', '2.7', '4.9', '1.8', 'Iris-virginica']\n",
      "['6.7', '3.3', '5.7', '2.1', 'Iris-virginica']\n",
      "['7.2', '3.2', '6.0', '1.8', 'Iris-virginica']\n",
      "['6.2', '2.8', '4.8', '1.8', 'Iris-virginica']\n",
      "['6.1', '3.0', '4.9', '1.8', 'Iris-virginica']\n",
      "['6.4', '2.8', '5.6', '2.1', 'Iris-virginica']\n",
      "['7.2', '3.0', '5.8', '1.6', 'Iris-virginica']\n",
      "['7.4', '2.8', '6.1', '1.9', 'Iris-virginica']\n",
      "['7.9', '3.8', '6.4', '2.0', 'Iris-virginica']\n",
      "['6.4', '2.8', '5.6', '2.2', 'Iris-virginica']\n",
      "['6.3', '2.8', '5.1', '1.5', 'Iris-virginica']\n",
      "['6.1', '2.6', '5.6', '1.4', 'Iris-virginica']\n",
      "['7.7', '3.0', '6.1', '2.3', 'Iris-virginica']\n",
      "['6.3', '3.4', '5.6', '2.4', 'Iris-virginica']\n",
      "['6.4', '3.1', '5.5', '1.8', 'Iris-virginica']\n",
      "['6.0', '3.0', '4.8', '1.8', 'Iris-virginica']\n",
      "['6.9', '3.1', '5.4', '2.1', 'Iris-virginica']\n",
      "['6.7', '3.1', '5.6', '2.4', 'Iris-virginica']\n",
      "['6.9', '3.1', '5.1', '2.3', 'Iris-virginica']\n",
      "['5.8', '2.7', '5.1', '1.9', 'Iris-virginica']\n",
      "['6.8', '3.2', '5.9', '2.3', 'Iris-virginica']\n",
      "['6.7', '3.3', '5.7', '2.5', 'Iris-virginica']\n",
      "['6.7', '3.0', '5.2', '2.3', 'Iris-virginica']\n",
      "['6.3', '2.5', '5.0', '1.9', 'Iris-virginica']\n",
      "['6.5', '3.0', '5.2', '2.0', 'Iris-virginica']\n",
      "['6.2', '3.4', '5.4', '2.3', 'Iris-virginica']\n",
      "['5.9', '3.0', '5.1', '1.8', 'Iris-virginica']\n",
      "[]\n"
     ]
    }
   ],
   "source": [
    "#Exercise 5.6\n",
    "import csv\n",
    "\n",
    "with open('./resources/IRIS.data', 'r') as f:\n",
    "    L = list(csv.reader(f))\n",
    "\n",
    "for i in L:\n",
    "    print(i)"
   ]
  },
  {
   "cell_type": "markdown",
   "metadata": {},
   "source": [
    "## Exercise 5.7\n",
    "\n",
    "Each line in the file at: http://itu.dk/people/pagh/sad12/primes1000000.txt represents a prime number below 1,000,000.\n",
    " \n",
    "Write a function that uses the above file to test if a given positive integer below 1,000,000 is a prime number. If the given numbers exceeds 1,000,000, then utilise a separate function to calculate if it is a prime. "
   ]
  },
  {
   "cell_type": "code",
   "execution_count": 7,
   "metadata": {},
   "outputs": [
    {
     "data": {
      "text/plain": [
       "True"
      ]
     },
     "execution_count": 7,
     "metadata": {},
     "output_type": "execute_result"
    }
   ],
   "source": [
    "#Exercise 5.7\n",
    "import math\n",
    "\n",
    "with open('./resources/primes1000000.txt', 'r') as f:\n",
    "    read = f.readlines()\n",
    "    primesList = [int(c.strip()) for c in read]\n",
    "\n",
    "def primeCheck(n):\n",
    "\n",
    "    if n < 1000000:\n",
    "        return n in primesList\n",
    "\n",
    "    else:\n",
    "        i = 0\n",
    "\n",
    "        while primesList[i] <= math.sqrt(n):\n",
    "            \n",
    "            if n % primesList[i] == 0:\n",
    "                return False\n",
    "            \n",
    "            i += 1\n",
    "\n",
    "        return True\n",
    "\n",
    "primeCheck(1000033)"
   ]
  },
  {
   "cell_type": "markdown",
   "metadata": {},
   "source": [
    "## Exercise 5.8\n",
    "\n",
    "A mathematical equation $y=f(x)$ can be visualized on a cartesian plane as the set of all the points $(x,y)$ where $y=f(x)$. Write a code that \n",
    "\n",
    "1. generates 100 points that satisfy the equation $y=x^2$ for $-10\\leq x\\leq 10$ (for simplicity, take the uniform spacing for the $x$-values of the points),and\n",
    "2. saves them into a text file named `ex8_8.txt`. Each line in the file is of the form $(x,y)$, \n",
    "3. load the points from `ex8_8.txt` and using the module `matplotlib`, show the plot.\n"
   ]
  },
  {
   "cell_type": "code",
   "execution_count": 19,
   "metadata": {},
   "outputs": [
    {
     "data": {
      "image/png": "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",
      "text/plain": [
       "<Figure size 640x480 with 1 Axes>"
      ]
     },
     "metadata": {},
     "output_type": "display_data"
    }
   ],
   "source": [
    "#Exercise 5.8\n",
    "import matplotlib.pyplot as plt\n",
    "\n",
    "toWrite = [str((round(-10 + x * 0.2, 1), round((-10 + x * 0.2) ** 2, 1))) + '\\n' for x in range(0, 100)]\n",
    "\n",
    "with open('./resources/ex8_8.txt', 'w') as f:\n",
    "    f.writelines(toWrite)\n",
    "\n",
    "with open('./resources/ex8_8.txt', 'r') as f:\n",
    "    reader = f.readlines()\n",
    "    pointsList = [eval(c.strip()) for c in reader]\n",
    "    xList = [c[0] for c in pointsList]\n",
    "    yList = [c[1] for c in pointsList]\n",
    "\n",
    "plt.plot(xList, yList)\n",
    "plt.show()\n",
    "    "
   ]
  },
  {
   "cell_type": "markdown",
   "metadata": {},
   "source": [
    "## Exercise 5.9\n",
    "\n",
    "A text file, `NOI_24_RESULT.txt` contains the results of the medallist recipients for the 24th National Olympiad in Informatics.\n",
    "\n",
    "Write a code to:\n",
    "\n",
    "- read the data from the text file,\n",
    "- store the school name and medal counts in a Python dictionary `medal_count` where the school name is the key and the associated value is a tuple of the form `(GOLD, SILVER, BRONZE)`,\n",
    "- print out the top 5 school with the highest number of medals won, regardless of the medal type. "
   ]
  },
  {
   "cell_type": "code",
   "execution_count": 2,
   "metadata": {},
   "outputs": [
    {
     "name": "stdout",
     "output_type": "stream",
     "text": [
      "['NUS High School Of Mathematics And Science', 'Raffles Institution', 'Hwa Chong Institution', 'National Junior College', 'United World College South East Asia Dover Campus']\n"
     ]
    }
   ],
   "source": [
    "#Exercise 5.9\n",
    "import csv\n",
    "\n",
    "with open('/workspaces/Materials/Exercises/resources/NOI_24_RESULT.txt', 'r') as f:\n",
    "    reader = list(csv.reader(f))\n",
    "\n",
    "goldList = [(c[0].strip('.0123456789'), c[1]) for c in reader[1:reader.index(['Silver'])] if c != []]\n",
    "silverList = [(c[0].strip('.0123456789'), c[1]) for c in reader[reader.index(['Silver']) + 1:reader.index(['Bronze'])] if c != []]\n",
    "bronzeList = [(c[0].strip('.0123456789'), c[1]) for c in reader[reader.index(['Bronze']) + 1:] if c != []]\n",
    "\n",
    "medal_count = {c[1].strip():() for c in goldList + silverList + bronzeList}\n",
    "\n",
    "for c in medal_count:\n",
    "    medal_count[c] = (len([i for i in goldList if i[1] == c]), len([i for i in silverList if i[1] == c]), len([i for i in bronzeList if i[1] == c]))\n",
    "\n",
    "def medalCount(l):\n",
    "    return sum(l[1])\n",
    "\n",
    "print([c[0] for c in sorted(medal_count.items(), reverse = True, key = medalCount)[:5]])"
   ]
  },
  {
   "attachments": {},
   "cell_type": "markdown",
   "metadata": {},
   "source": [
    "## Exercise 5.10\n",
    "\n",
    "A text file, `MARKET_PRICES.TXT`, contains the in-game prices for 6 items, Widowbloom, Rising Glory, Marrowroot, Vigil's Torch, Nighshade and Spectral Flask of Power from 1 December 2020 to 3 March 2021. Each line contains tab-delimited data that shows the date and the prices (in copper coins) of the 6 items.\n",
    "\n",
    "Each line is in the format:\n",
    "\n",
    ">``` text\n",
    ">YYYY-MM-DD\\tWIDOWBLOOM\\tRISING_GLORY\\t\\MARROWROOT\\tVIGILS_TORCH\\tNIGHTSHADE\\tSPECTRAL_FLASK_OF_POWER\\n\n",
    ">```\n",
    "\n",
    "- The date is of the form `YYYY-MM-DD`, for example, `2020-12-03` is 3rd December, 2020.\n",
    "- WIDOWBLOOM, RISING_GLORY, MARROWROOT, VIGILS_TORCH, NIGHTSHADE, SPECTRAL_FLASK_OF_POWER are all integers.\n",
    "- `\\t` represents the tab character\n",
    "- `\\n` represents the newline character\n",
    "\n",
    "The text file is stored in ascending order of date and time.\n",
    "\n",
    "### Task 1 \n",
    "\n",
    "Write a program to:\n",
    "\n",
    "- read the price data from the text file,\n",
    "- for each of the 6 items:\n",
    "    - find the highest price and print this value,\n",
    "    - find the lowest price and print this value.\n",
    "\n",
    "### Task 2\n",
    "\n",
    "Suppose you want to play the market by buying and selling the 6 items above, one way to decide on items to invest in is by using the mean and variance of the daily rate of returns of the items. The latter is used to quantify the risk of holding such item.\n",
    "\n",
    "For an item $j$, \n",
    "- the **daily rate of return** of day $i$ to $i+1$, denoted as $r_i$ is defined to be $$r_i=\\frac{p_{i+1}-p_{i}}{p_i},$$ where $p_{i+1}$ and $p_i$ are prices of the item on day $i+1$ and day $i$ respectively,\n",
    "- the mean of the daily rate of returns, denoted as $\\overline{r}$, is just $\\frac{\\sum r_i}{n}$, where $n$ is the number of daily rate of returns recorded,\n",
    "- the variance of the daily rate of returns is $$\\frac{\\sum{(r_i-\\overline{r})^2}}{n},$$ where $\\overline{r}$ is the mean of the daily rate of returns and again $n$ is the number of daily returns recorded.\n",
    "\n",
    "Write a program to:\n",
    "\n",
    "- for each of the 6 items:\n",
    "    - find the mean of the daily rate of return,\n",
    "    - find the variance of the daily rate of return."
   ]
  },
  {
   "cell_type": "code",
   "execution_count": 16,
   "metadata": {},
   "outputs": [
    {
     "name": "stdout",
     "output_type": "stream",
     "text": [
      "widowbloom_price - Highest price: 14031 | Lowest price: 3214\n",
      "risingglory_price - Highest price: 7679 | Lowest price: 2000\n",
      "marrowroot_price - Highest price: 8677 | Lowest price: 2402\n",
      "vigilstorch_price - Highest price: 10086 | Lowest price: 1720\n",
      "nightshade_price - Highest price: 17227 | Lowest price: 3214\n",
      "flask_price - Highest price: 206537 | Lowest price: 62927\n"
     ]
    }
   ],
   "source": [
    "#Exercise 5.10 Task 1\n",
    "import csv\n",
    "\n",
    "with open('./resources/MARKET_PRICES.txt', 'r') as f:\n",
    "    reader = list(csv.reader(f, delimiter = '\\t'))\n",
    "\n",
    "for i, c in enumerate(reader[0][1:]):\n",
    "    print(c + ' - Highest price: ' + str(max([int(x[i + 1]) for x in reader[1:]])) + ' | Lowest price: ' + str(min([int(x[i + 1]) for x in reader[1:]])))"
   ]
  },
  {
   "cell_type": "code",
   "execution_count": 30,
   "metadata": {},
   "outputs": [
    {
     "name": "stdout",
     "output_type": "stream",
     "text": [
      "widowbloom_price - Mean daily rate of return: -0.0010376444950615973 | Variance of daily rate of return: 0.1519472702873504\n",
      "risingglory_price - Mean daily rate of return: 0.016867301821187106 | Variance of daily rate of return: 0.19130550069968555\n",
      "marrowroot_price - Mean daily rate of return: 0.00504444018347577 | Variance of daily rate of return: 0.1897871417680927\n",
      "vigilstorch_price - Mean daily rate of return: 0.00297105595634441 | Variance of daily rate of return: 0.1675349719230819\n",
      "nightshade_price - Mean daily rate of return: -0.005919992740149759 | Variance of daily rate of return: 0.13338540944016336\n",
      "flask_price - Mean daily rate of return: -0.007741258889054321 | Variance of daily rate of return: 0.06809239310499077\n"
     ]
    }
   ],
   "source": [
    "#Exercise 5.10 Task 2\n",
    "import csv\n",
    "import statistics as stat\n",
    "\n",
    "def dailyRate(p1, p2):\n",
    "    return (p2 - p1) / p1\n",
    "\n",
    "def rateList(l):\n",
    "    return [dailyRate(l[i], l[i + 1]) for i, c in enumerate(l[:-1])]\n",
    "\n",
    "import csv\n",
    "\n",
    "with open('./resources/MARKET_PRICES.txt', 'r') as f:\n",
    "    reader = list(csv.reader(f, delimiter = '\\t'))\n",
    "\n",
    "for i, c in enumerate(reader[0][1:]):\n",
    "    priceList = [int(x[i + 1]) for x in reader[1:]]\n",
    "    print(c + ' - Mean daily rate of return: ' + str(stat.mean(rateList(priceList))) + ' | Variance of daily rate of return: ' + str(stat.stdev(rateList(priceList))))"
   ]
  }
 ],
 "metadata": {
  "kernelspec": {
   "display_name": "Python 3",
   "language": "python",
   "name": "python3"
  },
  "language_info": {
   "codemirror_mode": {
    "name": "ipython",
    "version": 3
   },
   "file_extension": ".py",
   "mimetype": "text/x-python",
   "name": "python",
   "nbconvert_exporter": "python",
   "pygments_lexer": "ipython3",
   "version": "3.12.1"
  },
  "vscode": {
   "interpreter": {
    "hash": "a42ccb73e7d9bfdf27e036f1d2b8b681e55fc0743cc5586bc2474d4a60f4b886"
   }
  }
 },
  {
   "cell_type": "markdown",
   "metadata": {},
   "source": [
    "## Exercise 5.11 Jovie/2025\n",
    "\n",
    "A csv file, `homedepot.csv`, contains the locations of all the Home Depot stores in the US. \n",
    "\n",
    "The file is 2018 rows long, and all text fields are quoted.\n",
    "\n",
    "For each store:\n",
    "\n",
    "- The first 2 columns provide the longtitude and latitude of the store respectively. (Not latitude and longtitude)\n",
    "\n",
    "- The third column is in the form \"HD - `CITY` - Store `STORENO`\", where `CITY` is the city where the store is located, and `STORENO` is the store number.\n",
    "\n",
    "- The fourth column is the address of the store, including its ZIP code.\n",
    "\n",
    "### Task 1 \n",
    "\n",
    "Write a program to:\n",
    "\n",
    "- Get user input of a city\n",
    "- Print the addresses of all home depots in that city\n"
   ]
  },
  {
   "cell_type": "code",
   "execution_count": null,
   "metadata": {},
   "outputs": [],
   "source": [
    "with open('./resources/homedepot.csv') as f:\n",
    "    pass\n",
    "    #YOUR CODE HERE"
   ]
  },
  {
   "attachments": {
    "atan2.png": {
     "image/png": "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"
    }
   },
   "cell_type": "markdown",
   "metadata": {},
   "source": [
    "### Task 2\n",
    "\n",
    "Suppose you want to create a program to direct the user to the nearest Home Depot that \n",
    "\n",
    "The spherical distance between 2 points on Earth, with spherical coordinates $(\\phi_1, \\lambda_1)$ and $(\\phi_2, \\lambda_2)$ respectively, can be calculated using the haversine formula, where the distance $d$ is given by\n",
    "\n",
    "$$d = 2R \\operatorname{ atan2}(\\sqrt{a}, \\sqrt{1-a}) $$\n",
    "\n",
    "where \n",
    "- $a = \\sin^2(\\frac{\\Delta \\phi}{2}) + \\cos \\phi_1 ⋅ \\cos \\phi_2 ⋅ \\sin^2(\\frac{\\Delta\\lambda}{2})$,  and \n",
    "- $\\Delta \\phi = \\phi_2 - \\phi_1$, $\\Delta \\lambda = \\lambda_2 - \\lambda_1$\n",
    "- $R$ is the Earth's radius (in km). (Take $R = 6371$)\n",
    "\n",
    "The $\\operatorname{atan2}(y, x)$ function is used to find the angle between the positive $x$-axis and the ray from the origin $(0, 0)$ to $(x, y)$.\n",
    "\n",
    "<center>\n",
    "\n",
    "![atan2.png](attachment:atan2.png)\n",
    "\n",
    "</center>\n",
    "\n",
    "The benefit of using $\\operatorname{atan2}(y, x)$ instead of $\\operatorname{atan}(\\frac{y}{x})$ is that $\\operatorname{atan}(\\frac{y}{x})$ does not consider the quadrant that the point lies in.\n",
    "\n",
    "Take note that $\\operatorname{atan2}()$ takes 2 arguments while $\\operatorname{atan}()$ takes only 1 argument\n",
    "\n",
    "Here is a table to illustrate the differences.\n",
    "\n",
    "<center>\n",
    "\n",
    "|Points  |$\\operatorname{atan}(\\frac{y}{x})$  |$\\operatorname{atan2}(y, x)$|\n",
    "|------  |-----------    |-----------|\n",
    "|$(1, 1)$  |$\\frac\\pi4$    |$\\frac\\pi4$|\n",
    "|$(-1, -1)$|$-\\frac{3\\pi}4$|$\\frac\\pi4$|\n",
    "|$(-1, 0)$ |$-\\pi$         |$0$        |\n",
    "|$(1, 0)$  |$\\pi$          |$0$        |\n",
    "\n",
    "</center>\n",
    "\n",
    "The `atan2()` function can be found in the `math` module in Python.\n",
    "\n",
    "Write a program to:\n",
    "\n",
    "- Get user input of coordinates.\n",
    "    - Coordinates will be entered as a string without parenthesis.\n",
    "    - e.g. `29.979174, 31.415926`\n",
    "- Find the 5 nearest Home Depot stores to the coordinates.\n",
    "    - Find the distance using the formula above.\n",
    "    - Remember to convert coordinates from degrees to radians.\n",
    "- Print the address of the Home Depot stores by distance in ascending order."
   ]
  },
  {
   "cell_type": "code",
   "execution_count": null,
   "metadata": {},
   "outputs": [],
   "source": [
    "from math import atan2\n",
    "with open('./resources/homedepot.csv') as f:\n",
    "    pass\n",
    "    #YOUR CODE HERE"
   ]
  }
 ],
 "metadata": {
  "kernelspec": {
   "display_name": "Python 3",
   "language": "python",
   "name": "python3"
  },
  "language_info": {
   "codemirror_mode": {
    "name": "ipython",
    "version": 3
   },
   "file_extension": ".py",
   "mimetype": "text/x-python",
   "name": "python",
   "nbconvert_exporter": "python",
   "pygments_lexer": "ipython3",
   "version": "3.12.1"
  },
  "vscode": {
   "interpreter": {
    "hash": "a42ccb73e7d9bfdf27e036f1d2b8b681e55fc0743cc5586bc2474d4a60f4b886"
   }
  }
 },
 "nbformat": 4,
 "nbformat_minor": 2
}
