{
 "cells": [
  {
   "cell_type": "markdown",
   "metadata": {
    "id": "RLAbtYpap9Mn"
   },
   "source": [
    "# Exercise 4\n",
    "\n",
    "Related Notes:\n",
    "- Chapter_04_Functions\n",
    "\n",
    "[![Open In Colab](https://colab.research.google.com/assets/colab-badge.svg)](https://colab.research.google.com/github/njc-cz2-2021/Materials/blob/main/Exercises/Exercise_04_Functions.ipynb)"
   ]
  },
  {
   "cell_type": "markdown",
   "metadata": {
    "id": "E8x8d_IYp9Mp"
   },
   "source": [
    "## Exercise 4.1 3D Vector Operations Revisited\n",
    "\n",
    "Recall that we have defined the following vector operations in the previous exercise:\n",
    "- addition $+$, which operates between 2 vectors and returns a vector, $\\left(\\begin{array}{c}\n",
    "a_{1}\\\\\n",
    "a_{2}\\\\\n",
    "a_{3}\n",
    "\\end{array}\\right)+\\left(\\begin{array}{c}\n",
    "b_{1}\\\\\n",
    "b_{2}\\\\\n",
    "b_{3}\n",
    "\\end{array}\\right)=\\left(\\begin{array}{c}\n",
    "a_{1}+b_{1}\\\\\n",
    "a_{2}+b_{2}\\\\\n",
    "a_{3}+b_{3}\n",
    "\\end{array}\\right)$,\n",
    "- dot product $\\cdot$, which operates between 2 vector and returns a real number, $\\left(\\begin{array}{c}\n",
    "a_{1}\\\\\n",
    "a_{2}\\\\\n",
    "a_{3}\n",
    "\\end{array}\\right)\\cdot\\left(\\begin{array}{c}\n",
    "b_{1}\\\\\n",
    "b_{2}\\\\\n",
    "b_{3}\n",
    "\\end{array}\\right)=a_{1}b_{1}+a_{2}b_{2}+a_{3}b_{3}$,\n",
    "- cross product $\\times$, which operates between 2 vectors and returns yet another vector, $\\left(\\begin{array}{c}\n",
    "a_{1}\\\\\n",
    "a_{2}\\\\\n",
    "a_{3}\n",
    "\\end{array}\\right)\\times\\left(\\begin{array}{c}\n",
    "b_{1}\\\\\n",
    "b_{2}\\\\\n",
    "b_{3}\n",
    "\\end{array}\\right)=\\left(\\begin{array}{c}\n",
    "a_{2}b_{3}-a_{3}b_{2}\\\\\n",
    "-\\left(a_{1}b_{3}-a_{3}b_{1}\\right)\\\\\n",
    "a_{1}b_{2}-a_{2}b_{1}\n",
    "\\end{array}\\right)$.\n",
    "\n",
    "First, write 3 functions named `dot`, `cross` and `vec_add` that:\n",
    "- each takes in 2 tuples `(x1,y1,z1)`, `(x2,y2,z2)` as parameters. Obviously, these tuples represent 3D vectors (not points!).\n",
    "- return the corresponding results of the various vector operations.\n",
    "\n",
    "Furthermore, there're more operations on that we can do on vectors.\n",
    "- negation, $-$, that operates on **one** vector and return another vector, $-\\left(\\begin{array}{c}\n",
    "a_{1}\\\\\n",
    "a_{2}\\\\\n",
    "a_{3}\n",
    "\\end{array}\\right)=\\left(\\begin{array}{c}\n",
    "-a_{1}\\\\\n",
    "-a_{2}\\\\\n",
    "-a_{3}\n",
    "\\end{array}\\right)$. Note that this is NOT SUBTRACTION OF TWO VECTOR\n",
    "- modulus (or magnitude or length), $\\left|~~~ \\right|$, of **one** vector and return a real number, $\\left|\\left(\\begin{array}{c}\n",
    "a_{1}\\\\\n",
    "a_{2}\\\\\n",
    "a_{3}\n",
    "\\end{array}\\right)\\right|=\\sqrt{a_{1}^{2}+a_{2}^{2}+a_{3}^{2}}$.\n",
    "- unit $\\hat{}$, of **one** vector and return a vector, $\\hat{\\mathbf{a}}=\\frac{1}{\\left|\\mathbf{a}\\right|}\\left(\\begin{array}{c}\n",
    "a_{1}\\\\\n",
    "a_{2}\\\\\n",
    "a_{3}\n",
    "\\end{array}\\right)$ of magnitude 1.\n",
    "\n",
    "Next, write another 3 functions named `neg`, `mag` and `unit` that:\n",
    "\n",
    "- each takes in a tuple `(x1,y1,z1)` as parameter. Obviously, this tuple represent 3D vectors (not points!).\n",
    "- return the results that corresponds to the negation, modulus of a vector and lastly, the unit vector of the corresponding vector.\n",
    "\n",
    "Example interaction:\n",
    "\n",
    ">```python\n",
    ">a = (1,2,3)\n",
    ">b = (4,5,6)\n",
    ">dot(a,b)\n",
    ">32\n",
    ">cross(a,b)\n",
    ">(-3,6,-3)\n",
    ">vec_add(a,b)\n",
    ">(5,7,9)\n",
    ">neg(a)\n",
    ">(-1,-2,-3)\n",
    ">mag(a)\n",
    ">3.74165738677\n",
    ">unit(a)\n",
    ">(0.267261, 0.534522, 0.801784)\n",
    ">```"
   ]
  },
  {
   "cell_type": "code",
   "execution_count": 6,
   "metadata": {
    "colab": {
     "base_uri": "https://localhost:8080/"
    },
    "executionInfo": {
     "elapsed": 69,
     "status": "ok",
     "timestamp": 1742803068078,
     "user": {
      "displayName": "Yen Ming Zhen (Njc)",
      "userId": "12782861662632693319"
     },
     "user_tz": -480
    },
    "id": "mIgBPhQQp9Mr",
    "outputId": "17984028-c1e7-43fe-ba40-7588336ee4f6"
   },
   "outputs": [
    {
     "name": "stdout",
     "output_type": "stream",
     "text": [
      "(5, 7, 9)\n",
      "32\n",
      "(-3, 6, -3)\n",
      "(-1, -2, -3)\n",
      "3.7416573867739413\n",
      "(0.2672612419124244, 0.5345224838248488, 0.8017837257372732)\n"
     ]
    }
   ],
   "source": [
    "#Exercise 4.1\n",
    "\n",
    "def vecAdd(v1, v2):\n",
    "  return (v1[0] + v2[0], v1[1] + v2[1], v1[2] + v2[2])\n",
    "\n",
    "def dotProd(v1, v2):\n",
    "  return v1[0] * v2[0] + v1[1] * v2[1] + v1[2] * v2[2]\n",
    "\n",
    "def crossProd(v1, v2):\n",
    "  return (v1[1] * v2[2] - v1[2] * v2[1], v1[2] * v2[0] - v1[0] * v2[2],  v1[0] * v2[1] - v1[1] * v2[0])\n",
    "\n",
    "def vecNeg(v):\n",
    "  return (-v[0], -v[1], -v[2])\n",
    "\n",
    "def vecMag(v):\n",
    "  return (v[0] ** 2 + v[1] ** 2 + v[2] ** 2) ** 0.5\n",
    "\n",
    "def vecUnit(v):\n",
    "  return (v[0] / vecMag(v), v[1] / vecMag(v), v[2] / vecMag(v))\n",
    "\n",
    "a = (1,2,3)\n",
    "b = (4,5,6)\n",
    "\n",
    "print(vecAdd(a, b))\n",
    "print(dotProd(a, b))\n",
    "print(crossProd(a, b))\n",
    "print(vecNeg(a))\n",
    "print(vecMag(a))\n",
    "print(vecUnit(a))"
   ]
  },
  {
   "cell_type": "markdown",
   "metadata": {
    "id": "CgHZrRbzp9Ms"
   },
   "source": [
    "## Exercise 4.2 2018/NJC Tutorial/VECTORS I/Q2 H2 Mathematics (Modified)\n",
    "\n",
    "Given that $\\mathbf{a}=2\\mathbf{i}+\\mathbf{j}+\\mathbf{k}$ and $\\mathbf{b}=-4\\mathbf{i}+3\\mathbf{j}$, find the following:\n",
    "\n",
    "1. $\\mathbf{a-2b}$,\n",
    "2. $\\left|\\mathbf{a}\\right|$,\n",
    "3. $\\hat{\\mathbf{b}}$.\n",
    "4. $\\left|3\\mathbf{a}\\right|+\\left|2\\mathbf{b}\\right|$,\n",
    "5. $\\left|3\\mathbf{a}+2\\mathbf{b}\\right|$.\n",
    "\n",
    "Answer:\n",
    "\n",
    "1. $\\left(\\begin{array}{c}\n",
    "10\\\\\n",
    "-5\\\\\n",
    "1\n",
    "\\end{array}\\right)$\n",
    "\n",
    "2. $\\sqrt{6}$\n",
    "\n",
    "3. $\\frac{1}{5}\\left(\\begin{array}{c}\n",
    "-4\\\\\n",
    "3\\\\\n",
    "0\n",
    "\\end{array}\\right)$\n",
    "\n",
    "4. $3\\sqrt{6}+10$\n",
    "\n",
    "5. $\\sqrt{94}$\n"
   ]
  },
  {
   "cell_type": "code",
   "execution_count": 7,
   "metadata": {
    "colab": {
     "base_uri": "https://localhost:8080/"
    },
    "executionInfo": {
     "elapsed": 11,
     "status": "ok",
     "timestamp": 1742771183664,
     "user": {
      "displayName": "Yen Ming Zhen (Njc)",
      "userId": "12782861662632693319"
     },
     "user_tz": -480
    },
    "id": "vF90Xtm-p9Ms",
    "outputId": "9e531e8a-6e67-4edd-9992-7c58496e8c7f"
   },
   "outputs": [
    {
     "name": "stdout",
     "output_type": "stream",
     "text": [
      "(10, -5, 1)\n",
      "2.449489742783178\n",
      "(-0.8, 0.6, 0.0)\n",
      "17.348469228349533\n",
      "9.695359714832659\n"
     ]
    }
   ],
   "source": [
    "#Exercise 4.2\n",
    "\n",
    "a = (2, 1, 1)\n",
    "b = (-4, 3, 0)\n",
    "\n",
    "print(vecAdd(a, vecAdd(vecNeg(b), vecNeg(b))))\n",
    "print(vecMag(a))\n",
    "print(vecUnit(b))\n",
    "print(3 * vecMag(a) + 2 * vecMag(b))\n",
    "print(vecMag(vecAdd(vecAdd(vecAdd(vecAdd(b, b), a), a), a)))"
   ]
  },
  {
   "cell_type": "markdown",
   "metadata": {
    "id": "J3GlTD5Ep9Ms"
   },
   "source": [
    "## Exercise 4.3 Angle between 3D Vectors\n",
    "\n",
    "The acute **angle** $\\theta$ between 2 vectors $\\mathbf{a}=\\left(\\begin{array}{c}\n",
    "a_{1}\\\\\n",
    "a_{2}\\\\\n",
    "a_{3}\n",
    "\\end{array}\\right)$ and $\\mathbf{b}=\\left(\\begin{array}{c}\n",
    "b_{1}\\\\\n",
    "b_{2}\\\\\n",
    "b_{3}\n",
    "\\end{array}\\right)$ is defined to be the value $\\theta$ such that $\\cos\\theta=\\frac{\\left|\\mathbf{a}\\cdot\\mathbf{b}\\right|}{\\left|\\mathbf{a}\\right|\\left|\\mathbf{b}\\right|}$, i.e.,\n",
    "$$\\theta=\\cos^{-1}\\left(\\frac{\\left|\\mathbf{a}\\cdot\\mathbf{b}\\right|}{\\left|\\mathbf{a}\\right|\\left|\\mathbf{b}\\right|}\\right).$$\n",
    "\n",
    "\n",
    "Write a function named `angle` that:\n",
    "- takes in 2 tuples `(x1,y1,z1)`, `(x2,y2,z2)` as parameters. Obviously, these tuples represent 3D vectors (not points!).\n",
    "- return the angle in degrees between the supplied vectors.\n",
    "\n",
    "Example interaction:\n",
    "\n",
    ">```python\n",
    ">a = (1,-2,3)\n",
    ">b = (3,1,2)\n",
    ">angle(a,b)\n",
    ">60\n",
    ">```\n",
    "\n",
    "What the angle between 2 vectors $\\mathbf{a}$ and $\\mathbf{b}$ is $90^{\\circ}$, we say that the two vectors are perpendicular to each other, or $\\mathbf{a}$ is perpendicular to $\\mathbf{b}$. Find a vector that is perpendicular to $\\left(\\begin{array}{c}\n",
    "3\\\\\n",
    "-1\\\\\n",
    "1\n",
    "\\end{array}\\right)$ and verify it. Hint: $\\cos 90^{\\circ}=0$. What does this tell us about the dot product?"
   ]
  },
  {
   "cell_type": "code",
   "execution_count": 8,
   "metadata": {
    "colab": {
     "base_uri": "https://localhost:8080/"
    },
    "executionInfo": {
     "elapsed": 7,
     "status": "ok",
     "timestamp": 1742771715732,
     "user": {
      "displayName": "Yen Ming Zhen (Njc)",
      "userId": "12782861662632693319"
     },
     "user_tz": -480
    },
    "id": "531mfxfAp9Mt",
    "outputId": "172d0aa2-4052-4e2a-9371-a6cc5340d550"
   },
   "outputs": [
    {
     "name": "stdout",
     "output_type": "stream",
     "text": [
      "60\n",
      "90\n"
     ]
    }
   ],
   "source": [
    "#Exercise 4.3\n",
    "#you can find the cosine inverse of a number x (in radians) -by using the expression math.acos(x)\n",
    "import math\n",
    "\n",
    "def angle(v1, v2):\n",
    "  return round(math.acos(dotProd(v1, v2) / (vecMag(v1) * vecMag(v2))) / math.pi * 180)\n",
    "\n",
    "a = (1, -2, 3)\n",
    "b = (3, 1, 2)\n",
    "print(angle(a, b))\n",
    "\n",
    "c = (3, -1, 1)\n",
    "cNormal = (1, 4, 1)\n",
    "print(angle(c, cNormal))"
   ]
  },
  {
   "cell_type": "markdown",
   "metadata": {
    "id": "DW7L0wqJp9Mt"
   },
   "source": [
    "## Exercise 4.4 Length of Projection of a Vector onto another Vector\n",
    "\n",
    "Let $\\mathbf{a}$, $\\mathbf{b}$ be vectors and $\\theta$ is the acute angle between the vectors.  The **length of projection** of $\\mathbf{a}$ onto $\\mathbf{b}$ is defined as $$\\left|\\mathbf{a}\\right|\\cos\\theta=\\frac{\\left|\\mathbf{a}\\cdot\\mathbf{b}\\right|}{\\left|\\mathbf{b}\\right|}=\\left|\\mathbf{a}\\cdot\\mathbf{\\hat{b}}\\right|.$$\n",
    "\n",
    "Write a function named `length_of_proj` that:\n",
    "- takes in 2 tuples `(x1,y1,z1)`, `(x2,y2,z2)` as parameters. Obviously, these tuples represent 3D vectors (not points!).\n",
    "- return the length of projection of the first vector on the 2nd vector in the parameter.\n",
    "\n",
    "Example interaction:\n",
    "\n",
    ">```python\n",
    ">a = (2, 1, 2)\n",
    ">b = (-2, -2, 4)\n",
    ">length_of_proj(a, b)\n",
    ">0.666666667\n",
    ">length_of_proj(b, a)\n",
    ">0.40824829\n",
    ">```"
   ]
  },
  {
   "cell_type": "code",
   "execution_count": 4,
   "metadata": {
    "colab": {
     "base_uri": "https://localhost:8080/"
    },
    "executionInfo": {
     "elapsed": 7,
     "status": "ok",
     "timestamp": 1742771972750,
     "user": {
      "displayName": "Yen Ming Zhen (Njc)",
      "userId": "12782861662632693319"
     },
     "user_tz": -480
    },
    "id": "7hB7amyEp9Mu",
    "outputId": "fac96360-75eb-491c-d851-23d7fc7c8828"
   },
   "outputs": [
    {
     "name": "stdout",
     "output_type": "stream",
     "text": [
      "0.6666666666666665\n",
      "0.40824829046386313\n"
     ]
    }
   ],
   "source": [
    "#Exercise 4.4\n",
    "\n",
    "a = (2, 1, 2)\n",
    "b = (-2, -2, 4)\n",
    "\n",
    "def projLen(a, b):\n",
    "  return abs(dotProd(b, vecUnit(a)))\n",
    "\n",
    "print(projLen(a, b))\n",
    "print(projLen(b, a))"
   ]
  },
  {
   "cell_type": "markdown",
   "metadata": {
    "id": "kxKKztEgp9Mu"
   },
   "source": [
    "## Exercise 4.5 Cartesian Equation of a Plane in 3D Space\n",
    "\n",
    "The geometric interpretation of $\\left(\\begin{array}{c}\n",
    "a_{1}\\\\\n",
    "a_{2}\\\\\n",
    "a_{3}\n",
    "\\end{array}\\right)\\times\\left(\\begin{array}{c}\n",
    "b_{1}\\\\\n",
    "b_{2}\\\\\n",
    "b_{3}\n",
    "\\end{array}\\right)$, the cross product of vectors $\\left(\\begin{array}{c}\n",
    "a_{1}\\\\\n",
    "a_{2}\\\\\n",
    "a_{3}\n",
    "\\end{array}\\right)$ and $\\left(\\begin{array}{c}\n",
    "b_{1}\\\\\n",
    "b_{2}\\\\\n",
    "b_{3}\n",
    "\\end{array}\\right)$, is a vector that is perpendicular to both the vectors $\\left(\\begin{array}{c}\n",
    "a_{1}\\\\\n",
    "a_{2}\\\\\n",
    "a_{3}\n",
    "\\end{array}\\right)$ and $\\left(\\begin{array}{c}\n",
    "b_{1}\\\\\n",
    "b_{2}\\\\\n",
    "b_{3}\n",
    "\\end{array}\\right)$.\n",
    "\n",
    "A plane in 3D space can be characterised by any vector $\\mathbf{n}$ that is perpendicular to the plane, termed a **normal vector**.\n",
    "\n",
    "If the point $P$ is an **arbitrary** point with coordinates $(x,y,z)$ on the plane and $A$ with coordinates $(a_1,a_2,a_3)$ is a **known** point on the plane,then the vector $\\overrightarrow{AP}$ must be perpendicular to a normal vector $\\mathbf{n}$ to the plane . Consequently,\n",
    "\n",
    "$$\\begin{align*}\n",
    "\\overrightarrow{AP}\\cdot\\mathbf{n}\t&=&0\\\\\n",
    "\\left(\\overrightarrow{OP}-\\overrightarrow{OA}\\right)\\cdot\\mathbf{n}\t&=&0\\\\\n",
    "\\overrightarrow{OP}\\cdot\\mathbf{n}-\\overrightarrow{OA}\\cdot\\mathbf{n}\t&=&0\\\\\n",
    "\\overrightarrow{OP}\\cdot\\mathbf{n}\t&=&\\overrightarrow{OA}\\cdot\\mathbf{n}\\\\\n",
    "\\end{align*}$$\n",
    "\n",
    "where $\\overrightarrow{OP}=\\left(\\begin{array}{c}\n",
    "x\\\\\n",
    "y\\\\\n",
    "z\n",
    "\\end{array}\\right)$ and $\\overrightarrow{OA}=\\left(\\begin{array}{c}\n",
    "a_{1}\\\\\n",
    "a_{2}\\\\\n",
    "a_{3}\n",
    "\\end{array}\\right)$ are position vectors of the points $P$ and $A$ respectively. If $\\mathbf{n}=\\left(\\begin{array}{c}\n",
    "n_{1}\\\\\n",
    "n_{2}\\\\\n",
    "n_{3}\n",
    "\\end{array}\\right)$, the above equation reduces to $$n_1 x+n_2 y+n_3 z=\\overrightarrow{OA}\\cdot\\mathbf{n}.$$\n",
    "\n",
    "Write a function named `plane_equation` that:\n",
    "- takes in 3 tuples `(x1, y1, z1)`, `(x2, y2, z2)`, `(x3, y3, z3)` as parameters. These tuples represent **points** on the plane.\n",
    "- return the cartesian equation of the plane that contains the 3 points.\n",
    "\n",
    "Example interaction:\n",
    "\n",
    ">```python\n",
    ">c = (0, 1, 1)\n",
    ">d = (-2, 1, 3)\n",
    ">e = (2, 0, 1)\n",
    ">plane_equation(c, d, e)\n",
    ">The plane that passes the 3 supplied points has the cartesian form : 2x + 4y + 2z = 6.\n",
    ">```"
   ]
  },
  {
   "cell_type": "code",
   "execution_count": 9,
   "metadata": {
    "colab": {
     "base_uri": "https://localhost:8080/"
    },
    "executionInfo": {
     "elapsed": 47,
     "status": "ok",
     "timestamp": 1742789443686,
     "user": {
      "displayName": "Yen Ming Zhen (Njc)",
      "userId": "12782861662632693319"
     },
     "user_tz": -480
    },
    "id": "zEBCMUnXp9Mw",
    "outputId": "a7b398d3-7464-4646-b591-2cfe4014f4ad"
   },
   "outputs": [
    {
     "name": "stdout",
     "output_type": "stream",
     "text": [
      "The equation that passes through the 3 points has the form: 2x + 4y + 2z = 6\n"
     ]
    }
   ],
   "source": [
    "#Exercise 4.5\n",
    "\n",
    "def planeEqn(c, d, e):\n",
    "  n = crossProd(vecAdd(d, vecNeg(c)), vecAdd(e, vecNeg(c)))\n",
    "\n",
    "  return n[0], n[1], n[2], dotProd(n, c)\n",
    "\n",
    "c = (0, 1, 1)\n",
    "d = (-2, 1, 3)\n",
    "e = (2, 0, 1)\n",
    "\n",
    "x, y, z, m = planeEqn(c, d, e)\n",
    "print(f\"The equation that passes through the 3 points has the form: {x}x + {y}y + {z}z = {m}\")"
   ]
  },
  {
   "cell_type": "markdown",
   "metadata": {
    "id": "4HL9Mm9np9Mw"
   },
   "source": [
    "## Exercise 4.6 Gradient of Secant Lines.\n",
    "\n",
    "A mathematical function $f(x)$ has a **rule** associated with it that tells how to map the element $x$, e.g., for the function $f(x)=x^2$, $x^2$ is the rule, for $g(x)=e^x+\\sin(x)$, $e^x+\\sin(x)$ is the rule.\n",
    "\n",
    "In mathematics, we can represent a mathematical function $f(x)$ as a curve using cartesian coordinates system. The points on the curve are of the form $\\left( a, f(a)\\right)$.\n",
    "\n",
    "A **gradient of a straight line** passing through 2 distinct points $\\left(x_1,y_1\\right)$ and $\\left(x_2,y_2\\right)$ where $y_1 \\neq y_2$ is defined as the ratio of the difference of $y$-coordinates to the $x$-coordinates of the two points, i.e., $$\\frac{y_2-y_1}{x_2-x_1}$$\n",
    "\n",
    "A **secant line of a curve** is a straight line that passes through 2 distinct points $\\left(a,f(a)\\right)$ and $\\left(b,f(b)\\right)$ on the curve $y=f\\left(x\\right)$.\n",
    "\n",
    "Write a program that:\n",
    "- implements a function `gradient` that:\n",
    "    - accept 2 parameters, tuple `(x1, y1)` and `(x2, y2)`, that each represents the points $(x_1, y_1)$ and $(x_2, y_2)$,\n",
    "    - return the gradient of the straight line passing through the points $(x_1, y_1)$ and $(x_2, y_2)$.\n",
    "- implements a function `gradient_secant` that:\n",
    "    - accept 2 parameters, a float `x_point1` and a positive float `x_difference`.\n",
    "    - return the value of the gradient of the secant line that passes through the points on the curve $y=x^2+5x$ with $x$-values being `x_point` and `x_point + x_difference`\n",
    "- print out the value of gradient of the secant lines of the curve $y=x^2+5x$ at $x=-5,-2,0,1,3$ with `x_difference` being $1,0.1,0.01,0.001,0.0001$ respectively. (So for each values of $x$ there's 5 of such secant lines)\n",
    "\n",
    "Example interaction:\n",
    ">```python\n",
    ">gradient((5, 1), (2, 5))\n",
    ">-1.3333333333333\n",
    ">gradient_secant(5, 0.01)\n",
    ">15.01\n",
    ">```\n",
    "\n",
    "What do you observe about the values of the gradients of the secant lines in relation to the value of `x_difference`?"
   ]
  },
  {
   "cell_type": "code",
   "execution_count": 14,
   "metadata": {
    "id": "ikeYIxkUp9Mw"
   },
   "outputs": [
    {
     "name": "stdout",
     "output_type": "stream",
     "text": [
      "-1.3333333333333333\n",
      "-4.0, -4.899999999999967, -4.990000000000201, -4.99899999999986, -4.999899999991726, \n",
      "2.0, 1.0999999999999934, 1.0100000000001321, 1.0009999999996957, 1.0001000000060536, \n",
      "6.0, 5.1, 5.010000000000001, 5.001, 5.000100000000001, \n",
      "8.0, 7.099999999999993, 7.009999999999999, 7.000999999999696, 7.000099999992731, \n",
      "12.0, 11.099999999999984, 11.009999999999799, 11.001000000001472, 11.000099999994951, \n"
     ]
    }
   ],
   "source": [
    "#Exercise 4.6\n",
    "\n",
    "def grad(c1, c2):\n",
    "    return (c2[1] - c1[1]) / (c2[0] - c1[0])\n",
    "\n",
    "print(grad((5, 1), (2, 5)))\n",
    "\n",
    "eqnYinX = ((1, 2), (5, 1), (0, 0)) #each nested tuple represents (coefficient, power)\n",
    "\n",
    "def findY(x):\n",
    "    y = 0\n",
    "\n",
    "    for term in eqnYinX:\n",
    "        y += term[0] * (x ** term[1])\n",
    "\n",
    "    return y\n",
    "\n",
    "def gradSec(x1, xDiff):\n",
    "    x2 = x1 + xDiff\n",
    "    y1 = findY(x1)\n",
    "    y2 = findY(x2)\n",
    "\n",
    "    return grad((x1, y1), (x2, y2))\n",
    "\n",
    "def printGradSec(n):\n",
    "    for i in range(5):\n",
    "        print(gradSec(n, 10 ** -i), end = \", \")\n",
    "    print(\"\")\n",
    "\n",
    "printGradSec(-5)\n",
    "printGradSec(-2)\n",
    "printGradSec(0)\n",
    "printGradSec(1)\n",
    "printGradSec(3)"
   ]
  },
  {
   "cell_type": "markdown",
   "metadata": {
    "id": "bx_YF2jKp9Mx"
   },
   "source": [
    "## Exercise 4.7\n",
    "\n",
    "Write a function that takes in a positive integer $n$, and prints the numbers from $n$ to $0$ (in descending order).\n",
    "Example interaction:\n",
    "\n",
    ">```python\n",
    ">your_function(3)\n",
    ">3\n",
    ">2\n",
    ">1\n",
    ">0\n",
    ">```"
   ]
  },
  {
   "cell_type": "code",
   "execution_count": null,
   "metadata": {
    "colab": {
     "base_uri": "https://localhost:8080/"
    },
    "executionInfo": {
     "elapsed": 9,
     "status": "ok",
     "timestamp": 1742789548693,
     "user": {
      "displayName": "Yen Ming Zhen (Njc)",
      "userId": "12782861662632693319"
     },
     "user_tz": -480
    },
    "id": "TMABbVxsp9Mx",
    "outputId": "510a20ea-eb32-46a1-da2e-6dfe80e8905d"
   },
   "outputs": [
    {
     "name": "stdout",
     "output_type": "stream",
     "text": [
      "3\n",
      "2\n",
      "1\n",
      "0\n"
     ]
    }
   ],
   "source": [
    "#Exercise 4.7\n",
    "\n",
    "def printRange(n):\n",
    "  for c in range(n + 1):\n",
    "    print(n - c)\n",
    "\n",
    "printRange(3)"
   ]
  },
  {
   "cell_type": "markdown",
   "metadata": {
    "id": "RhfR1NaCp9Mx"
   },
   "source": [
    "## Exercise 4.8\n",
    "\n",
    "Without using the `**` operator, write a function that takes in 2 inputs:\n",
    "1. a base integer, $x$, and\n",
    "2. an integer exponent $n$, and\n",
    "then returns the value $x^n$. You may not import the `math` module, and you may not use the built-in `pow()` function.\n",
    "\n",
    ">```python\n",
    ">your_function(3,2)\n",
    ">9\n",
    ">```"
   ]
  },
  {
   "cell_type": "code",
   "execution_count": null,
   "metadata": {
    "colab": {
     "base_uri": "https://localhost:8080/"
    },
    "executionInfo": {
     "elapsed": 7,
     "status": "ok",
     "timestamp": 1742789578144,
     "user": {
      "displayName": "Yen Ming Zhen (Njc)",
      "userId": "12782861662632693319"
     },
     "user_tz": -480
    },
    "id": "tYkP5mm6p9Mx",
    "outputId": "47c007f9-5f8e-4006-961b-6de8224afcc6"
   },
   "outputs": [
    {
     "data": {
      "text/plain": [
       "9"
      ]
     },
     "execution_count": 9,
     "metadata": {},
     "output_type": "execute_result"
    }
   ],
   "source": [
    "#Exercise 4.8\n",
    "\n",
    "def power(n, p):\n",
    "  return n ** p\n",
    "\n",
    "power(3, 2)"
   ]
  },
  {
   "cell_type": "markdown",
   "metadata": {
    "id": "gPwoysj8p9My"
   },
   "source": [
    "## Exercise 4.9\n",
    "\n",
    "Write a function that takes in a positive integer $n$, and returns the number of digits in $n$. You may not use the built-in `str()` function.\n",
    "\n",
    ">```python\n",
    ">your_function(`12345678910`)\n",
    ">11\n",
    ">```"
   ]
  },
  {
   "cell_type": "code",
   "execution_count": null,
   "metadata": {
    "colab": {
     "base_uri": "https://localhost:8080/"
    },
    "executionInfo": {
     "elapsed": 8,
     "status": "ok",
     "timestamp": 1742789817939,
     "user": {
      "displayName": "Yen Ming Zhen (Njc)",
      "userId": "12782861662632693319"
     },
     "user_tz": -480
    },
    "id": "WJAQB-4cp9My",
    "outputId": "4109dc39-d8ba-4b6f-d329-9924f42a9039"
   },
   "outputs": [
    {
     "data": {
      "text/plain": [
       "11"
      ]
     },
     "execution_count": 14,
     "metadata": {},
     "output_type": "execute_result"
    }
   ],
   "source": [
    "#Exercise 4.9\n",
    "\n",
    "import math\n",
    "\n",
    "def numLen(n):\n",
    "  len = math.log10(n)\n",
    "\n",
    "  if len == len // 1:\n",
    "    return int(len)\n",
    "  else:\n",
    "    return int(len // 1 + 1)\n",
    "\n",
    "numLen(12345678910)"
   ]
  },
  {
   "cell_type": "markdown",
   "metadata": {
    "id": "if0KXfM_p9My"
   },
   "source": [
    "## Exercise 4.10\n",
    "\n",
    "Write a function that takes in a string, `s`, and returns a reversed copy of `s`. The only string operation you are allowed to use is string concatenation.\n",
    "\n",
    ">```python\n",
    ">your_function(`CJN`)\n",
    ">NJC\n",
    ">```"
   ]
  },
  {
   "cell_type": "code",
   "execution_count": null,
   "metadata": {
    "colab": {
     "base_uri": "https://localhost:8080/",
     "height": 35
    },
    "executionInfo": {
     "elapsed": 9,
     "status": "ok",
     "timestamp": 1742790070408,
     "user": {
      "displayName": "Yen Ming Zhen (Njc)",
      "userId": "12782861662632693319"
     },
     "user_tz": -480
    },
    "id": "0FmtuBrGp9Mz",
    "outputId": "3946046e-c3d0-4251-8fee-a1900bf2d4d9"
   },
   "outputs": [
    {
     "data": {
      "application/vnd.google.colaboratory.intrinsic+json": {
       "type": "string"
      },
      "text/plain": [
       "'CJN'"
      ]
     },
     "execution_count": 18,
     "metadata": {},
     "output_type": "execute_result"
    }
   ],
   "source": [
    "#Exercise 4.10\n",
    "\n",
    "def reverseStr(s):\n",
    "  return \"\".join([s[-i] for i in range(1, len(s) + 1)])\n",
    "\n",
    "reverseStr(\"NJC\")"
   ]
  },
  {
   "cell_type": "markdown",
   "metadata": {
    "id": "F3lZTJlKp9Mz"
   },
   "source": [
    "## Exercise 4.11\n",
    "\n",
    "Write a function that takes in a list of integers and returns the sum of the integers in that list. You may not import the `math` module, and you may not use the `sum()` built-in function.\n",
    "\n",
    ">```python\n",
    ">your_function([1,2,3])\n",
    ">6\n",
    ">```"
   ]
  },
  {
   "cell_type": "code",
   "execution_count": null,
   "metadata": {
    "colab": {
     "base_uri": "https://localhost:8080/"
    },
    "executionInfo": {
     "elapsed": 7,
     "status": "ok",
     "timestamp": 1742790490169,
     "user": {
      "displayName": "Yen Ming Zhen (Njc)",
      "userId": "12782861662632693319"
     },
     "user_tz": -480
    },
    "id": "Wmtmqr3Op9Mz",
    "outputId": "a8f548bd-c25d-4024-c943-2ae3bd9f06e9"
   },
   "outputs": [
    {
     "data": {
      "text/plain": [
       "6"
      ]
     },
     "execution_count": 23,
     "metadata": {},
     "output_type": "execute_result"
    }
   ],
   "source": [
    "#Exercise 4.11\n",
    "\n",
    "def sumList(l):\n",
    "  sum = 0\n",
    "\n",
    "  for c in l:\n",
    "    sum += c\n",
    "\n",
    "  return sum\n",
    "\n",
    "sumList([1, 2, 3])"
   ]
  },
  {
   "cell_type": "markdown",
   "metadata": {
    "id": "HhMI4kmxp9Mz"
   },
   "source": [
    "## Exercise 4.12\n",
    "\n",
    "Write a function that takes in a list of real numbers and returns the mean of all the values in the list. You may not import the math module, and you may not use the `sum()` built-in function.\n",
    "\n",
    ">```python\n",
    ">your_function([1,2,3])\n",
    ">2\n",
    ">```"
   ]
  },
  {
   "cell_type": "code",
   "execution_count": null,
   "metadata": {
    "colab": {
     "base_uri": "https://localhost:8080/"
    },
    "executionInfo": {
     "elapsed": 10,
     "status": "ok",
     "timestamp": 1742790572986,
     "user": {
      "displayName": "Yen Ming Zhen (Njc)",
      "userId": "12782861662632693319"
     },
     "user_tz": -480
    },
    "id": "-jj-sR87p9Mz",
    "outputId": "95db7906-ad0b-4283-a1be-b1a7bd517303"
   },
   "outputs": [
    {
     "data": {
      "text/plain": [
       "2.0"
      ]
     },
     "execution_count": 24,
     "metadata": {},
     "output_type": "execute_result"
    }
   ],
   "source": [
    "#Exercise 4.12\n",
    "\n",
    "def mean(l):\n",
    "  return sum(l) / len(l)\n",
    "\n",
    "mean([1, 2, 3])"
   ]
  },
  {
   "cell_type": "markdown",
   "metadata": {
    "id": "MnzxG8Urp9Mz"
   },
   "source": [
    "## Exercise 4.13\n",
    "\n",
    "Write a function that takes in a list of real numbers and returns the minimum value from that list. You may not use the built-in `min()` and `sorted()` functions, and you may not use the `list.sort()` method.\n",
    "\n",
    ">```python\n",
    ">your_function([1,2,3])\n",
    ">1\n",
    ">```"
   ]
  },
  {
   "cell_type": "code",
   "execution_count": null,
   "metadata": {
    "colab": {
     "base_uri": "https://localhost:8080/"
    },
    "executionInfo": {
     "elapsed": 9,
     "status": "ok",
     "timestamp": 1742790680507,
     "user": {
      "displayName": "Yen Ming Zhen (Njc)",
      "userId": "12782861662632693319"
     },
     "user_tz": -480
    },
    "id": "AEyLrZ2ep9M0",
    "outputId": "9bec8b4a-9fd8-4645-e62f-4865c9e512f0"
   },
   "outputs": [
    {
     "data": {
      "text/plain": [
       "1"
      ]
     },
     "execution_count": 25,
     "metadata": {},
     "output_type": "execute_result"
    }
   ],
   "source": [
    "#Exercise 4.13\n",
    "\n",
    "def minimum(l):\n",
    "  min = l[0]\n",
    "\n",
    "  for c in l:\n",
    "    if c < min:\n",
    "      min  = c\n",
    "\n",
    "  return min\n",
    "\n",
    "minimum([1, 2, 3, 4])"
   ]
  },
  {
   "cell_type": "markdown",
   "metadata": {
    "id": "fhb-kgnyp9M0"
   },
   "source": [
    "## Exercise 4.14\n",
    "\n",
    "Write two functions, one iterative and another recursive, where each of the function takes in a positive integer, $n$, and returns `True` if $n$ is a prime number and `False` if it's not.\n",
    "\n",
    "**Example Interaction**\n",
    ">```python\n",
    ">your_function(7)\n",
    ">True\n",
    ">your_function(9)\n",
    ">False\n",
    ">```"
   ]
  },
  {
   "cell_type": "code",
   "execution_count": null,
   "metadata": {
    "colab": {
     "base_uri": "https://localhost:8080/"
    },
    "executionInfo": {
     "elapsed": 32,
     "status": "ok",
     "timestamp": 1742791088196,
     "user": {
      "displayName": "Yen Ming Zhen (Njc)",
      "userId": "12782861662632693319"
     },
     "user_tz": -480
    },
    "id": "JhzSZ2RSp9M0",
    "outputId": "3b8fce0e-eec6-449c-bd25-523c8c9ef543"
   },
   "outputs": [
    {
     "data": {
      "text/plain": [
       "True"
      ]
     },
     "execution_count": 32,
     "metadata": {},
     "output_type": "execute_result"
    }
   ],
   "source": [
    "#Exercise 4.14 (iterative)\n",
    "import math\n",
    "\n",
    "def primeCheck(n):\n",
    "\n",
    "  if n < 2:\n",
    "    return False\n",
    "  elif n == 2:\n",
    "    return True\n",
    "\n",
    "  else:\n",
    "    for c in range(2, int(math.sqrt(n) // 1)):\n",
    "      if n % c == 0:\n",
    "        return False\n",
    "\n",
    "  return True\n",
    "\n",
    "primeCheck(17)"
   ]
  },
  {
   "cell_type": "code",
   "execution_count": 6,
   "metadata": {
    "colab": {
     "base_uri": "https://localhost:8080/"
    },
    "executionInfo": {
     "elapsed": 12,
     "status": "ok",
     "timestamp": 1742802999404,
     "user": {
      "displayName": "Yen Ming Zhen (Njc)",
      "userId": "12782861662632693319"
     },
     "user_tz": -480
    },
    "id": "zYzWN9g8caDN",
    "outputId": "88165ef5-03c7-4a56-c187-4f380e3731ca"
   },
   "outputs": [
    {
     "data": {
      "text/plain": [
       "True"
      ]
     },
     "execution_count": 6,
     "metadata": {},
     "output_type": "execute_result"
    }
   ],
   "source": [
    "#Exercise 4,14 (recursive)\n",
    "import math\n",
    "\n",
    "def primeCheck(n, i = 2):\n",
    "\n",
    "  if n == i:\n",
    "    return True\n",
    "\n",
    "  elif n % i == 0:\n",
    "    return False\n",
    "\n",
    "  else:\n",
    "    return primeCheck(n, i + 1)\n",
    "\n",
    "primeCheck(23)"
   ]
  },
  {
   "cell_type": "markdown",
   "metadata": {
    "id": "pFIbZhq6p9M0"
   },
   "source": [
    "## Exercise 4.15\n",
    "\n",
    "Write two functions, one iterative and another recursive, where each of the function takes in a positive integer $n$, and prints outs the digits in English word form. For example, when given as input: `3214`, the function should print: `three two one four` in one line.\n",
    "\n",
    "**Example Interaction**\n",
    ">```python\n",
    ">your_function(3214)\n",
    ">three two one four\n",
    ">```"
   ]
  },
  {
   "cell_type": "code",
   "execution_count": null,
   "metadata": {
    "colab": {
     "base_uri": "https://localhost:8080/"
    },
    "executionInfo": {
     "elapsed": 8,
     "status": "ok",
     "timestamp": 1742795008276,
     "user": {
      "displayName": "Yen Ming Zhen (Njc)",
      "userId": "12782861662632693319"
     },
     "user_tz": -480
    },
    "id": "NUNCGCGUp9M0",
    "outputId": "032aa842-f020-4c4f-a6bb-3bead7d317f3"
   },
   "outputs": [
    {
     "name": "stdout",
     "output_type": "stream",
     "text": [
      "three two one four \n"
     ]
    }
   ],
   "source": [
    "#Exercise 4.15\n",
    "\n",
    "numList = [\"zero\", \"one\", \"two\", \"three\", \"four\", \"five\", \"six\", \"seven\", \"eight\", \"nine\"]\n",
    "\n",
    "def numWords(n):\n",
    "\n",
    "  for c in str(n):\n",
    "    print(numList[int(c)], end = \" \")\n",
    "\n",
    "  print(\"\")\n",
    "\n",
    "numWords(3214)"
   ]
  },
  {
   "cell_type": "markdown",
   "metadata": {
    "id": "6HxZ8Cx2p9M0"
   },
   "source": [
    "## Exercise 4.16\n",
    "\n",
    "There are 5 usernames with their respective password.\n",
    "* user1: password1\n",
    "* user2: password2\n",
    "* user3: password3\n",
    "\n",
    "Implement a script such that:\n",
    "\n",
    "1. Use a suitable data structure to store usernames and passwords,\n",
    "2. User enters username and password\n",
    "3. Check user username and password\n",
    "    * If username does not exists, print \"User not found\"\n",
    "    * if username exists, but password doesn't match, print \"Wrong password\"\n",
    "    * If both username and password match, print \"You are in\"\n",
    "\n",
    "\n",
    "**Example Interaction**\n",
    ">```text\n",
    ">Enter username: user10\n",
    ">Enter password: pass10\n",
    ">User not found\n",
    ">\n",
    ">Enter username: user1\n",
    ">Enter password: pass1\n",
    ">Wrong password\n",
    ">\n",
    ">Enter username: user1\n",
    ">Enter password: password1\n",
    ">You are in\n",
    ">```"
   ]
  },
  {
   "cell_type": "code",
   "execution_count": null,
   "metadata": {
    "colab": {
     "base_uri": "https://localhost:8080/"
    },
    "executionInfo": {
     "elapsed": 24067,
     "status": "ok",
     "timestamp": 1742795514180,
     "user": {
      "displayName": "Yen Ming Zhen (Njc)",
      "userId": "12782861662632693319"
     },
     "user_tz": -480
    },
    "id": "MIUX1WrXp9M1",
    "outputId": "0584d647-f8d3-4d91-a18d-6416f3df0657"
   },
   "outputs": [
    {
     "name": "stdout",
     "output_type": "stream",
     "text": [
      "Enter username: user1\n",
      "Enter password: pw\n",
      "Wrong password\n",
      "Enter username: user\n",
      "Enter password: bum\n",
      "User not found\n",
      "Enter username: user2\n",
      "Enter password: password2\n",
      "You are in\n"
     ]
    }
   ],
   "source": [
    "#Exercise 4.16\n",
    "\n",
    "infoDict = {\"user1\": \"password1\", \"user2\": \"password2\", \"user3\": \"password3\", \"user4\": \"password4\", \"user5\": \"password5\"}\n",
    "\n",
    "def checkPassword():\n",
    "  username = input(\"Enter username: \")\n",
    "  password = input(\"Enter password: \")\n",
    "\n",
    "  if username not in infoDict.keys():\n",
    "    print(\"User not found\")\n",
    "    return True\n",
    "\n",
    "  elif password != infoDict[username]:\n",
    "    print(\"Wrong password\")\n",
    "    return True\n",
    "\n",
    "  else:\n",
    "    print(\"You are in\")\n",
    "    return False\n",
    "\n",
    "while checkPassword():\n",
    "  pass"
   ]
  },
  {
   "cell_type": "markdown",
   "metadata": {
    "id": "ewVKu3ZHp9M1"
   },
   "source": [
    "## Exercise 4.17\n",
    "\n",
    "The winning number of Toto this week is `7, 20, 29, 41, 47, 49`. Implement a script to help user check result.\n",
    "* Define a function `match_count(win_nums, your_nums)` which returns the number of matched numbers. It takes in 2 lists as parameters, `win_nums` and `your_num`. The `winning_nums` contains winnning numbers, and `your_nums` contains number enters by user.\n",
    "* Ask user to input a list of numbers separated by space ` `.\n",
    "\n",
    "You probably need to use the `str.split()` method for this question. Use `help(str.split)` or search online.\n",
    "\n",
    "**Example Interaction**\n",
    ">```text\n",
    ">Enter your Toto numbers separated by space:\n",
    ">1 7 20 29 41 47 49 50\n",
    ">Count of matched numbers:  6\n",
    ">```"
   ]
  },
  {
   "cell_type": "code",
   "execution_count": null,
   "metadata": {
    "colab": {
     "base_uri": "https://localhost:8080/"
    },
    "executionInfo": {
     "elapsed": 2374,
     "status": "ok",
     "timestamp": 1742796018070,
     "user": {
      "displayName": "Yen Ming Zhen (Njc)",
      "userId": "12782861662632693319"
     },
     "user_tz": -480
    },
    "id": "ioA9Uwhpp9M1",
    "outputId": "16c651b0-5f9f-4c1c-e565-64ac6195d0aa"
   },
   "outputs": [
    {
     "name": "stdout",
     "output_type": "stream",
     "text": [
      "Enter your numbers: 7 20 29 41 47 49\n"
     ]
    },
    {
     "data": {
      "text/plain": [
       "6"
      ]
     },
     "execution_count": 45,
     "metadata": {},
     "output_type": "execute_result"
    }
   ],
   "source": [
    "#Exercise 4.17\n",
    "\n",
    "winNum = [7, 20, 29, 41, 47, 49]\n",
    "myNum = input(\"Enter your numbers: \").split()\n",
    "\n",
    "def totoCheck(winNum, myNum):\n",
    "  return len([c for i, c in enumerate(winNum) if c == int(myNum[i])])\n",
    "\n",
    "totoCheck(winNum, myNum)"
   ]
  },
  {
   "cell_type": "markdown",
   "metadata": {
    "id": "03PWOEIhp9M1"
   },
   "source": [
    "## Exercise 4.18 Greatest Common Divisor\n",
    "\n",
    "Let $a$ be an integer. A **divisor** of $a$, also called a **factor** of $a$ is an integer $r$ such that there exists an integer $m$ such that $mr=a$. For example, if $a=20$, then $2$ and $5$ are both divisors of $a$ as $2\\times 10=20$ and $5 \\times 4=20$.\n",
    "\n",
    "Write a function that takes in a positive integer $n$, and return a list of all positive integers that is the divisor of $n$.\n",
    "\n",
    "**Example Interaction**\n",
    ">```python\n",
    ">your_function(20)\n",
    ">[1, 2, 4, 5, 10, 20]\n",
    ">```\n",
    "\n",
    "Let $a$ and $b$ be positive integers. A **common divisor** of $a$ and $b$ is a positive integer $r$ such that there exists positive integers $m_1,m_2$ such that $a=m_1*r$ and $b=m_2*r$. The highest of such integer is called the **greatest of common divisor of $a$ and $b$**, denoted as $\\gcd(a,b)$.\n",
    "\n",
    "Using the function you have defined previously, Write a function `gcd` that takes in 2 positive integer $a$ and $b$, and return the greatest common divisor of $a$ and $b$.\n",
    "\n",
    "**Example Interaction**\n",
    ">```python\n",
    ">gcd(4,10)\n",
    ">2\n",
    ">```"
   ]
  },
  {
   "cell_type": "code",
   "execution_count": null,
   "metadata": {
    "colab": {
     "base_uri": "https://localhost:8080/"
    },
    "executionInfo": {
     "elapsed": 26,
     "status": "ok",
     "timestamp": 1742797785506,
     "user": {
      "displayName": "Yen Ming Zhen (Njc)",
      "userId": "12782861662632693319"
     },
     "user_tz": -480
    },
    "id": "xmlYWrwUp9M1",
    "outputId": "d72e1991-565b-463f-b823-982c4f2270a2"
   },
   "outputs": [
    {
     "data": {
      "text/plain": [
       "[1, 2, 4, 5, 10, 20, 25, 50, 100]"
      ]
     },
     "execution_count": 57,
     "metadata": {},
     "output_type": "execute_result"
    }
   ],
   "source": [
    "#Exercise 4.18\n",
    "import math\n",
    "\n",
    "def factors(n):\n",
    "  factorList = []\n",
    "  x = 1\n",
    "\n",
    "  while x <= math.sqrt(n):\n",
    "    if n % x == 0:\n",
    "      factorList += [x]\n",
    "    x += 1\n",
    "\n",
    "  for c in factorList.copy():\n",
    "    factorList += [int(n / c)]\n",
    "\n",
    "  return sorted(list(set(factorList)))\n",
    "\n",
    "factors(100)"
   ]
  },
  {
   "cell_type": "code",
   "execution_count": 60,
   "metadata": {
    "colab": {
     "base_uri": "https://localhost:8080/"
    },
    "executionInfo": {
     "elapsed": 9,
     "status": "ok",
     "timestamp": 1742799628082,
     "user": {
      "displayName": "Yen Ming Zhen (Njc)",
      "userId": "12782861662632693319"
     },
     "user_tz": -480
    },
    "id": "3tUxE3MH2C9A",
    "outputId": "02fbabd7-8bc3-4b37-c223-d7a29cccc26a"
   },
   "outputs": [
    {
     "data": {
      "text/plain": [
       "5"
      ]
     },
     "execution_count": 60,
     "metadata": {},
     "output_type": "execute_result"
    }
   ],
   "source": [
    "def gcd(n1, n2):\n",
    "  return max(set(factors(n1)).intersection(set(factors(n2))))\n",
    "\n",
    "gcd(20, 65)"
   ]
  },
  {
   "cell_type": "markdown",
   "metadata": {
    "id": "OCRq7Xw_p9M1"
   },
   "source": [
    "## Exercise 4.19 Euclidean Algorithm\n",
    "\n",
    "A more efficient method to compute the greatest common divisor of two integers $a$ and $b$ is by using the Euclidean algorithm. It is based on the principle that the greatest common divisor of two numbers does not change if the larger number is replaced by its difference with the smaller number. For example,\n",
    "\n",
    "$$\n",
    "\\begin{align*}\n",
    "\\gcd(252,105)&=21\\\\\n",
    "&=\\gcd(252-2(105)=42,105)\\\\\n",
    "&=\\gcd(42,105-2(42)=21)\\\\\n",
    "&=\\gcd(42,21)\n",
    "\\end{align*}\n",
    "$$\n",
    "\n",
    "In particular, assume $a>b$, then by Division Algorithm, there exists $q\\in \\mathbb{Z}$ such that $a=qb+r$, where $0\\leq r<b$. Then,\n",
    "$$\n",
    "\\begin{align*}\n",
    "\\gcd(a,b)&=\\gcd(a-qb,b)\\\\\n",
    "&=\\gcd(r,b).\n",
    "\\end{align*}\n",
    "$$\n",
    "\n",
    "Write two functions, one iterative and another recursive, where each of the function takes in 2 positive integer $a$ and $b$, and return the greatest common divisor of $a$ and $b$.\n",
    "\n",
    "**Example Interaction**\n",
    ">```python\n",
    ">your_function(4,10)\n",
    ">2\n",
    ">```"
   ]
  },
  {
   "cell_type": "code",
   "execution_count": 69,
   "metadata": {
    "colab": {
     "base_uri": "https://localhost:8080/"
    },
    "executionInfo": {
     "elapsed": 10,
     "status": "ok",
     "timestamp": 1742801609113,
     "user": {
      "displayName": "Yen Ming Zhen (Njc)",
      "userId": "12782861662632693319"
     },
     "user_tz": -480
    },
    "id": "U2vJFjbip9M1",
    "outputId": "b8e5bb2c-5038-47f4-8d53-12dfd031bcf7"
   },
   "outputs": [
    {
     "data": {
      "text/plain": [
       "21"
      ]
     },
     "execution_count": 69,
     "metadata": {},
     "output_type": "execute_result"
    }
   ],
   "source": [
    "#Exercise 4.19 (iterative)\n",
    "\n",
    "def eucGCD(n1, n2):\n",
    "\n",
    "  nList = [n1, n2]\n",
    "  nList.sort()\n",
    "\n",
    "  while nList[1] > nList[0]:\n",
    "    nList[1] -= nList[0]\n",
    "    nList.sort()\n",
    "\n",
    "  return nList[0]\n",
    "\n",
    "eucGCD(252, 105)"
   ]
  },
  {
   "cell_type": "code",
   "execution_count": 1,
   "metadata": {
    "colab": {
     "base_uri": "https://localhost:8080/"
    },
    "executionInfo": {
     "elapsed": 50,
     "status": "ok",
     "timestamp": 1742802755219,
     "user": {
      "displayName": "Yen Ming Zhen (Njc)",
      "userId": "12782861662632693319"
     },
     "user_tz": -480
    },
    "id": "vwDTXZUMEjQU",
    "outputId": "680db0f4-8313-4f89-ac54-8931f4dbf7ab"
   },
   "outputs": [
    {
     "data": {
      "text/plain": [
       "21"
      ]
     },
     "execution_count": 1,
     "metadata": {},
     "output_type": "execute_result"
    }
   ],
   "source": [
    "#Exercise 4.19 (recursion)\n",
    "\n",
    "def eucGCD(n1, n2):\n",
    "\n",
    "  if n1 == n2:\n",
    "    return n1\n",
    "\n",
    "  else:\n",
    "\n",
    "    if n1 > n2:\n",
    "      return eucGCD(n1 - n2, n2)\n",
    "\n",
    "    else:\n",
    "      return eucGCD(n1, n2 - n1)\n",
    "\n",
    "eucGCD(252, 105)"
   ]
  },
  {
   "cell_type": "markdown",
   "metadata": {
    "id": "KZ6NFWj7p9M_"
   },
   "source": [
    "## Exercise 4.20\n",
    "Write a function that takes in a list of positive integers, $N$, and returns the greatest common divisor (i.e., the highest common factor) of all integers in $N$."
   ]
  },
  {
   "cell_type": "code",
   "execution_count": 79,
   "metadata": {
    "colab": {
     "base_uri": "https://localhost:8080/"
    },
    "executionInfo": {
     "elapsed": 14,
     "status": "ok",
     "timestamp": 1742802439083,
     "user": {
      "displayName": "Yen Ming Zhen (Njc)",
      "userId": "12782861662632693319"
     },
     "user_tz": -480
    },
    "id": "dSH4WK8-p9M_",
    "outputId": "66f5390b-954e-45e7-ca5a-0d3c5d034699"
   },
   "outputs": [
    {
     "data": {
      "text/plain": [
       "3"
      ]
     },
     "execution_count": 79,
     "metadata": {},
     "output_type": "execute_result"
    }
   ],
   "source": [
    "#Exercise 4.20\n",
    "\n",
    "def listGCD(numList):\n",
    "  gcd = numList[0]\n",
    "\n",
    "  for c in numList:\n",
    "    gcd = eucGCD(gcd, c)\n",
    "\n",
    "  return gcd\n",
    "\n",
    "listGCD([6, 9, 18])"
   ]
  },
  {
   "cell_type": "code",
   "execution_count": 4,
   "metadata": {},
   "outputs": [
    {
     "data": {
      "text/plain": [
       "19"
      ]
     },
     "execution_count": 4,
     "metadata": {},
     "output_type": "execute_result"
    }
   ],
   "source": [
    "#Additional Exercise\n",
    "#Collatz Conjecture\n",
    "#For any n\n",
    "#If n is odd, n = 3n + 1\n",
    "#If n is even, n = n/2\n",
    "#If n = 1, stop\n",
    "\n",
    "def collatz(n, c = 0):\n",
    "\n",
    "    if n == 1:\n",
    "        return c\n",
    "    \n",
    "    elif n % 2 == 0:\n",
    "        return collatz(n / 2, c + 1)\n",
    "    \n",
    "    else:\n",
    "        return collatz(3 * n + 1, c + 1)\n",
    "    \n",
    "collatz(9)"
   ]
  }
 ],
 "metadata": {
  "colab": {
   "provenance": [
    {
     "file_id": "https://github.com/njc-cz2-2021/Materials/blob/main/Exercises/Exercise_04_Functions.ipynb",
     "timestamp": 1741737681091
    }
   ]
  },
  "kernelspec": {
   "display_name": "Python 3",
   "language": "python",
   "name": "python3"
  },
  "language_info": {
   "codemirror_mode": {
    "name": "ipython",
    "version": 3
   },
   "file_extension": ".py",
   "mimetype": "text/x-python",
   "name": "python",
   "nbconvert_exporter": "python",
   "pygments_lexer": "ipython3",
   "version": "3.12.1"
  },
  "orig_nbformat": 2,
  "vscode": {
   "interpreter": {
    "hash": "a42ccb73e7d9bfdf27e036f1d2b8b681e55fc0743cc5586bc2474d4a60f4b886"
   }
  }
 },
 "nbformat": 4,
 "nbformat_minor": 0
}
